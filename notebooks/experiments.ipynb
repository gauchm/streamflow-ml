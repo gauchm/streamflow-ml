{
 "cells": [
  {
   "cell_type": "code",
   "execution_count": 139,
   "metadata": {},
   "outputs": [
    {
     "name": "stdout",
     "output_type": "stream",
     "text": [
      "The autoreload extension is already loaded. To reload it, use:\n",
      "  %reload_ext autoreload\n"
     ]
    }
   ],
   "source": [
    "%load_ext autoreload\n",
    "%autoreload 2\n",
    "import sys\n",
    "sys.path.append('..')\n",
    "import pandas as pd\n",
    "import numpy as np\n",
    "import torch\n",
    "import matplotlib.pyplot as plt\n",
    "from src import load_data, datasets, conv_lstm, evaluate, utils\n",
    "import netCDF4 as nc\n",
    "from torch import nn\n",
    "from datetime import datetime, timedelta\n",
    "import gdal\n",
    "import os\n",
    "from PIL import Image\n",
    "import PIL\n",
    "import torchvision\n",
    "from torchvision.transforms import ToPILImage, ToTensor, Lambda, RandomRotation"
   ]
  },
  {
   "cell_type": "code",
   "execution_count": 207,
   "metadata": {},
   "outputs": [],
   "source": [
    "landcover_nc = nc.Dataset('../data/NA_NALCMS_LC_30m_LAEA_mmu12_urb05_n40-45w75-90_erie.nc', 'r')"
   ]
  },
  {
   "cell_type": "code",
   "execution_count": 177,
   "metadata": {},
   "outputs": [
    {
     "data": {
      "text/plain": [
       "tensor([[0., 0., 0.],\n",
       "        [0., 0., 0.]])"
      ]
     },
     "execution_count": 177,
     "metadata": {},
     "output_type": "execute_result"
    }
   ],
   "source": [
    "a=torch.Tensor([[1,2,3],[1,2,3]])\n",
    "b=torch.Tensor([1,2,3])\n",
    "a-b"
   ]
  },
  {
   "cell_type": "code",
   "execution_count": 178,
   "metadata": {},
   "outputs": [],
   "source": []
  },
  {
   "cell_type": "code",
   "execution_count": 163,
   "metadata": {},
   "outputs": [],
   "source": [
    "t=torchvision.transforms.Compose([\n",
    "    Lambda(lambda steps: [ToPILImage(mode='F')(step) for step in steps]),\n",
    "    Lambda(lambda steps: [RandomRotation(90,resample=Image.NEAREST)(step) for step in steps]),\n",
    "    Lambda(lambda steps: torch.cat([ToTensor()(step) for step in steps]))\n",
    "    ])"
   ]
  },
  {
   "cell_type": "code",
   "execution_count": 176,
   "metadata": {},
   "outputs": [
    {
     "data": {
      "text/plain": [
       "<matplotlib.image.AxesImage at 0x7faa37c27358>"
      ]
     },
     "execution_count": 176,
     "metadata": {},
     "output_type": "execute_result"
    },
    {
     "data": {
      "image/png": "[encoded data removed]",
      "text/plain": [
       "<Figure size 432x288 with 1 Axes>"
      ]
     },
     "metadata": {
      "needs_background": "light"
     },
     "output_type": "display_data"
    }
   ],
   "source": [
    "r=t(a)\n",
    "plt.imshow(r[14])"
   ]
  },
  {
   "cell_type": "code",
   "execution_count": 23,
   "metadata": {},
   "outputs": [],
   "source": [
    "lats,lons=load_data.load_dem_lats_lons()"
   ]
  },
  {
   "cell_type": "code",
   "execution_count": 190,
   "metadata": {},
   "outputs": [
    {
     "data": {
      "text/plain": [
       "tensor([[0., 0., 0.,  ..., 0., 0., 0.],\n",
       "        [0., 1., 1.,  ..., 1., 1., 0.],\n",
       "        [0., 1., 1.,  ..., 1., 1., 0.],\n",
       "        ...,\n",
       "        [0., 1., 1.,  ..., 1., 1., 0.],\n",
       "        [0., 1., 1.,  ..., 1., 1., 0.],\n",
       "        [0., 0., 0.,  ..., 0., 0., 0.]])"
      ]
     },
     "execution_count": 190,
     "metadata": {},
     "output_type": "execute_result"
    }
   ],
   "source": [
    "a=torch.ones((34,39))\n",
    "b=torch.zeros((34+2,39+2))\n",
    "b[...,1:-1,1:-1]=a\n",
    "b"
   ]
  },
  {
   "cell_type": "code",
   "execution_count": 48,
   "metadata": {},
   "outputs": [],
   "source": [
    "seq_len = 5*24\n",
    "seq_steps = 2\n",
    "stateful_lstm = False\n",
    "validation_fraction, val_start, val_end = None, None, None\n",
    "\n",
    "if stateful_lstm:\n",
    "    val_start = datetime.strptime('2010-01-01', '%Y-%m-%d') + timedelta(hours=seq_len * seq_steps)  # first day for which to make a prediction in train set\n",
    "    val_end = '2010-09-30'\n",
    "    train_start = '2010-10-01'\n",
    "    train_end = '2012-12-31'\n",
    "else:\n",
    "    validation_fraction = 0.1\n",
    "    train_start = datetime.strptime('2010-01-01', '%Y-%m-%d') + timedelta(hours=seq_len * seq_steps)  # first day for which to make a prediction in train set\n",
    "    train_end = '2012-12-31'\n",
    "test_start = '2013-01-01'\n",
    "test_end = '2014-12-31'"
   ]
  },
  {
   "cell_type": "code",
   "execution_count": 49,
   "metadata": {},
   "outputs": [
    {
     "name": "stderr",
     "output_type": "stream",
     "text": [
      "/home/mgauch/miniconda3/envs/gwf/lib/python3.7/site-packages/IPython/core/interactiveshell.py:3296: DtypeWarning: Columns (3) have mixed types. Specify dtype option on import or set low_memory=False.\n",
      "  exec(code_obj, self.user_global_ns, self.user_ns)\n"
     ]
    }
   ],
   "source": [
    "rdrs_vars = list(range(8))\n",
    "train_dataset = datasets.RdrsGridDataset(rdrs_vars, seq_len, seq_steps, train_start, train_end, include_simulated_streamflow=True,out_lats=lats,out_lons=lons)"
   ]
  },
  {
   "cell_type": "code",
   "execution_count": 75,
   "metadata": {},
   "outputs": [
    {
     "name": "stderr",
     "output_type": "stream",
     "text": [
      "../src/load_data.py:467: UserWarning: WARNING: valid_range not used since it\n",
      "cannot be safely cast to variable data type\n",
      "  soil[i*8 + ((j-1)*4 + layer-1)] = soil_nc['Band{}'.format(layer)][:][::-1,:]\\\n"
     ]
    }
   ],
   "source": [
    "ds=datasets.GeophysicalGridDataset(True,True,True,True,lamin,lamax,lomin,lomax)"
   ]
  },
  {
   "cell_type": "code",
   "execution_count": 66,
   "metadata": {},
   "outputs": [],
   "source": [
    "lr=train_dataset.__getitem__(0)['x_conv'][45,4]"
   ]
  },
  {
   "cell_type": "code",
   "execution_count": 168,
   "metadata": {},
   "outputs": [],
   "source": [
    "um=utils.map_to_geophysical_coords(train_dataset.in_lats, train_dataset.in_lons, ds.lats,ds.lons)"
   ]
  },
  {
   "cell_type": "code",
   "execution_count": 176,
   "metadata": {},
   "outputs": [],
   "source": [
    "lrbig=utils.upsample_to_geophysical_input(lr,*um)\n",
    "plt.imshow(lrbig)"
   ]
  },
  {
   "cell_type": "code",
   "execution_count": 159,
   "metadata": {},
   "outputs": [
    {
     "data": {
      "text/plain": [
       "<matplotlib.image.AxesImage at 0x7f5b039fe668>"
      ]
     },
     "execution_count": 159,
     "metadata": {},
     "output_type": "execute_result"
    },
    {
     "data": {
      "image/png": "[encoded data removed]",
      "text/plain": [
       "<Figure size 432x288 with 1 Axes>"
      ]
     },
     "metadata": {
      "needs_background": "light"
     },
     "output_type": "display_data"
    }
   ],
   "source": [
    "plt.imshow(lr)"
   ]
  },
  {
   "cell_type": "code",
   "execution_count": 15,
   "metadata": {},
   "outputs": [],
   "source": [
    "s=gdal.Open('NETCDF:/home/mgauch/RDRS_CaPA24hr_forcings_final.nc:RDRS_HU_40m')"
   ]
  },
  {
   "cell_type": "code",
   "execution_count": 100,
   "metadata": {},
   "outputs": [
    {
     "data": {
      "text/plain": [
       "<osgeo.gdal.Driver; proxy of <Swig Object of type 'GDALDriverShadow *' at 0x7fda3dda7690> >"
      ]
     },
     "execution_count": 100,
     "metadata": {},
     "output_type": "execute_result"
    }
   ],
   "source": [
    "ds.GetDriver()"
   ]
  },
  {
   "cell_type": "code",
   "execution_count": 16,
   "metadata": {},
   "outputs": [],
   "source": [
    "sr=s.GetSpatialRef()"
   ]
  },
  {
   "cell_type": "code",
   "execution_count": 17,
   "metadata": {},
   "outputs": [
    {
     "data": {
      "text/plain": [
       "0"
      ]
     },
     "execution_count": 17,
     "metadata": {},
     "output_type": "execute_result"
    }
   ],
   "source": [
    "proj4 = sr.ExportToProj4()\n",
    "inSpatialRef = osr.SpatialReference()\n",
    "inSpatialRef.ImportFromProj4(proj4)"
   ]
  },
  {
   "cell_type": "code",
   "execution_count": 18,
   "metadata": {},
   "outputs": [
    {
     "data": {
      "text/plain": [
       "'+proj=ob_tran +o_proj=longlat +lon_0=339.131100000000004 +o_lon_p=0 +o_lat_p=6.66816850000000017 +a=6371220 +b=6371220 +to_meter=0.0174532925199 +wktext'"
      ]
     },
     "execution_count": 18,
     "metadata": {},
     "output_type": "execute_result"
    }
   ],
   "source": [
    "proj4"
   ]
  },
  {
   "cell_type": "code",
   "execution_count": 81,
   "metadata": {},
   "outputs": [],
   "source": [
    "from osgeo import osr,ogr"
   ]
  },
  {
   "cell_type": "code",
   "execution_count": 75,
   "metadata": {},
   "outputs": [
    {
     "data": {
      "text/plain": [
       "6"
      ]
     },
     "execution_count": 75,
     "metadata": {},
     "output_type": "execute_result"
    }
   ],
   "source": [
    "outSpatialRef = osr.SpatialReference()\n",
    "outSpatialRef.ImportFromEPSG(4326)"
   ]
  },
  {
   "cell_type": "code",
   "execution_count": 79,
   "metadata": {},
   "outputs": [],
   "source": [
    "coordTrans = osr.CoordinateTransformation(inSpatialRef, outSpatialRef)"
   ]
  },
  {
   "cell_type": "code",
   "execution_count": 82,
   "metadata": {},
   "outputs": [],
   "source": [
    "driver = ogr.GetDriverByName('netCDF')"
   ]
  },
  {
   "cell_type": "code",
   "execution_count": 84,
   "metadata": {},
   "outputs": [],
   "source": [
    "outputShapefile = r'/home/mgauch/test.nc'\n",
    "outDataSet = driver.CreateDataSource(outputShapefile)"
   ]
  },
  {
   "cell_type": "code",
   "execution_count": 85,
   "metadata": {},
   "outputs": [],
   "source": [
    "outLayer = outDataSet.CreateLayer(\"basemap_4326\")"
   ]
  },
  {
   "cell_type": "code",
   "execution_count": 83,
   "metadata": {},
   "outputs": [
    {
     "data": {
      "text/plain": [
       "<osgeo.ogr.Driver; proxy of <Swig Object of type 'OGRDriverShadow *' at 0x7fda3dda7c90> >"
      ]
     },
     "execution_count": 83,
     "metadata": {},
     "output_type": "execute_result"
    }
   ],
   "source": [
    "inLayerDefn = inLayer.GetLayerDefn()\n",
    "for i in range(0, s.GetFieldCount()):\n",
    "    fieldDefn = inLayerDefn.GetFieldDefn(i)\n",
    "    outLayer.CreateField(fieldDefn)"
   ]
  },
  {
   "cell_type": "code",
   "execution_count": 93,
   "metadata": {},
   "outputs": [
    {
     "data": {
      "text/plain": [
       "0"
      ]
     },
     "execution_count": 93,
     "metadata": {},
     "output_type": "execute_result"
    }
   ],
   "source": [
    "s."
   ]
  },
  {
   "cell_type": "code",
   "execution_count": 2,
   "metadata": {},
   "outputs": [
    {
     "name": "stdout",
     "output_type": "stream",
     "text": [
      "Reading red band into memory.\n"
     ]
    }
   ],
   "source": [
    "import os, sys, glob, argparse\n",
    "from osgeo import gdal, osr\n",
    "\n",
    "o_srs = osr.SpatialReference()\n",
    "o_srs.ImportFromEPSG(4326)\n",
    "\n",
    "outputfilename = '/home/mgauch/tmptest/testout.tif'\n",
    "tempfile = '/home/mgauch/tmptest/tmp.tif'\n",
    "\n",
    "# Specify the layer name to read\n",
    "layer_name = \"RDRS_HU_40m\"\n",
    "\n",
    "# Open netcdf file.nc with gdal\n",
    "dsR = gdal.Open(\"NETCDF:/home/mgauch/RDRS_CaPA24hr_forcings_final.nc:{}\".format(layer_name))\n",
    "red_srs = osr.SpatialReference()\n",
    "red_srs.ImportFromWkt(dsR.GetProjectionRef())\n",
    "red_transform = osr.CoordinateTransformation(red_srs, o_srs)\n",
    "\n",
    "# Read full data from netcdf\n",
    "\n",
    "print('Reading red band into memory.')\n",
    "red = dsR.ReadAsArray(0, 0, dsR.RasterXSize, dsR.RasterYSize)"
   ]
  },
  {
   "cell_type": "code",
   "execution_count": 3,
   "metadata": {},
   "outputs": [
    {
     "name": "stdout",
     "output_type": "stream",
     "text": [
      "Stacking data.\n"
     ]
    },
    {
     "data": {
      "text/plain": [
       "0"
      ]
     },
     "execution_count": 3,
     "metadata": {},
     "output_type": "execute_result"
    }
   ],
   "source": [
    "# Stack data and output\n",
    "print('Stacking data.')\n",
    "driver = gdal.GetDriverByName('GTiff')\n",
    "stack = driver.Create('/vsimem/stack.tif', dsR.RasterXSize, dsR.RasterYSize, 3, gdal.GDT_CFloat32)\n",
    "stack.SetProjection(red_srs.ExportToWkt())"
   ]
  },
  {
   "cell_type": "code",
   "execution_count": 10,
   "metadata": {},
   "outputs": [
    {
     "name": "stdout",
     "output_type": "stream",
     "text": [
      "Warping data to new projection.\n"
     ]
    },
    {
     "ename": "TypeError",
     "evalue": "in method 'wrapper_GDALWarpDestName', argument 4 of type 'GDALWarpAppOptions *'",
     "output_type": "error",
     "traceback": [
      "\u001b[0;31m---------------------------------------------------------------------------\u001b[0m",
      "\u001b[0;31mTypeError\u001b[0m                                 Traceback (most recent call last)",
      "\u001b[0;32m<ipython-input-10-ebbd543e4e42>\u001b[0m in \u001b[0;36m<module>\u001b[0;34m\u001b[0m\n\u001b[1;32m      4\u001b[0m     \u001b[0mstack\u001b[0m\u001b[0;34m.\u001b[0m\u001b[0mGetRasterBand\u001b[0m\u001b[0;34m(\u001b[0m\u001b[0mi\u001b[0m\u001b[0;34m)\u001b[0m\u001b[0;34m.\u001b[0m\u001b[0mWriteArray\u001b[0m\u001b[0;34m(\u001b[0m\u001b[0mred\u001b[0m\u001b[0;34m[\u001b[0m\u001b[0mi\u001b[0m\u001b[0;34m]\u001b[0m\u001b[0;34m)\u001b[0m\u001b[0;34m\u001b[0m\u001b[0;34m\u001b[0m\u001b[0m\n\u001b[1;32m      5\u001b[0m \u001b[0mprint\u001b[0m\u001b[0;34m(\u001b[0m\u001b[0;34m'Warping data to new projection.'\u001b[0m\u001b[0;34m)\u001b[0m\u001b[0;34m\u001b[0m\u001b[0;34m\u001b[0m\u001b[0m\n\u001b[0;32m----> 6\u001b[0;31m \u001b[0mwarped\u001b[0m \u001b[0;34m=\u001b[0m \u001b[0mgdal\u001b[0m\u001b[0;34m.\u001b[0m\u001b[0mWarp\u001b[0m\u001b[0;34m(\u001b[0m\u001b[0;34m'/home/mgauch/tmptest/warped.tif'\u001b[0m\u001b[0;34m,\u001b[0m \u001b[0mstack\u001b[0m\u001b[0;34m,\u001b[0m \u001b[0mdstSRS\u001b[0m \u001b[0;34m=\u001b[0m \u001b[0mo_srs\u001b[0m\u001b[0;34m,\u001b[0m \u001b[0moutputType\u001b[0m \u001b[0;34m=\u001b[0m \u001b[0mgdal\u001b[0m\u001b[0;34m.\u001b[0m\u001b[0mGDT_CFloat32\u001b[0m\u001b[0;34m)\u001b[0m\u001b[0;34m\u001b[0m\u001b[0;34m\u001b[0m\u001b[0m\n\u001b[0m\u001b[1;32m      7\u001b[0m \u001b[0;34m\u001b[0m\u001b[0m\n\u001b[1;32m      8\u001b[0m \u001b[0mprint\u001b[0m\u001b[0;34m(\u001b[0m\u001b[0;34m'Writing output to disk.'\u001b[0m\u001b[0;34m)\u001b[0m\u001b[0;34m\u001b[0m\u001b[0;34m\u001b[0m\u001b[0m\n",
      "\u001b[0;32m~/miniconda3/envs/gwf/lib/python3.7/site-packages/osgeo/gdal.py\u001b[0m in \u001b[0;36mWarp\u001b[0;34m(destNameOrDestDS, srcDSOrSrcDSTab, **kwargs)\u001b[0m\n\u001b[1;32m    623\u001b[0m \u001b[0;34m\u001b[0m\u001b[0m\n\u001b[1;32m    624\u001b[0m     \u001b[0;32mif\u001b[0m \u001b[0m_is_str_or_unicode\u001b[0m\u001b[0;34m(\u001b[0m\u001b[0mdestNameOrDestDS\u001b[0m\u001b[0;34m)\u001b[0m\u001b[0;34m:\u001b[0m\u001b[0;34m\u001b[0m\u001b[0;34m\u001b[0m\u001b[0m\n\u001b[0;32m--> 625\u001b[0;31m         \u001b[0;32mreturn\u001b[0m \u001b[0mwrapper_GDALWarpDestName\u001b[0m\u001b[0;34m(\u001b[0m\u001b[0mdestNameOrDestDS\u001b[0m\u001b[0;34m,\u001b[0m \u001b[0msrcDSTab\u001b[0m\u001b[0;34m,\u001b[0m \u001b[0mopts\u001b[0m\u001b[0;34m,\u001b[0m \u001b[0mcallback\u001b[0m\u001b[0;34m,\u001b[0m \u001b[0mcallback_data\u001b[0m\u001b[0;34m)\u001b[0m\u001b[0;34m\u001b[0m\u001b[0;34m\u001b[0m\u001b[0m\n\u001b[0m\u001b[1;32m    626\u001b[0m     \u001b[0;32melse\u001b[0m\u001b[0;34m:\u001b[0m\u001b[0;34m\u001b[0m\u001b[0;34m\u001b[0m\u001b[0m\n\u001b[1;32m    627\u001b[0m         \u001b[0;32mreturn\u001b[0m \u001b[0mwrapper_GDALWarpDestDS\u001b[0m\u001b[0;34m(\u001b[0m\u001b[0mdestNameOrDestDS\u001b[0m\u001b[0;34m,\u001b[0m \u001b[0msrcDSTab\u001b[0m\u001b[0;34m,\u001b[0m \u001b[0mopts\u001b[0m\u001b[0;34m,\u001b[0m \u001b[0mcallback\u001b[0m\u001b[0;34m,\u001b[0m \u001b[0mcallback_data\u001b[0m\u001b[0;34m)\u001b[0m\u001b[0;34m\u001b[0m\u001b[0;34m\u001b[0m\u001b[0m\n",
      "\u001b[0;32m~/miniconda3/envs/gwf/lib/python3.7/site-packages/osgeo/gdal.py\u001b[0m in \u001b[0;36mwrapper_GDALWarpDestName\u001b[0;34m(*args)\u001b[0m\n\u001b[1;32m   3408\u001b[0m \u001b[0;32mdef\u001b[0m \u001b[0mwrapper_GDALWarpDestName\u001b[0m\u001b[0;34m(\u001b[0m\u001b[0;34m*\u001b[0m\u001b[0margs\u001b[0m\u001b[0;34m)\u001b[0m\u001b[0;34m:\u001b[0m\u001b[0;34m\u001b[0m\u001b[0;34m\u001b[0m\u001b[0m\n\u001b[1;32m   3409\u001b[0m     \u001b[0;34m\"\"\"wrapper_GDALWarpDestName(char const * dest, int object_list_count, GDALWarpAppOptions warpAppOptions, GDALProgressFunc callback=0, void * callback_data=None) -> Dataset\"\"\"\u001b[0m\u001b[0;34m\u001b[0m\u001b[0;34m\u001b[0m\u001b[0m\n\u001b[0;32m-> 3410\u001b[0;31m     \u001b[0;32mreturn\u001b[0m \u001b[0m_gdal\u001b[0m\u001b[0;34m.\u001b[0m\u001b[0mwrapper_GDALWarpDestName\u001b[0m\u001b[0;34m(\u001b[0m\u001b[0;34m*\u001b[0m\u001b[0margs\u001b[0m\u001b[0;34m)\u001b[0m\u001b[0;34m\u001b[0m\u001b[0;34m\u001b[0m\u001b[0m\n\u001b[0m\u001b[1;32m   3411\u001b[0m \u001b[0;32mclass\u001b[0m \u001b[0mGDALVectorTranslateOptions\u001b[0m\u001b[0;34m(\u001b[0m\u001b[0m_object\u001b[0m\u001b[0;34m)\u001b[0m\u001b[0;34m:\u001b[0m\u001b[0;34m\u001b[0m\u001b[0;34m\u001b[0m\u001b[0m\n\u001b[1;32m   3412\u001b[0m     \u001b[0;34m\"\"\"Proxy of C++ GDALVectorTranslateOptions class.\"\"\"\u001b[0m\u001b[0;34m\u001b[0m\u001b[0;34m\u001b[0m\u001b[0m\n",
      "\u001b[0;31mTypeError\u001b[0m: in method 'wrapper_GDALWarpDestName', argument 4 of type 'GDALWarpAppOptions *'"
     ]
    }
   ],
   "source": [
    "GeoT = dsR.GetGeoTransform()\n",
    "stack.SetGeoTransform(GeoT)\n",
    "for i in range(1,3+1):\n",
    "    stack.GetRasterBand(i).WriteArray(red[i])\n",
    "print('Warping data to new projection.')\n",
    "warped = gdal.Warp('/home/mgauch/tmptest/warped.tif', stack, dstSRS = o_srs, outputType = gdal.GDT_CFloat32)\n",
    "\n",
    "print('Writing output to disk.')\n",
    "\n",
    "outRaster = gdal.Translate(outputfilename, '/home/mgauch/tmptest/warped.tif')"
   ]
  },
  {
   "cell_type": "code",
   "execution_count": 73,
   "metadata": {},
   "outputs": [
    {
     "name": "stdout",
     "output_type": "stream",
     "text": [
      "Processing complete.\n"
     ]
    }
   ],
   "source": [
    "outRaster = None\n",
    "red = None\n",
    "tmp_ds = None\n",
    "dsR = None\n",
    "\n",
    "print('Processing complete.')"
   ]
  },
  {
   "cell_type": "code",
   "execution_count": 11,
   "metadata": {},
   "outputs": [
    {
     "data": {
      "text/plain": [
       "<osgeo.gdal.Dataset; proxy of <Swig Object of type 'GDALDatasetShadow *' at 0x7f5b16c31630> >"
      ]
     },
     "execution_count": 11,
     "metadata": {},
     "output_type": "execute_result"
    }
   ],
   "source": [
    "stack"
   ]
  },
  {
   "cell_type": "code",
   "execution_count": null,
   "metadata": {},
   "outputs": [],
   "source": []
  }
 ],
 "metadata": {
  "kernelspec": {
   "display_name": "Python 3",
   "language": "python",
   "name": "python3"
  },
  "language_info": {
   "codemirror_mode": {
    "name": "ipython",
    "version": 3
   },
   "file_extension": ".py",
   "mimetype": "text/x-python",
   "name": "python",
   "nbconvert_exporter": "python",
   "pygments_lexer": "ipython3",
   "version": "3.7.3"
  }
 },
 "nbformat": 4,
 "nbformat_minor": 4
}
