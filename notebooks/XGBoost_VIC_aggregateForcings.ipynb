{
 "cells": [
  {
   "cell_type": "markdown",
   "metadata": {},
   "source": [
    "XGBoost to predict streamflow. Forcings are aggregated from hourly to daily to match streamflow resolution."
   ]
  },
  {
   "cell_type": "code",
   "execution_count": 1,
   "metadata": {},
   "outputs": [
    {
     "data": {
      "text/plain": [
       "'20190703-093045'"
      ]
     },
     "execution_count": 1,
     "metadata": {},
     "output_type": "execute_result"
    }
   ],
   "source": [
    "%load_ext autoreload\n",
    "%autoreload 2\n",
    "import sys\n",
    "sys.path.append('..')\n",
    "import os\n",
    "import numpy as np\n",
    "import pandas as pd\n",
    "from matplotlib import pyplot as plt\n",
    "from sklearn import linear_model\n",
    "from sklearn.decomposition import PCA\n",
    "from sklearn import metrics, svm, neural_network, ensemble\n",
    "from datetime import datetime, timedelta\n",
    "import hydroeval\n",
    "import netCDF4 as nc\n",
    "import xgboost as xgb\n",
    "from src import load_data, evaluate\n",
    "\n",
    "np.random.seed(0)\n",
    "\n",
    "time_stamp = datetime.now().strftime('%Y%m%d-%H%M%S')\n",
    "time_stamp"
   ]
  },
  {
   "cell_type": "code",
   "execution_count": 2,
   "metadata": {},
   "outputs": [],
   "source": [
    "station_data_dict = load_data.load_train_test_gridded_aggregatedForcings()"
   ]
  },
  {
   "cell_type": "code",
   "execution_count": null,
   "metadata": {},
   "outputs": [
    {
     "name": "stdout",
     "output_type": "stream",
     "text": [
      "02GA010\n"
     ]
    },
    {
     "name": "stderr",
     "output_type": "stream",
     "text": [
      "/home/mgauch/miniconda3/envs/gwf/lib/python3.7/site-packages/xgboost/core.py:587: FutureWarning: Series.base is deprecated and will be removed in a future version\n",
      "  if getattr(data, 'base', None) is not None and \\\n",
      "/home/mgauch/miniconda3/envs/gwf/lib/python3.7/site-packages/xgboost/core.py:588: FutureWarning: Series.base is deprecated and will be removed in a future version\n",
      "  data.base is not None and isinstance(data, np.ndarray) \\\n"
     ]
    },
    {
     "name": "stdout",
     "output_type": "stream",
     "text": [
      "02GA018\n",
      "02GA038\n",
      "02GA047\n",
      "02GB001\n",
      "02GB007\n",
      "02GC002\n",
      "02GC007\n",
      "02GC010\n",
      "02GC018\n",
      "02GC026\n",
      "02GD004\n",
      "02GE007\n",
      "02GG002\n",
      "02GG003\n",
      "02GG006\n",
      "02GG009\n",
      "02GG013\n",
      "04159492\n",
      "04159900\n",
      "04160600\n",
      "04161820\n",
      "04164000\n",
      "04165500\n",
      "04166100\n",
      "04166500\n",
      "04174500\n",
      "04176500\n",
      "04177000\n",
      "04193500\n"
     ]
    }
   ],
   "source": [
    "# Create test and train splits for each station (by time), then create predictions for each subbasin\n",
    "history = 7\n",
    "train_start = datetime.strptime('2010-01-01', '%Y-%m-%d') + timedelta(days=history + 1)\n",
    "train_end = '2013-12-31'\n",
    "test_start = datetime.strptime(train_end, '%Y-%m-%d') + timedelta(days=1)\n",
    "test_end = '2014-12-31'\n",
    "\n",
    "predictions = {}\n",
    "actuals = {}\n",
    "models = {}\n",
    "for station in station_data_dict.keys():\n",
    "    print(station)\n",
    "    station_data = station_data_dict[station]\n",
    "    station_train = station_data.loc[train_start : train_end]\n",
    "    station_test = station_data.loc[test_start : test_end]\n",
    "\n",
    "    m = xgb.XGBRegressor(seed=123)\n",
    "    m.fit(station_train.drop(['station', 'runoff'], axis=1), station_train['runoff'])\n",
    "\n",
    "    station_test = station_test[~pd.isna(station_test['runoff'])]\n",
    "    if len(station_test) == 0:\n",
    "        print('Skipping', station)\n",
    "        continue\n",
    "\n",
    "    predict = pd.DataFrame(index=station_test.index)\n",
    "    predict = predict.join(station_test.drop(['station', 'runoff'], axis=1))\n",
    "    predict['runoff'] = np.nan\n",
    "    predict['runoff'] = m.predict(predict.drop('runoff', axis=1))\n",
    "\n",
    "    predictions[station] = predict[['runoff']]\n",
    "    actuals[station] = station_test['runoff']\n",
    "    models[station] = m"
   ]
  },
  {
   "cell_type": "code",
   "execution_count": null,
   "metadata": {},
   "outputs": [],
   "source": [
    "nse_list = []\n",
    "mse_list = []\n",
    "for station, predict in predictions.items():\n",
    "    nse, mse = evaluate.evaluate_daily(station, predict, actuals[station], plot=True)\n",
    "    nse_list.append(nse)\n",
    "    mse_list.append(mse)\n",
    "    \n",
    "    print(station, '\\tNSE:', nse, '\\tMSE:', mse, '(clipped to 0)')\n",
    "\n",
    "print('Median NSE (clipped to 0)', np.median(nse_list), '/ Min', np.min(nse_list), '/ Max', np.max(nse_list))\n",
    "print('Median MSE (clipped to 0)', np.median(mse_list), '/ Min', np.min(mse_list), '/ Max', np.max(mse_list))"
   ]
  },
  {
   "cell_type": "code",
   "execution_count": 5,
   "metadata": {},
   "outputs": [
    {
     "data": {
      "text/plain": [
       "'XGBoost_VIC_aggregateForcings_20190703-092630.pkl'"
      ]
     },
     "execution_count": 5,
     "metadata": {},
     "output_type": "execute_result"
    }
   ],
   "source": [
    "load_data.pickle_results('XGBoost_VIC_aggregateForcings', (predictions, actuals), time_stamp)"
   ]
  },
  {
   "cell_type": "code",
   "execution_count": 6,
   "metadata": {},
   "outputs": [
    {
     "name": "stdout",
     "output_type": "stream",
     "text": [
      "Saved model as ../pickle/models/XGBoost_VIC_aggregateForcings_02GA010_20190703-092630.pkl\n",
      "Saved model as ../pickle/models/XGBoost_VIC_aggregateForcings_02GA018_20190703-092630.pkl\n",
      "Saved model as ../pickle/models/XGBoost_VIC_aggregateForcings_02GA038_20190703-092630.pkl\n",
      "Saved model as ../pickle/models/XGBoost_VIC_aggregateForcings_02GA047_20190703-092630.pkl\n",
      "Saved model as ../pickle/models/XGBoost_VIC_aggregateForcings_02GB001_20190703-092630.pkl\n",
      "Saved model as ../pickle/models/XGBoost_VIC_aggregateForcings_02GB007_20190703-092630.pkl\n",
      "Saved model as ../pickle/models/XGBoost_VIC_aggregateForcings_02GC002_20190703-092630.pkl\n",
      "Saved model as ../pickle/models/XGBoost_VIC_aggregateForcings_02GC007_20190703-092630.pkl\n",
      "Saved model as ../pickle/models/XGBoost_VIC_aggregateForcings_02GC010_20190703-092630.pkl\n",
      "Saved model as ../pickle/models/XGBoost_VIC_aggregateForcings_02GC018_20190703-092630.pkl\n",
      "Saved model as ../pickle/models/XGBoost_VIC_aggregateForcings_02GC026_20190703-092630.pkl\n",
      "Saved model as ../pickle/models/XGBoost_VIC_aggregateForcings_02GD004_20190703-092630.pkl\n",
      "Saved model as ../pickle/models/XGBoost_VIC_aggregateForcings_02GE007_20190703-092630.pkl\n",
      "Saved model as ../pickle/models/XGBoost_VIC_aggregateForcings_02GG002_20190703-092630.pkl\n",
      "Saved model as ../pickle/models/XGBoost_VIC_aggregateForcings_02GG003_20190703-092630.pkl\n",
      "Saved model as ../pickle/models/XGBoost_VIC_aggregateForcings_02GG006_20190703-092630.pkl\n",
      "Saved model as ../pickle/models/XGBoost_VIC_aggregateForcings_02GG009_20190703-092630.pkl\n",
      "Saved model as ../pickle/models/XGBoost_VIC_aggregateForcings_02GG013_20190703-092630.pkl\n",
      "Saved model as ../pickle/models/XGBoost_VIC_aggregateForcings_04159492_20190703-092630.pkl\n",
      "Saved model as ../pickle/models/XGBoost_VIC_aggregateForcings_04159900_20190703-092630.pkl\n",
      "Saved model as ../pickle/models/XGBoost_VIC_aggregateForcings_04160600_20190703-092630.pkl\n",
      "Saved model as ../pickle/models/XGBoost_VIC_aggregateForcings_04161820_20190703-092630.pkl\n",
      "Saved model as ../pickle/models/XGBoost_VIC_aggregateForcings_04164000_20190703-092630.pkl\n",
      "Saved model as ../pickle/models/XGBoost_VIC_aggregateForcings_04165500_20190703-092630.pkl\n",
      "Saved model as ../pickle/models/XGBoost_VIC_aggregateForcings_04166100_20190703-092630.pkl\n",
      "Saved model as ../pickle/models/XGBoost_VIC_aggregateForcings_04166500_20190703-092630.pkl\n",
      "Saved model as ../pickle/models/XGBoost_VIC_aggregateForcings_04174500_20190703-092630.pkl\n",
      "Saved model as ../pickle/models/XGBoost_VIC_aggregateForcings_04176500_20190703-092630.pkl\n",
      "Saved model as ../pickle/models/XGBoost_VIC_aggregateForcings_04177000_20190703-092630.pkl\n",
      "Saved model as ../pickle/models/XGBoost_VIC_aggregateForcings_04193500_20190703-092630.pkl\n",
      "Saved model as ../pickle/models/XGBoost_VIC_aggregateForcings_04195820_20190703-092630.pkl\n",
      "Saved model as ../pickle/models/XGBoost_VIC_aggregateForcings_04196800_20190703-092630.pkl\n",
      "Saved model as ../pickle/models/XGBoost_VIC_aggregateForcings_04197100_20190703-092630.pkl\n",
      "Saved model as ../pickle/models/XGBoost_VIC_aggregateForcings_04198000_20190703-092630.pkl\n",
      "Saved model as ../pickle/models/XGBoost_VIC_aggregateForcings_04199000_20190703-092630.pkl\n",
      "Saved model as ../pickle/models/XGBoost_VIC_aggregateForcings_04199500_20190703-092630.pkl\n",
      "Saved model as ../pickle/models/XGBoost_VIC_aggregateForcings_04200500_20190703-092630.pkl\n",
      "Saved model as ../pickle/models/XGBoost_VIC_aggregateForcings_04207200_20190703-092630.pkl\n",
      "Saved model as ../pickle/models/XGBoost_VIC_aggregateForcings_04208504_20190703-092630.pkl\n",
      "Saved model as ../pickle/models/XGBoost_VIC_aggregateForcings_04209000_20190703-092630.pkl\n",
      "Saved model as ../pickle/models/XGBoost_VIC_aggregateForcings_04212100_20190703-092630.pkl\n",
      "Saved model as ../pickle/models/XGBoost_VIC_aggregateForcings_04213000_20190703-092630.pkl\n",
      "Saved model as ../pickle/models/XGBoost_VIC_aggregateForcings_04213500_20190703-092630.pkl\n",
      "Saved model as ../pickle/models/XGBoost_VIC_aggregateForcings_04214500_20190703-092630.pkl\n",
      "Saved model as ../pickle/models/XGBoost_VIC_aggregateForcings_04215000_20190703-092630.pkl\n",
      "Saved model as ../pickle/models/XGBoost_VIC_aggregateForcings_04215500_20190703-092630.pkl\n"
     ]
    }
   ],
   "source": [
    "for station, model in models.items():\n",
    "    load_data.pickle_model('XGBoost_VIC_aggregateForcings', model, station, time_stamp, model_type='xgb')"
   ]
  },
  {
   "cell_type": "code",
   "execution_count": null,
   "metadata": {},
   "outputs": [],
   "source": []
  }
 ],
 "metadata": {
  "kernelspec": {
   "display_name": "Python 3",
   "language": "python",
   "name": "python3"
  },
  "language_info": {
   "codemirror_mode": {
    "name": "ipython",
    "version": 3
   },
   "file_extension": ".py",
   "mimetype": "text/x-python",
   "name": "python",
   "nbconvert_exporter": "python",
   "pygments_lexer": "ipython3",
   "version": "3.7.3"
  }
 },
 "nbformat": 4,
 "nbformat_minor": 2
}
