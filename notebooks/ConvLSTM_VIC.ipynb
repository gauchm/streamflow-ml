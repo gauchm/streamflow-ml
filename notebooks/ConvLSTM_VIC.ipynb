{
 "cells": [
  {
   "cell_type": "markdown",
   "metadata": {},
   "source": [
    "ConvLSTM trained on gridded forcings for all stations"
   ]
  },
  {
   "cell_type": "code",
   "execution_count": 1,
   "metadata": {},
   "outputs": [
    {
     "data": {
      "text/plain": [
       "'20190723-135859'"
      ]
     },
     "execution_count": 1,
     "metadata": {},
     "output_type": "execute_result"
    }
   ],
   "source": [
    "%load_ext autoreload\n",
    "%autoreload 2\n",
    "import sys\n",
    "sys.path.append('..')\n",
    "import os\n",
    "import numpy as np\n",
    "import pandas as pd\n",
    "from matplotlib import pyplot as plt \n",
    "from datetime import datetime, timedelta\n",
    "from sklearn import preprocessing\n",
    "import netCDF4 as nc\n",
    "import torch\n",
    "from torch import nn, utils\n",
    "from torch.utils.tensorboard import SummaryWriter\n",
    "from src import load_data, evaluate, conv_lstm, datasets\n",
    "import torch.autograd as autograd\n",
    "import pickle\n",
    "\n",
    "time_stamp = datetime.now().strftime('%Y%m%d-%H%M%S')\n",
    "time_stamp"
   ]
  },
  {
   "cell_type": "code",
   "execution_count": 2,
   "metadata": {},
   "outputs": [],
   "source": [
    "import logging\n",
    "logger = logging.getLogger()\n",
    "fhandler = logging.FileHandler(filename='../log.out', mode='a')\n",
    "chandler = logging.StreamHandler(sys.stdout)\n",
    "formatter = logging.Formatter('%(asctime)s - {} - %(message)s'.format(time_stamp))\n",
    "fhandler.setFormatter(formatter)\n",
    "chandler.setFormatter(formatter)\n",
    "logger.addHandler(fhandler)\n",
    "logger.addHandler(chandler)\n",
    "logger.setLevel(logging.INFO)"
   ]
  },
  {
   "cell_type": "code",
   "execution_count": 3,
   "metadata": {},
   "outputs": [
    {
     "name": "stdout",
     "output_type": "stream",
     "text": [
      "CUDA Available\n",
      "2019-07-23 13:58:59,797 - 20190723-135859 - cuda devices: ['Tesla V100-SXM2-16GB', 'Tesla V100-SXM2-16GB']\n"
     ]
    }
   ],
   "source": [
    "USE_CUDA = False\n",
    "if torch.cuda.is_available():\n",
    "    print('CUDA Available')\n",
    "    USE_CUDA = True\n",
    "device = torch.device('cuda:0' if USE_CUDA else 'cpu')\n",
    "num_devices = torch.cuda.device_count() if USE_CUDA else 0\n",
    "logger.warning('cuda devices: {}'.format(list(torch.cuda.get_device_name(i) for i in range(num_devices))))\n",
    "torch.manual_seed(0)\n",
    "np.random.seed(0)"
   ]
  },
  {
   "cell_type": "code",
   "execution_count": 4,
   "metadata": {},
   "outputs": [],
   "source": [
    "seq_len = 50\n",
    "seq_steps = 1\n",
    "\n",
    "train_start = datetime.strptime('2010-01-01', '%Y-%m-%d') + timedelta(hours=seq_len * seq_steps)  # first day for which to make a prediction in train set\n",
    "train_end = '2012-09-30'\n",
    "val_start = '2012-10-01'\n",
    "val_end = '2012-12-31'\n",
    "test_start = '2013-01-01'\n",
    "test_end = '2014-12-31'"
   ]
  },
  {
   "cell_type": "code",
   "execution_count": 5,
   "metadata": {
    "scrolled": true
   },
   "outputs": [
    {
     "name": "stderr",
     "output_type": "stream",
     "text": [
      "../src/load_data.py:43: RuntimeWarning: invalid value encountered in greater\n",
      "  rdrs_data[:,i,:,:] = rdrs_nc[forcing_variables[i]][:]\n",
      "../src/load_data.py:43: RuntimeWarning: invalid value encountered in greater\n",
      "  rdrs_data[:,i,:,:] = rdrs_nc[forcing_variables[i]][:]\n",
      "../src/load_data.py:43: RuntimeWarning: invalid value encountered in greater\n",
      "  rdrs_data[:,i,:,:] = rdrs_nc[forcing_variables[i]][:]\n"
     ]
    }
   ],
   "source": [
    "rdrs_vars = [4,5]\n",
    "train_dataset = datasets.RdrsGridDataset(rdrs_vars, seq_len, seq_steps, train_start, train_end)\n",
    "val_dataset = datasets.RdrsGridDataset(rdrs_vars, seq_len, seq_steps, val_start, val_end, conv_scalers=train_dataset.conv_scalers)\n",
    "test_dataset = datasets.RdrsGridDataset(rdrs_vars, seq_len, seq_steps, test_start, test_end, conv_scalers=train_dataset.conv_scalers)"
   ]
  },
  {
   "cell_type": "code",
   "execution_count": 6,
   "metadata": {
    "scrolled": true
   },
   "outputs": [],
   "source": [
    "class ConvLSTMGrid(nn.Module):\n",
    "    def __init__(self, input_size, input_dim, hidden_dim, kernel_size, num_layers, dropout=0.0):\n",
    "        super(ConvLSTMGrid, self).__init__()\n",
    "        self.conv_lstm = conv_lstm.ConvLSTM((input_size[0], input_size[1]), input_dim, hidden_dim, kernel_size, num_layers, batch_first=True)\n",
    "        self.dropout = nn.Dropout2d(p=dropout)\n",
    "        self.conv_out = nn.Conv2d(hidden_dim[-1], 1, (1,1))\n",
    "        \n",
    "    def forward(self, input_tensor, hidden_state=None):\n",
    "        convlstm_out, hidden = self.conv_lstm(input_tensor, hidden_state=hidden_state)\n",
    "        convlstm_out = self.dropout(convlstm_out[-1][:,-1,:,:,:])  # last output of last layer\n",
    "        return self.conv_out(convlstm_out)[:,0,:,:], hidden"
   ]
  },
  {
   "cell_type": "code",
   "execution_count": 7,
   "metadata": {},
   "outputs": [],
   "source": [
    "# Train model\n",
    "num_epochs = 100\n",
    "learning_rate = 2e-3\n",
    "patience = 50\n",
    "min_improvement = 0.05\n",
    "best_loss_model = (-1, np.inf, None)\n",
    "\n",
    "# Prepare model\n",
    "stateful_lstm = True\n",
    "num_conv_layers = 3\n",
    "conv_hidden_dims = [8] * num_conv_layers\n",
    "batch_size = 16\n",
    "kernel_size = [(3,3), (3,3), (3,3)]\n",
    "dropout = 0.3\n",
    "\n",
    "model = ConvLSTMGrid((train_dataset.conv_height, train_dataset.conv_width), train_dataset.n_conv_vars, conv_hidden_dims, kernel_size, num_conv_layers, dropout=dropout).to(device)\n",
    "model = torch.nn.DataParallel(model, device_ids=list(range(num_devices)))\n",
    "loss_fn = torch.nn.MSELoss(reduction='mean')\n",
    "optimizer = torch.optim.Adam(model.parameters(), lr=learning_rate)\n",
    "\n",
    "writer = SummaryWriter()\n",
    "param_description = {'time_stamp': time_stamp, 'H_conv': conv_hidden_dims, 'batch_size': batch_size, 'num_conv_layers': num_conv_layers, 'kernel_size': kernel_size, 'loss': loss_fn, \n",
    "                     'optimizer': optimizer, 'lr': learning_rate, 'patience': patience, 'min_improvement': min_improvement, 'stateful_lstm': stateful_lstm, 'dropout': dropout,\n",
    "                     'num_epochs': num_epochs, 'seq_len': seq_len, 'seq_steps': seq_steps, 'train_start': train_start, 'train_end': train_end, 'val_start': val_start, \n",
    "                     'val_end': val_end, 'test_start': test_start, 'test_end': test_end, 'n_conv_vars': train_dataset.n_conv_vars, 'model': str(model).replace('\\n','').replace(' ', ''),\n",
    "                     'train len':len(train_dataset), 'val len': len(val_dataset), 'conv_height': train_dataset.conv_height, 'conv_width': train_dataset.conv_width, 'test len': len(test_dataset)}\n",
    "writer.add_text('Parameter Description', str(param_description))"
   ]
  },
  {
   "cell_type": "code",
   "execution_count": 8,
   "metadata": {},
   "outputs": [
    {
     "name": "stdout",
     "output_type": "stream",
     "text": [
      "Warning: Data source length not divisible by batch_size\n",
      "Warning: Data source length not divisible by batch_size\n",
      "Warning: Data source length not divisible by batch_size\n"
     ]
    }
   ],
   "source": [
    "if stateful_lstm:\n",
    "    train_sampler = datasets.StatefulBatchSampler(train_dataset, batch_size)\n",
    "    val_sampler = datasets.StatefulBatchSampler(val_dataset, batch_size)\n",
    "    test_sampler = datasets.StatefulBatchSampler(test_dataset, batch_size)\n",
    "    train_dataloader = torch.utils.data.DataLoader(train_dataset, batch_sampler=train_sampler, pin_memory=True)\n",
    "    val_dataloader = torch.utils.data.DataLoader(val_dataset, batch_sampler=val_sampler, pin_memory=True)\n",
    "    test_dataloader = torch.utils.data.DataLoader(test_dataset, batch_sampler=test_sampler, pin_memory=True)\n",
    "else:\n",
    "    train_dataloader = torch.utils.data.DataLoader(train_dataset, batch_size, shuffle=True, pin_memory=True, drop_last=True)\n",
    "    val_dataloader = torch.utils.data.DataLoader(val_dataset, batch_size, shuffle=False, pin_memory=True, drop_last=True)\n",
    "    test_dataloader = torch.utils.data.DataLoader(test_dataset, batch_size, shuffle=False, pin_memory=True, drop_last=True)"
   ]
  },
  {
   "cell_type": "code",
   "execution_count": 9,
   "metadata": {
    "scrolled": true
   },
   "outputs": [
    {
     "name": "stdout",
     "output_type": "stream",
     "text": [
      "Epoch 0 mean train loss:\t3978.2626953125\n",
      "Epoch 0 mean val mse:    \t730.3317260742188\n",
      "Saved model as ../pickle/models/ConvLSTM_VIC_allStations_20190723-135859.pkl\n"
     ]
    },
    {
     "name": "stderr",
     "output_type": "stream",
     "text": [
      "/home/mgauch/runoff-nn/gwf/lib/python3.6/site-packages/torch/serialization.py:256: UserWarning: Couldn't retrieve source code for container of type ConvLSTMGrid. It won't be checked for correctness upon loading.\n",
      "  \"type \" + obj.__name__ + \". It won't be checked \"\n"
     ]
    },
    {
     "name": "stdout",
     "output_type": "stream",
     "text": [
      "Epoch 1 mean train loss:\t3933.3056640625\n",
      "Epoch 1 mean val mse:    \t715.0436401367188\n",
      "Saved model as ../pickle/models/ConvLSTM_VIC_allStations_20190723-135859.pkl\n",
      "Epoch 2 mean train loss:\t3903.998291015625\n",
      "Epoch 2 mean val mse:    \t703.87060546875\n",
      "Saved model as ../pickle/models/ConvLSTM_VIC_allStations_20190723-135859.pkl\n",
      "Epoch 3 mean train loss:\t3880.177001953125\n",
      "Epoch 3 mean val mse:    \t695.4714965820312\n",
      "Saved model as ../pickle/models/ConvLSTM_VIC_allStations_20190723-135859.pkl\n",
      "Epoch 4 mean train loss:\t3858.295166015625\n",
      "Epoch 4 mean val mse:    \t689.1996459960938\n",
      "Saved model as ../pickle/models/ConvLSTM_VIC_allStations_20190723-135859.pkl\n",
      "Epoch 5 mean train loss:\t3844.72412109375\n",
      "Epoch 5 mean val mse:    \t684.91845703125\n",
      "Saved model as ../pickle/models/ConvLSTM_VIC_allStations_20190723-135859.pkl\n",
      "Epoch 6 mean train loss:\t3824.968017578125\n",
      "Epoch 6 mean val mse:    \t682.1114501953125\n",
      "Saved model as ../pickle/models/ConvLSTM_VIC_allStations_20190723-135859.pkl\n",
      "Epoch 7 mean train loss:\t3813.93701171875\n",
      "Epoch 7 mean val mse:    \t680.6466064453125\n",
      "Saved model as ../pickle/models/ConvLSTM_VIC_allStations_20190723-135859.pkl\n",
      "Epoch 8 mean train loss:\t3803.63525390625\n",
      "Epoch 8 mean val mse:    \t680.2521362304688\n",
      "Saved model as ../pickle/models/ConvLSTM_VIC_allStations_20190723-135859.pkl\n",
      "Epoch 9 mean train loss:\t3797.063720703125\n",
      "Epoch 9 mean val mse:    \t680.7486572265625\n",
      "Epoch 10 mean train loss:\t3785.173095703125\n",
      "Epoch 10 mean val mse:    \t681.9739990234375\n",
      "Epoch 11 mean train loss:\t3780.645751953125\n",
      "Epoch 11 mean val mse:    \t683.7698364257812\n",
      "Epoch 12 mean train loss:\t3778.45751953125\n",
      "Epoch 12 mean val mse:    \t685.9749755859375\n",
      "Epoch 13 mean train loss:\t3771.69580078125\n",
      "Epoch 13 mean val mse:    \t688.4935913085938\n",
      "Epoch 14 mean train loss:\t3764.0947265625\n",
      "Epoch 14 mean val mse:    \t691.1053466796875\n",
      "Epoch 15 mean train loss:\t3766.023193359375\n",
      "Epoch 15 mean val mse:    \t693.6232299804688\n",
      "Epoch 16 mean train loss:\t3762.073974609375\n",
      "Epoch 16 mean val mse:    \t696.2991943359375\n",
      "Epoch 17 mean train loss:\t3758.728515625\n",
      "Epoch 17 mean val mse:    \t699.25048828125\n",
      "Epoch 18 mean train loss:\t3755.995849609375\n",
      "Epoch 18 mean val mse:    \t701.9835205078125\n",
      "Epoch 19 mean train loss:\t3763.202392578125\n",
      "Epoch 19 mean val mse:    \t704.1563110351562\n",
      "Epoch 20 mean train loss:\t3764.34619140625\n",
      "Epoch 20 mean val mse:    \t705.81591796875\n",
      "Epoch 21 mean train loss:\t3764.40966796875\n",
      "Epoch 21 mean val mse:    \t707.9288330078125\n",
      "Epoch 22 mean train loss:\t3769.56787109375\n",
      "Epoch 22 mean val mse:    \t709.298828125\n",
      "Epoch 23 mean train loss:\t3757.82373046875\n",
      "Epoch 23 mean val mse:    \t711.2030029296875\n",
      "Epoch 24 mean train loss:\t3753.718505859375\n",
      "Epoch 24 mean val mse:    \t713.1749267578125\n",
      "Epoch 25 mean train loss:\t3754.86376953125\n",
      "Epoch 25 mean val mse:    \t714.7725830078125\n",
      "Epoch 26 mean train loss:\t3753.297119140625\n",
      "Epoch 26 mean val mse:    \t716.1290283203125\n",
      "Epoch 27 mean train loss:\t3757.27294921875\n",
      "Epoch 27 mean val mse:    \t716.8563232421875\n",
      "Epoch 28 mean train loss:\t3759.503173828125\n",
      "Epoch 28 mean val mse:    \t717.5918579101562\n",
      "Epoch 29 mean train loss:\t3758.143798828125\n",
      "Epoch 29 mean val mse:    \t718.3836669921875\n",
      "Epoch 30 mean train loss:\t3750.042236328125\n",
      "Epoch 30 mean val mse:    \t719.5529174804688\n",
      "Epoch 31 mean train loss:\t3751.028564453125\n",
      "Epoch 31 mean val mse:    \t720.5418090820312\n",
      "Epoch 32 mean train loss:\t3751.963134765625\n",
      "Epoch 32 mean val mse:    \t721.0611572265625\n",
      "Epoch 33 mean train loss:\t3750.048583984375\n",
      "Epoch 33 mean val mse:    \t721.2009887695312\n",
      "Epoch 34 mean train loss:\t3748.552734375\n",
      "Epoch 34 mean val mse:    \t721.49072265625\n",
      "Epoch 35 mean train loss:\t3753.269287109375\n",
      "Epoch 35 mean val mse:    \t721.64453125\n",
      "Epoch 36 mean train loss:\t3754.079345703125\n",
      "Epoch 36 mean val mse:    \t721.961669921875\n",
      "Epoch 37 mean train loss:\t3753.922119140625\n",
      "Epoch 37 mean val mse:    \t722.1240844726562\n",
      "Epoch 38 mean train loss:\t3750.618408203125\n",
      "Epoch 38 mean val mse:    \t722.4151000976562\n",
      "Epoch 39 mean train loss:\t3761.9580078125\n",
      "Epoch 39 mean val mse:    \t721.9171752929688\n",
      "Epoch 40 mean train loss:\t3747.53759765625\n",
      "Epoch 40 mean val mse:    \t722.9920043945312\n",
      "Epoch 41 mean train loss:\t3755.781494140625\n",
      "Epoch 41 mean val mse:    \t723.0931396484375\n",
      "Epoch 42 mean train loss:\t3748.994384765625\n",
      "Epoch 42 mean val mse:    \t723.3416748046875\n",
      "Epoch 43 mean train loss:\t3755.845703125\n",
      "Epoch 43 mean val mse:    \t723.6550903320312\n",
      "Epoch 44 mean train loss:\t3753.6572265625\n",
      "Epoch 44 mean val mse:    \t723.2147216796875\n",
      "Epoch 45 mean train loss:\t3746.981689453125\n",
      "Epoch 45 mean val mse:    \t724.3878173828125\n",
      "Epoch 46 mean train loss:\t3752.12548828125\n",
      "Epoch 46 mean val mse:    \t724.55322265625\n",
      "Epoch 47 mean train loss:\t3751.105712890625\n",
      "Epoch 47 mean val mse:    \t723.9534912109375\n",
      "Epoch 48 mean train loss:\t3753.135986328125\n",
      "Epoch 48 mean val mse:    \t723.9196166992188\n",
      "Epoch 49 mean train loss:\t3759.06787109375\n",
      "Epoch 49 mean val mse:    \t723.3074340820312\n",
      "Epoch 50 mean train loss:\t3753.709716796875\n",
      "Epoch 50 mean val mse:    \t723.0618896484375\n",
      "Epoch 51 mean train loss:\t3753.111083984375\n",
      "Epoch 51 mean val mse:    \t723.2786254882812\n",
      "Epoch 52 mean train loss:\t3755.115234375\n",
      "Epoch 52 mean val mse:    \t723.0401000976562\n",
      "Epoch 53 mean train loss:\t3754.80029296875\n",
      "Epoch 53 mean val mse:    \t723.1463012695312\n",
      "Epoch 54 mean train loss:\t3747.841064453125\n",
      "Epoch 54 mean val mse:    \t723.1597900390625\n",
      "Epoch 55 mean train loss:\t3751.921875\n",
      "Epoch 55 mean val mse:    \t723.5157470703125\n",
      "Epoch 56 mean train loss:\t3751.823974609375\n",
      "Epoch 56 mean val mse:    \t723.2951049804688\n",
      "Epoch 57 mean train loss:\t3754.2509765625\n",
      "Epoch 57 mean val mse:    \t723.253173828125\n",
      "Epoch 58 mean train loss:\t3754.37939453125\n",
      "Epoch 58 mean val mse:    \t722.8140869140625\n",
      "Epoch 59 mean train loss:\t3751.11572265625\n",
      "Epoch 59 mean val mse:    \t723.1568603515625\n",
      "Patience exhausted in epoch 59. Best val-loss was 680.2521362304688\n",
      "Using best model from epoch 8 which had loss 680.2521362304688\n",
      "Saved model as ../pickle/models/ConvLSTM_VIC_allStations_20190723-135859.pkl\n"
     ]
    }
   ],
   "source": [
    "for epoch in range(num_epochs):\n",
    "    model.train()\n",
    "\n",
    "    epoch_losses = torch.tensor(0.0)\n",
    "    conv_hidden_states = None\n",
    "    for i, train_batch in enumerate(train_dataloader):\n",
    "        y_train = train_batch['y'].reshape(-1).to(device, non_blocking=True)\n",
    "        mask = train_batch['mask'].reshape(-1).to(device, non_blocking=True)\n",
    "        if mask.sum() == 0:\n",
    "            print('Batch {} has no target values. skipping.'.format(i))\n",
    "            continue\n",
    "        if not stateful_lstm:\n",
    "            conv_hidden_states = None\n",
    "        \n",
    "        y_pred, conv_hidden_states = model(train_batch['x_conv'].to(device), hidden_state=conv_hidden_states)\n",
    "        y_pred = y_pred.reshape(-1) * mask  # ignore grid cells that have no target value\n",
    "        loss = loss_fn(y_pred, y_train)\n",
    "\n",
    "        optimizer.zero_grad()\n",
    "        loss.backward()\n",
    "        optimizer.step()\n",
    "        \n",
    "        epoch_losses += (loss * y_train.shape[0] / mask.sum()).detach()  # only average over losses where we had a target\n",
    "        \n",
    "    epoch_loss = (epoch_losses / len(train_dataloader)).item()\n",
    "    print('Epoch', epoch, 'mean train loss:\\t{}'.format(epoch_loss))\n",
    "    writer.add_scalar('loss', epoch_loss, epoch)\n",
    "    \n",
    "    # eval on validation split\n",
    "    model.eval()\n",
    "    val_losses = torch.tensor(0.0)\n",
    "    for i, val_batch in enumerate(val_dataloader):\n",
    "        y_val = val_batch['y'].reshape(-1).to(device, non_blocking=True)\n",
    "        mask = val_batch['mask'].reshape(-1).to(device, non_blocking=True)\n",
    "        if not stateful_lstm:\n",
    "            conv_hidden_states = None\n",
    "        \n",
    "        batch_pred, conv_hidden_states = model(val_batch['x_conv'], hidden_state=conv_hidden_states)\n",
    "        batch_pred = batch_pred.detach().reshape(-1)\n",
    "        val_losses += (loss_fn(batch_pred * mask, y_val).detach() * y_val.shape[0] / mask.sum())\n",
    "        \n",
    "    val_mse = (val_losses / len(val_dataloader)).item()\n",
    "    print('Epoch {} mean val mse:    \\t{}'.format(epoch, val_mse))\n",
    "    writer.add_scalar('loss_eval', val_mse, epoch)\n",
    "\n",
    "    if val_mse < best_loss_model[1] - min_improvement:\n",
    "        best_loss_model = (epoch, val_mse, model.state_dict())  # new best model\n",
    "        load_data.pickle_model('ConvLSTM_VIC', model, 'allStations', time_stamp)\n",
    "    elif epoch > best_loss_model[0] + patience:\n",
    "        print('Patience exhausted in epoch {}. Best val-loss was {}'.format(epoch, best_loss_model[1]))\n",
    "        break\n",
    "\n",
    "print('Using best model from epoch', str(best_loss_model[0]), 'which had loss', str(best_loss_model[1]))\n",
    "model.load_state_dict(best_loss_model[2])\n",
    "load_data.pickle_model('ConvLSTM_VIC', model, 'allStations', time_stamp)"
   ]
  },
  {
   "cell_type": "code",
   "execution_count": 10,
   "metadata": {
    "scrolled": true
   },
   "outputs": [
    {
     "name": "stdout",
     "output_type": "stream",
     "text": [
      "2019-07-23 14:14:41,856 - 20190723-135859 - predicting\n"
     ]
    }
   ],
   "source": [
    "logger.warning('predicting')\n",
    "model.eval()\n",
    "\n",
    "predictions = []\n",
    "for i, test_batch in enumerate(test_dataloader):\n",
    "    if not stateful_lstm:\n",
    "        conv_hidden_states = None\n",
    "        \n",
    "    pred, conv_hidden_states = model(test_batch['x_conv'], hidden_state=conv_hidden_states)\n",
    "    predictions.append(pred.detach())\n",
    "    \n",
    "predictions = torch.cat(predictions).cpu()\n",
    "\n",
    "if stateful_lstm:\n",
    "    # reorder time series\n",
    "    pred_indices = np.array(list(test_sampler.__iter__())).reshape(-1)\n",
    "    predictions = predictions[pred_indices.argsort()]"
   ]
  },
  {
   "cell_type": "code",
   "execution_count": 11,
   "metadata": {
    "scrolled": true
   },
   "outputs": [
    {
     "name": "stdout",
     "output_type": "stream",
     "text": [
      "Warning: length of prediction 720 and actuals 730 does not match.\n",
      "Warning: length of prediction 720 and actuals 730 does not match for station 02GA047. Ignoring excess actuals.\n",
      "02GA047 \tNSE: -0.3194422952725249 \tMSE: 104.76698466261509 (clipped to 0)\n",
      "Warning: length of prediction 720 and actuals 730 does not match for station 04213000. Ignoring excess actuals.\n"
     ]
    },
    {
     "name": "stderr",
     "output_type": "stream",
     "text": [
      "/home/mgauch/runoff-nn/gwf/lib/python3.6/site-packages/pandas/plotting/_converter.py:129: FutureWarning: Using an implicitly registered datetime converter for a matplotlib plotting method. The converter was registered by pandas on import. Future versions of pandas will require you to explicitly register matplotlib converters.\n",
      "\n",
      "To register the converters:\n",
      "\t>>> from pandas.plotting import register_matplotlib_converters\n",
      "\t>>> register_matplotlib_converters()\n",
      "  warnings.warn(msg, FutureWarning)\n"
     ]
    },
    {
     "name": "stdout",
     "output_type": "stream",
     "text": [
      "04213000 \tNSE: -0.2244287599263053 \tMSE: 222.50463813536334 (clipped to 0)\n",
      "Warning: length of prediction 720 and actuals 730 does not match for station 04176500. Ignoring excess actuals.\n",
      "04176500 \tNSE: -0.02765795678694949 \tMSE: 710.6856258101308 (clipped to 0)\n",
      "Warning: length of prediction 720 and actuals 730 does not match for station 02GG003. Ignoring excess actuals.\n",
      "02GG003 \tNSE: -0.002425442678314793 \tMSE: 484.0550405571684 (clipped to 0)\n",
      "Warning: length of prediction 720 and actuals 730 does not match for station 04214500. Ignoring excess actuals.\n",
      "04214500 \tNSE: -0.7374970885130614 \tMSE: 212.11593562968693 (clipped to 0)\n",
      "Warning: length of prediction 720 and actuals 730 does not match for station 02GC026. Ignoring excess actuals.\n",
      "02GC026 \tNSE: -0.14104242708311632 \tMSE: 185.9024387623806 (clipped to 0)\n",
      "Warning: length of prediction 720 and actuals 730 does not match for station 04174500. Ignoring excess actuals.\n",
      "04174500 \tNSE: -0.0013429235378223936 \tMSE: 95.95168039079141 (clipped to 0)\n",
      "Warning: length of prediction 720 and actuals 730 does not match for station 02GG013. Ignoring excess actuals.\n",
      "02GG013 \tNSE: -4.5052848941601065 \tMSE: 211.77946299488968 (clipped to 0)\n",
      "Warning: length of prediction 720 and actuals 730 does not match for station 04161820. Ignoring excess actuals.\n",
      "04161820 \tNSE: -1.764027424008273 \tMSE: 88.16509870358028 (clipped to 0)\n",
      "Warning: length of prediction 720 and actuals 730 does not match for station 04159492. Ignoring excess actuals.\n",
      "04159492 \tNSE: -0.10093016017662948 \tMSE: 511.47341873894663 (clipped to 0)\n",
      "Warning: length of prediction 720 and actuals 730 does not match for station 04200500. Ignoring excess actuals.\n",
      "04200500 \tNSE: -0.003946047577142453 \tMSE: 1017.6804096951757 (clipped to 0)\n",
      "Warning: length of prediction 720 and actuals 730 does not match for station 02GB001. Ignoring excess actuals.\n",
      "02GB001 \tNSE: -0.6505129257700737 \tMSE: 12393.927902890488 (clipped to 0)\n",
      "Warning: length of prediction 720 and actuals 730 does not match for station 04208504. Ignoring excess actuals.\n",
      "04208504 \tNSE: -0.5477858990490754 \tMSE: 1528.6543798128957 (clipped to 0)\n",
      "Warning: length of prediction 720 and actuals 730 does not match for station 04199000. Ignoring excess actuals.\n",
      "04199000 \tNSE: -0.011670898765089976 \tMSE: 1047.5529556722083 (clipped to 0)\n",
      "Warning: length of prediction 720 and actuals 730 does not match for station 02GG002. Ignoring excess actuals.\n",
      "02GG002 \tNSE: -0.1608536330634205 \tMSE: 283.20760588109954 (clipped to 0)\n",
      "Warning: length of prediction 720 and actuals 730 does not match for station 04193500. Ignoring excess actuals.\n",
      "04193500 \tNSE: -0.34964627075907595 \tMSE: 96741.00251740139 (clipped to 0)\n",
      "Warning: length of prediction 720 and actuals 730 does not match for station 04207200. Ignoring excess actuals.\n",
      "04207200 \tNSE: -5.845728529340437 \tMSE: 162.26476274031933 (clipped to 0)\n",
      "Warning: length of prediction 720 and actuals 730 does not match for station 04160600. Ignoring excess actuals.\n",
      "04160600 \tNSE: -5.896700113203288 \tMSE: 200.34744979134075 (clipped to 0)\n",
      "Warning: length of prediction 720 and actuals 730 does not match for station 04215000. Ignoring excess actuals.\n",
      "04215000 \tNSE: -1.2187908134574919 \tMSE: 215.88204219815032 (clipped to 0)\n",
      "Warning: length of prediction 720 and actuals 730 does not match for station 02GB007. Ignoring excess actuals.\n",
      "02GB007 \tNSE: -4.3947203928710445 \tMSE: 170.69020891163822 (clipped to 0)\n",
      "Warning: length of prediction 720 and actuals 730 does not match for station 02GC002. Ignoring excess actuals.\n",
      "02GC002 \tNSE: -0.92082884826809 \tMSE: 249.90412994435533 (clipped to 0)\n",
      "Warning: length of prediction 720 and actuals 730 does not match for station 02GA038. Ignoring excess actuals.\n",
      "02GA038 \tNSE: -0.5847593107230624 \tMSE: 259.6011595994408 (clipped to 0)\n",
      "Warning: length of prediction 720 and actuals 730 does not match for station 02GA010. Ignoring excess actuals.\n",
      "02GA010 \tNSE: -0.00012462792702150338 \tMSE: 478.5294874386613 (clipped to 0)\n",
      "Warning: length of prediction 720 and actuals 730 does not match for station 02GG009. Ignoring excess actuals.\n",
      "02GG009 \tNSE: -0.5941256986985108 \tMSE: 250.55206148217573 (clipped to 0)\n",
      "Warning: length of prediction 720 and actuals 730 does not match for station 04165500. Ignoring excess actuals.\n",
      "04165500 \tNSE: -0.041128930941388475 \tMSE: 468.64003073958344 (clipped to 0)\n",
      "Warning: length of prediction 720 and actuals 730 does not match for station 04198000. Ignoring excess actuals.\n",
      "04198000 \tNSE: -0.1010053921134475 \tMSE: 8226.225050140964 (clipped to 0)\n",
      "Warning: length of prediction 720 and actuals 730 does not match for station 04213500. Ignoring excess actuals.\n",
      "04213500 \tNSE: -0.0355192598720524 \tMSE: 1074.8440472036236 (clipped to 0)\n",
      "Warning: length of prediction 720 and actuals 730 does not match for station 02GA018. Ignoring excess actuals.\n",
      "02GA018 \tNSE: -0.19216241727687655 \tMSE: 299.96137566638083 (clipped to 0)\n",
      "Warning: length of prediction 720 and actuals 730 does not match for station 02GG006. Ignoring excess actuals.\n",
      "02GG006 \tNSE: -2.8959521129600043 \tMSE: 210.5986211035973 (clipped to 0)\n",
      "Warning: length of prediction 720 and actuals 730 does not match for station 02GC007. Ignoring excess actuals.\n",
      "02GC007 \tNSE: -1.7510077622046718 \tMSE: 83.85998342645985 (clipped to 0)\n",
      "Warning: length of prediction 720 and actuals 730 does not match for station 04215500. Ignoring excess actuals.\n",
      "04215500 \tNSE: -0.41562592591377223 \tMSE: 258.6040946454847 (clipped to 0)\n",
      "Warning: length of prediction 720 and actuals 730 does not match for station 04195820. Ignoring excess actuals.\n",
      "04195820 \tNSE: -0.0002568925417159029 \tMSE: 1188.791982337316 (clipped to 0)\n",
      "Warning: length of prediction 720 and actuals 730 does not match for station 04209000. Ignoring excess actuals.\n",
      "04209000 \tNSE: -0.03393407349480704 \tMSE: 327.46188396572745 (clipped to 0)\n",
      "Warning: length of prediction 720 and actuals 730 does not match for station 02GE007. Ignoring excess actuals.\n",
      "02GE007 \tNSE: -4.773273587535047 \tMSE: 211.22167099497022 (clipped to 0)\n",
      "Warning: length of prediction 720 and actuals 730 does not match for station 02GC010. Ignoring excess actuals.\n",
      "02GC010 \tNSE: -1.876687067978188 \tMSE: 173.2404044899721 (clipped to 0)\n",
      "Warning: length of prediction 720 and actuals 730 does not match for station 04166100. Ignoring excess actuals.\n",
      "04166100 \tNSE: -25.35681874373087 \tMSE: 193.76558456386377 (clipped to 0)\n",
      "Warning: length of prediction 720 and actuals 730 does not match for station 04177000. Ignoring excess actuals.\n",
      "04177000 \tNSE: -6.13407800486371 \tMSE: 194.58082020465352 (clipped to 0)\n",
      "Warning: length of prediction 720 and actuals 730 does not match for station 04164000. Ignoring excess actuals.\n",
      "04164000 \tNSE: -0.04225385301947204 \tMSE: 184.40192751184622 (clipped to 0)\n",
      "Warning: length of prediction 720 and actuals 730 does not match for station 04159900. Ignoring excess actuals.\n",
      "04159900 \tNSE: -3.8208493493874105 \tMSE: 210.6071022943225 (clipped to 0)\n",
      "Warning: length of prediction 720 and actuals 730 does not match for station 02GD004. Ignoring excess actuals.\n",
      "02GD004 \tNSE: -2.2991586730129634 \tMSE: 183.74535609413553 (clipped to 0)\n",
      "Warning: length of prediction 720 and actuals 730 does not match for station 04196800. Ignoring excess actuals.\n",
      "04196800 \tNSE: -0.24666878772596834 \tMSE: 377.3569591010308 (clipped to 0)\n",
      "Warning: length of prediction 720 and actuals 730 does not match for station 04199500. Ignoring excess actuals.\n",
      "04199500 \tNSE: -0.134835207493331 \tMSE: 465.06555135198215 (clipped to 0)\n",
      "Warning: length of prediction 720 and actuals 730 does not match for station 04212100. Ignoring excess actuals.\n",
      "04212100 \tNSE: -0.17291388051880308 \tMSE: 1744.1727619214653 (clipped to 0)\n",
      "Warning: length of prediction 720 and actuals 730 does not match for station 02GC018. Ignoring excess actuals.\n",
      "02GC018 \tNSE: -2.0899378333704894 \tMSE: 211.98578470294157 (clipped to 0)\n",
      "Warning: length of prediction 720 and actuals 730 does not match for station 04166500. Ignoring excess actuals.\n",
      "04166500 \tNSE: -3.5995997426613657 \tMSE: 160.08163931964026 (clipped to 0)\n",
      "Warning: length of prediction 720 and actuals 730 does not match for station 04197100. Ignoring excess actuals.\n",
      "04197100 \tNSE: -1.2366096456831044 \tMSE: 232.1001968308015 (clipped to 0)\n",
      "Median NSE (clipped to 0) -0.4817059124814238 / Min -25.35681874373087 / Max -0.00012462792702150338\n",
      "Median MSE (clipped to 0) 241.00216338757843 / Min 83.85998342645985 / Max 96741.00251740139\n"
     ]
    }
   ],
   "source": [
    "actuals = test_dataset.data_runoff.copy()\n",
    "if len(actuals['date'].unique()) != len(predictions):\n",
    "    print('Warning: length of prediction {} and actuals {} does not match.'.format(len(predictions), len(actuals['date'].unique())))\n",
    "\n",
    "nse_list = []\n",
    "mse_list = []\n",
    "predictions_df = pd.DataFrame(columns=actuals.columns)\n",
    "for station in actuals['station'].unique():\n",
    "    row, col = test_dataset.station_to_row_col[station]\n",
    "    \n",
    "    act = actuals[actuals['station'] == station].set_index('date')['runoff']\n",
    "    if predictions.shape[0] != act.shape[0]:\n",
    "        print('Warning: length of prediction {} and actuals {} does not match for station {}. Ignoring excess actuals.'.format(len(predictions), len(act), station))\n",
    "        act = act.iloc[:predictions.shape[0]]\n",
    "    pred = pd.DataFrame({'runoff': predictions[:,row,col]}, index=act.index)\n",
    "    pred['station'] = station\n",
    "    predictions_df = predictions_df.append(pred.reset_index(), sort=True)\n",
    "    \n",
    "    nse, mse = evaluate.evaluate_daily(station, pred['runoff'], act, writer=writer)\n",
    "    nse_list.append(nse)\n",
    "    mse_list.append(mse)\n",
    "    \n",
    "    print(station, '\\tNSE:', nse, '\\tMSE:', mse, '(clipped to 0)')\n",
    "\n",
    "print('Median NSE (clipped to 0)', np.median(nse_list), '/ Min', np.min(nse_list), '/ Max', np.max(nse_list))\n",
    "print('Median MSE (clipped to 0)', np.median(mse_list), '/ Min', np.min(mse_list), '/ Max', np.max(mse_list))\n",
    "writer.add_scalar('nse_median', np.median(nse_list))"
   ]
  },
  {
   "cell_type": "code",
   "execution_count": 12,
   "metadata": {},
   "outputs": [],
   "source": [
    "writer.close()"
   ]
  },
  {
   "cell_type": "code",
   "execution_count": 13,
   "metadata": {},
   "outputs": [
    {
     "data": {
      "text/plain": [
       "'ConvLSTM_VIC_20190723-135859.pkl'"
      ]
     },
     "execution_count": 13,
     "metadata": {},
     "output_type": "execute_result"
    }
   ],
   "source": [
    "save_df = pd.merge(predictions_df.rename({'runoff': 'prediction'}, axis=1), actuals.rename({'runoff': 'actual'}, axis=1), \n",
    "                   on=['date', 'station'])[['date', 'station', 'prediction', 'actual']]\n",
    "load_data.pickle_results('ConvLSTM_VIC', save_df, time_stamp)"
   ]
  },
  {
   "cell_type": "code",
   "execution_count": 14,
   "metadata": {},
   "outputs": [
    {
     "data": {
      "text/plain": [
       "'20190723-141453'"
      ]
     },
     "execution_count": 14,
     "metadata": {},
     "output_type": "execute_result"
    }
   ],
   "source": [
    "datetime.now().strftime('%Y%m%d-%H%M%S')"
   ]
  },
  {
   "cell_type": "code",
   "execution_count": 15,
   "metadata": {},
   "outputs": [],
   "source": []
  }
 ],
 "metadata": {
  "kernelspec": {
   "display_name": "Python 3",
   "language": "python",
   "name": "python3"
  },
  "language_info": {
   "codemirror_mode": {
    "name": "ipython",
    "version": 3
   },
   "file_extension": ".py",
   "mimetype": "text/x-python",
   "name": "python",
   "nbconvert_exporter": "python",
   "pygments_lexer": "ipython3",
   "version": "3.7.3"
  }
 },
 "nbformat": 4,
 "nbformat_minor": 4
}
