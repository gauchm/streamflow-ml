{
 "cells": [
  {
   "cell_type": "markdown",
   "metadata": {},
   "source": [
    "ConvLSTM trained on gridded forcings for all stations"
   ]
  },
  {
   "cell_type": "code",
   "execution_count": 1,
   "metadata": {},
   "outputs": [
    {
     "data": {
      "text/plain": [
       "'20190723-134412'"
      ]
     },
     "execution_count": 1,
     "metadata": {},
     "output_type": "execute_result"
    }
   ],
   "source": [
    "%load_ext autoreload\n",
    "%autoreload 2\n",
    "import sys\n",
    "sys.path.append('..')\n",
    "import os\n",
    "import numpy as np\n",
    "import pandas as pd\n",
    "from matplotlib import pyplot as plt \n",
    "from datetime import datetime, timedelta\n",
    "from sklearn import preprocessing\n",
    "import netCDF4 as nc\n",
    "import torch\n",
    "from torch import nn, utils\n",
    "from torch.utils.tensorboard import SummaryWriter\n",
    "from src import load_data, evaluate, conv_lstm, datasets\n",
    "import torch.autograd as autograd\n",
    "import pickle\n",
    "\n",
    "time_stamp = datetime.now().strftime('%Y%m%d-%H%M%S')\n",
    "time_stamp"
   ]
  },
  {
   "cell_type": "code",
   "execution_count": 2,
   "metadata": {},
   "outputs": [],
   "source": [
    "import logging\n",
    "logger = logging.getLogger()\n",
    "fhandler = logging.FileHandler(filename='../log.out', mode='a')\n",
    "chandler = logging.StreamHandler(sys.stdout)\n",
    "formatter = logging.Formatter('%(asctime)s - {} - %(message)s'.format(time_stamp))\n",
    "fhandler.setFormatter(formatter)\n",
    "chandler.setFormatter(formatter)\n",
    "logger.addHandler(fhandler)\n",
    "logger.addHandler(chandler)\n",
    "logger.setLevel(logging.INFO)"
   ]
  },
  {
   "cell_type": "code",
   "execution_count": 3,
   "metadata": {},
   "outputs": [
    {
     "name": "stdout",
     "output_type": "stream",
     "text": [
      "CUDA Available\n",
      "2019-07-23 13:44:13,047 - 20190723-134412 - cuda devices: ['Tesla V100-SXM2-16GB', 'Tesla V100-SXM2-16GB']\n"
     ]
    }
   ],
   "source": [
    "USE_CUDA = False\n",
    "if torch.cuda.is_available():\n",
    "    print('CUDA Available')\n",
    "    USE_CUDA = True\n",
    "device = torch.device('cuda:0' if USE_CUDA else 'cpu')\n",
    "num_devices = torch.cuda.device_count() if USE_CUDA else 0\n",
    "logger.warning('cuda devices: {}'.format(list(torch.cuda.get_device_name(i) for i in range(num_devices))))\n",
    "torch.manual_seed(0)\n",
    "np.random.seed(0)"
   ]
  },
  {
   "cell_type": "code",
   "execution_count": 4,
   "metadata": {},
   "outputs": [],
   "source": [
    "seq_len = 50\n",
    "seq_steps = 1\n",
    "\n",
    "train_start = datetime.strptime('2010-01-01', '%Y-%m-%d') + timedelta(hours=seq_len * seq_steps)  # first day for which to make a prediction in train set\n",
    "train_end = '2012-09-30'\n",
    "val_start = '2012-10-01'\n",
    "val_end = '2012-12-31'\n",
    "test_start = '2013-01-01'\n",
    "test_end = '2014-12-31'"
   ]
  },
  {
   "cell_type": "code",
   "execution_count": 5,
   "metadata": {
    "scrolled": true
   },
   "outputs": [
    {
     "name": "stderr",
     "output_type": "stream",
     "text": [
      "../src/load_data.py:43: RuntimeWarning: invalid value encountered in greater\n",
      "  rdrs_data[:,i,:,:] = rdrs_nc[forcing_variables[i]][:]\n",
      "../src/load_data.py:43: RuntimeWarning: invalid value encountered in greater\n",
      "  rdrs_data[:,i,:,:] = rdrs_nc[forcing_variables[i]][:]\n",
      "../src/load_data.py:43: RuntimeWarning: invalid value encountered in greater\n",
      "  rdrs_data[:,i,:,:] = rdrs_nc[forcing_variables[i]][:]\n"
     ]
    }
   ],
   "source": [
    "rdrs_vars = [4,5]\n",
    "train_dataset = datasets.RdrsGridDataset(rdrs_vars, seq_len, seq_steps, train_start, train_end)\n",
    "val_dataset = datasets.RdrsGridDataset(rdrs_vars, seq_len, seq_steps, val_start, val_end, conv_scalers=train_dataset.conv_scalers)\n",
    "test_dataset = datasets.RdrsGridDataset(rdrs_vars, seq_len, seq_steps, test_start, test_end, conv_scalers=train_dataset.conv_scalers)"
   ]
  },
  {
   "cell_type": "code",
   "execution_count": 6,
   "metadata": {
    "scrolled": true
   },
   "outputs": [],
   "source": [
    "class ConvLSTMGrid(nn.Module):\n",
    "    def __init__(self, input_size, input_dim, hidden_dim, kernel_size, num_layers, dropout=0.0):\n",
    "        super(ConvLSTMGrid, self).__init__()\n",
    "        self.conv = conv_lstm.ConvLSTM((input_size[0], input_size[1]), input_dim, hidden_dim, kernel_size, num_layers, batch_first=True)\n",
    "        self.dropout = nn.Dropout2d(p=dropout)\n",
    "        self.linear = nn.Linear(input_size[0] * input_size[1], input_size[0] * input_size[1])\n",
    "        \n",
    "    def forward(self, input_tensor, hidden_state=None):\n",
    "        conv_out, hidden = self.conv(input_tensor, hidden_state=hidden_state)\n",
    "        conv_out = self.dropout(conv_out[-1][:,-1,0,:,:])  # last output of last layer (which has only 1 dimension anyways)\n",
    "        return self.linear(conv_out.reshape(input_tensor.shape[0], -1)).reshape((input_tensor.shape[0], conv_out.shape[1], conv_out.shape[2])), hidden"
   ]
  },
  {
   "cell_type": "code",
   "execution_count": 7,
   "metadata": {},
   "outputs": [],
   "source": [
    "# Train model\n",
    "num_epochs = 100\n",
    "learning_rate = 2e-3\n",
    "patience = 50\n",
    "min_improvement = 0.05\n",
    "best_loss_model = (-1, np.inf, None)\n",
    "\n",
    "# Prepare model\n",
    "stateful_lstm = True\n",
    "num_conv_layers = 3\n",
    "conv_hidden_dims = [8] * (num_conv_layers - 1) + [1]\n",
    "batch_size = 16\n",
    "kernel_size = [(3,3), (3,3), (1,1)]\n",
    "dropout = 0.2\n",
    "\n",
    "model = ConvLSTMGrid((train_dataset.conv_height, train_dataset.conv_width), train_dataset.n_conv_vars, conv_hidden_dims, kernel_size, num_conv_layers, dropout=dropout).to(device)\n",
    "model = torch.nn.DataParallel(model, device_ids=list(range(num_devices)))\n",
    "loss_fn = torch.nn.MSELoss(reduction='mean')\n",
    "optimizer = torch.optim.Adam(model.parameters(), lr=learning_rate)\n",
    "\n",
    "writer = SummaryWriter()\n",
    "param_description = {'time_stamp': time_stamp, 'H_conv': conv_hidden_dims, 'batch_size': batch_size, 'num_conv_layers': num_conv_layers, 'kernel_size': kernel_size, 'loss': loss_fn, \n",
    "                     'optimizer': optimizer, 'lr': learning_rate, 'patience': patience, 'min_improvement': min_improvement, 'stateful_lstm': stateful_lstm, 'dropout': dropout,\n",
    "                     'num_epochs': num_epochs, 'seq_len': seq_len, 'seq_steps': seq_steps, 'train_start': train_start, 'train_end': train_end, 'val_start': val_start, \n",
    "                     'val_end': val_end, 'test_start': test_start, 'test_end': test_end, 'n_conv_vars': train_dataset.n_conv_vars, 'model': str(model).replace('\\n','').replace(' ', ''),\n",
    "                     'train len':len(train_dataset), 'val len': len(val_dataset), 'conv_height': train_dataset.conv_height, 'conv_width': train_dataset.conv_width, 'test len': len(test_dataset)}\n",
    "writer.add_text('Parameter Description', str(param_description))"
   ]
  },
  {
   "cell_type": "code",
   "execution_count": 8,
   "metadata": {},
   "outputs": [
    {
     "name": "stdout",
     "output_type": "stream",
     "text": [
      "Warning: Data source length not divisible by batch_size\n",
      "Warning: Data source length not divisible by batch_size\n",
      "Warning: Data source length not divisible by batch_size\n"
     ]
    }
   ],
   "source": [
    "if stateful_lstm:\n",
    "    train_sampler = datasets.StatefulBatchSampler(train_dataset, batch_size)\n",
    "    val_sampler = datasets.StatefulBatchSampler(val_dataset, batch_size)\n",
    "    test_sampler = datasets.StatefulBatchSampler(test_dataset, batch_size)\n",
    "    train_dataloader = torch.utils.data.DataLoader(train_dataset, batch_sampler=train_sampler, pin_memory=True)\n",
    "    val_dataloader = torch.utils.data.DataLoader(val_dataset, batch_sampler=val_sampler, pin_memory=True)\n",
    "    test_dataloader = torch.utils.data.DataLoader(test_dataset, batch_sampler=test_sampler, pin_memory=True)\n",
    "else:\n",
    "    train_dataloader = torch.utils.data.DataLoader(train_dataset, batch_size, shuffle=True, pin_memory=True, drop_last=True)\n",
    "    val_dataloader = torch.utils.data.DataLoader(val_dataset, batch_size, shuffle=False, pin_memory=True, drop_last=True)\n",
    "    test_dataloader = torch.utils.data.DataLoader(test_dataset, batch_size, shuffle=False, pin_memory=True, drop_last=True)"
   ]
  },
  {
   "cell_type": "code",
   "execution_count": 9,
   "metadata": {
    "scrolled": true
   },
   "outputs": [
    {
     "name": "stdout",
     "output_type": "stream",
     "text": [
      "Epoch 0 mean train loss:\t3542.933349609375\n",
      "Epoch 0 mean val mse:    \t739.79638671875\n"
     ]
    },
    {
     "name": "stderr",
     "output_type": "stream",
     "text": [
      "/home/mgauch/runoff-nn/gwf/lib/python3.6/site-packages/torch/serialization.py:256: UserWarning: Couldn't retrieve source code for container of type ConvLSTMGrid. It won't be checked for correctness upon loading.\n",
      "  \"type \" + obj.__name__ + \". It won't be checked \"\n"
     ]
    },
    {
     "name": "stdout",
     "output_type": "stream",
     "text": [
      "Saved model as ../pickle/models/ConvLSTM_VIC_allStations_20190723-134412.pkl\n",
      "Epoch 1 mean train loss:\t2932.011962890625\n",
      "Epoch 1 mean val mse:    \t1029.6136474609375\n",
      "Epoch 2 mean train loss:\t2896.7138671875\n",
      "Epoch 2 mean val mse:    \t1028.246337890625\n",
      "Epoch 3 mean train loss:\t2891.169921875\n",
      "Epoch 3 mean val mse:    \t1034.139404296875\n",
      "Epoch 4 mean train loss:\t2885.984130859375\n",
      "Epoch 4 mean val mse:    \t1037.7230224609375\n",
      "Epoch 5 mean train loss:\t2898.70947265625\n",
      "Epoch 5 mean val mse:    \t1017.8292846679688\n",
      "Epoch 6 mean train loss:\t2901.99951171875\n",
      "Epoch 6 mean val mse:    \t1017.2156982421875\n",
      "Epoch 7 mean train loss:\t2901.133544921875\n",
      "Epoch 7 mean val mse:    \t1019.3958129882812\n",
      "Epoch 8 mean train loss:\t2894.230712890625\n",
      "Epoch 8 mean val mse:    \t1004.3074340820312\n",
      "Epoch 9 mean train loss:\t2805.563232421875\n",
      "Epoch 9 mean val mse:    \t1186.6883544921875\n",
      "Epoch 10 mean train loss:\t2738.604248046875\n",
      "Epoch 10 mean val mse:    \t1287.025634765625\n",
      "Epoch 11 mean train loss:\t2601.6396484375\n",
      "Epoch 11 mean val mse:    \t1436.6116943359375\n",
      "Epoch 12 mean train loss:\t2578.51123046875\n",
      "Epoch 12 mean val mse:    \t1518.405029296875\n",
      "Epoch 13 mean train loss:\t2549.9599609375\n",
      "Epoch 13 mean val mse:    \t1541.6021728515625\n",
      "Epoch 14 mean train loss:\t2561.168212890625\n",
      "Epoch 14 mean val mse:    \t1527.632568359375\n",
      "Epoch 15 mean train loss:\t2540.873046875\n",
      "Epoch 15 mean val mse:    \t1540.6898193359375\n",
      "Epoch 16 mean train loss:\t2560.4765625\n",
      "Epoch 16 mean val mse:    \t1533.4571533203125\n",
      "Epoch 17 mean train loss:\t2557.77685546875\n",
      "Epoch 17 mean val mse:    \t1532.732666015625\n",
      "Epoch 18 mean train loss:\t2574.230224609375\n",
      "Epoch 18 mean val mse:    \t1387.1011962890625\n",
      "Epoch 19 mean train loss:\t2611.276123046875\n",
      "Epoch 19 mean val mse:    \t1395.0113525390625\n",
      "Epoch 20 mean train loss:\t2569.39208984375\n",
      "Epoch 20 mean val mse:    \t1455.1798095703125\n",
      "Epoch 21 mean train loss:\t2569.060791015625\n",
      "Epoch 21 mean val mse:    \t1518.876708984375\n",
      "Epoch 22 mean train loss:\t2576.75\n",
      "Epoch 22 mean val mse:    \t1418.7916259765625\n",
      "Epoch 23 mean train loss:\t2551.076904296875\n",
      "Epoch 23 mean val mse:    \t1492.4263916015625\n",
      "Epoch 24 mean train loss:\t2560.681884765625\n",
      "Epoch 24 mean val mse:    \t1507.4188232421875\n",
      "Epoch 25 mean train loss:\t2550.543212890625\n",
      "Epoch 25 mean val mse:    \t1508.91845703125\n",
      "Epoch 26 mean train loss:\t2530.2509765625\n",
      "Epoch 26 mean val mse:    \t1519.713134765625\n",
      "Epoch 27 mean train loss:\t2540.07470703125\n",
      "Epoch 27 mean val mse:    \t1530.3121337890625\n",
      "Epoch 28 mean train loss:\t2539.580078125\n",
      "Epoch 28 mean val mse:    \t1509.7171630859375\n",
      "Epoch 29 mean train loss:\t2551.8076171875\n",
      "Epoch 29 mean val mse:    \t1508.5267333984375\n",
      "Epoch 30 mean train loss:\t2559.350830078125\n",
      "Epoch 30 mean val mse:    \t1460.6314697265625\n",
      "Epoch 31 mean train loss:\t2538.616455078125\n",
      "Epoch 31 mean val mse:    \t1496.359619140625\n",
      "Epoch 32 mean train loss:\t2547.064208984375\n",
      "Epoch 32 mean val mse:    \t1531.6588134765625\n",
      "Epoch 33 mean train loss:\t2532.13720703125\n",
      "Epoch 33 mean val mse:    \t1516.951171875\n",
      "Epoch 34 mean train loss:\t2523.722412109375\n",
      "Epoch 34 mean val mse:    \t1509.9366455078125\n",
      "Epoch 35 mean train loss:\t2535.2978515625\n",
      "Epoch 35 mean val mse:    \t1415.2835693359375\n",
      "Epoch 36 mean train loss:\t2588.527587890625\n",
      "Epoch 36 mean val mse:    \t1449.717529296875\n",
      "Epoch 37 mean train loss:\t2565.212158203125\n",
      "Epoch 37 mean val mse:    \t1444.9984130859375\n",
      "Epoch 38 mean train loss:\t2521.78076171875\n",
      "Epoch 38 mean val mse:    \t1432.592041015625\n",
      "Epoch 39 mean train loss:\t2578.323486328125\n",
      "Epoch 39 mean val mse:    \t1457.038330078125\n",
      "Epoch 40 mean train loss:\t2535.2861328125\n",
      "Epoch 40 mean val mse:    \t1422.0364990234375\n",
      "Epoch 41 mean train loss:\t2565.194580078125\n",
      "Epoch 41 mean val mse:    \t1441.661376953125\n",
      "Epoch 42 mean train loss:\t2554.39697265625\n",
      "Epoch 42 mean val mse:    \t1430.873046875\n",
      "Epoch 43 mean train loss:\t2548.403076171875\n",
      "Epoch 43 mean val mse:    \t1437.5234375\n",
      "Epoch 44 mean train loss:\t2562.352294921875\n",
      "Epoch 44 mean val mse:    \t1395.59765625\n",
      "Epoch 45 mean train loss:\t2486.501708984375\n",
      "Epoch 45 mean val mse:    \t785.8922119140625\n",
      "Epoch 46 mean train loss:\t2760.115478515625\n",
      "Epoch 46 mean val mse:    \t1446.467041015625\n",
      "Epoch 47 mean train loss:\t2612.47705078125\n",
      "Epoch 47 mean val mse:    \t1472.8463134765625\n",
      "Epoch 48 mean train loss:\t2585.370849609375\n",
      "Epoch 48 mean val mse:    \t1476.89013671875\n",
      "Epoch 49 mean train loss:\t2593.420166015625\n",
      "Epoch 49 mean val mse:    \t1403.6396484375\n",
      "Epoch 50 mean train loss:\t2555.784423828125\n",
      "Epoch 50 mean val mse:    \t1386.025634765625\n",
      "Epoch 51 mean train loss:\t2502.18603515625\n",
      "Epoch 51 mean val mse:    \t963.1751708984375\n",
      "Patience exhausted in epoch 51. Best val-loss was 739.79638671875\n",
      "Using best model from epoch 0 which had loss 739.79638671875\n",
      "Saved model as ../pickle/models/ConvLSTM_VIC_allStations_20190723-134412.pkl\n"
     ]
    }
   ],
   "source": [
    "for epoch in range(num_epochs):\n",
    "    model.train()\n",
    "\n",
    "    epoch_losses = torch.tensor(0.0)\n",
    "    conv_hidden_states = None\n",
    "    for i, train_batch in enumerate(train_dataloader):\n",
    "        y_train = train_batch['y'].reshape(-1).to(device, non_blocking=True)\n",
    "        mask = train_batch['mask'].reshape(-1).to(device, non_blocking=True)\n",
    "        if mask.sum() == 0:\n",
    "            print('Batch {} has no target values. skipping.'.format(i))\n",
    "            continue\n",
    "        if not stateful_lstm:\n",
    "            conv_hidden_states = None\n",
    "        \n",
    "        y_pred, conv_hidden_states = model(train_batch['x_conv'].to(device), hidden_state=conv_hidden_states)\n",
    "        y_pred = y_pred.reshape(-1) * mask  # ignore grid cells that have no target value\n",
    "        loss = loss_fn(y_pred, y_train)\n",
    "\n",
    "        optimizer.zero_grad()\n",
    "        loss.backward()\n",
    "        optimizer.step()\n",
    "        \n",
    "        epoch_losses += (loss * y_train.shape[0] / mask.sum()).detach()  # only average over losses where we had a target\n",
    "        \n",
    "    epoch_loss = (epoch_losses / len(train_dataloader)).item()\n",
    "    print('Epoch', epoch, 'mean train loss:\\t{}'.format(epoch_loss))\n",
    "    writer.add_scalar('loss', epoch_loss, epoch)\n",
    "    \n",
    "    # eval on validation split\n",
    "    model.eval()\n",
    "    val_losses = torch.tensor(0.0)\n",
    "    for i, val_batch in enumerate(val_dataloader):\n",
    "        y_val = val_batch['y'].reshape(-1).to(device, non_blocking=True)\n",
    "        mask = val_batch['mask'].reshape(-1).to(device, non_blocking=True)\n",
    "        if not stateful_lstm:\n",
    "            conv_hidden_states = None\n",
    "        \n",
    "        batch_pred, conv_hidden_states = model(val_batch['x_conv'], hidden_state=conv_hidden_states)\n",
    "        batch_pred = batch_pred.detach().reshape(-1)\n",
    "        val_losses += (loss_fn(batch_pred * mask, y_val).detach() * y_val.shape[0] / mask.sum())\n",
    "        \n",
    "    val_mse = (val_losses / len(val_dataloader)).item()\n",
    "    print('Epoch {} mean val mse:    \\t{}'.format(epoch, val_mse))\n",
    "    writer.add_scalar('loss_eval', val_mse, epoch)\n",
    "\n",
    "    if val_mse < best_loss_model[1] - min_improvement:\n",
    "        best_loss_model = (epoch, val_mse, model.state_dict())  # new best model\n",
    "        load_data.pickle_model('ConvLSTM_VIC', model, 'allStations', time_stamp)\n",
    "    elif epoch > best_loss_model[0] + patience:\n",
    "        print('Patience exhausted in epoch {}. Best val-loss was {}'.format(epoch, best_loss_model[1]))\n",
    "        break\n",
    "\n",
    "print('Using best model from epoch', str(best_loss_model[0]), 'which had loss', str(best_loss_model[1]))\n",
    "model.load_state_dict(best_loss_model[2])\n",
    "load_data.pickle_model('ConvLSTM_VIC', model, 'allStations', time_stamp)"
   ]
  },
  {
   "cell_type": "code",
   "execution_count": 10,
   "metadata": {
    "scrolled": true
   },
   "outputs": [
    {
     "name": "stdout",
     "output_type": "stream",
     "text": [
      "2019-07-23 13:58:25,767 - 20190723-134412 - predicting\n"
     ]
    }
   ],
   "source": [
    "logger.warning('predicting')\n",
    "model.eval()\n",
    "\n",
    "predictions = []\n",
    "for i, test_batch in enumerate(test_dataloader):\n",
    "    if not stateful_lstm:\n",
    "        conv_hidden_states = None\n",
    "        \n",
    "    pred, conv_hidden_states = model(test_batch['x_conv'], hidden_state=conv_hidden_states)\n",
    "    predictions.append(pred.detach())\n",
    "    \n",
    "predictions = torch.cat(predictions).cpu()\n",
    "\n",
    "if stateful_lstm:\n",
    "    # reorder time series\n",
    "    pred_indices = np.array(list(test_sampler.__iter__())).reshape(-1)\n",
    "    predictions = predictions[pred_indices.argsort()]"
   ]
  },
  {
   "cell_type": "code",
   "execution_count": 11,
   "metadata": {
    "scrolled": true
   },
   "outputs": [
    {
     "name": "stdout",
     "output_type": "stream",
     "text": [
      "Warning: length of prediction 720 and actuals 730 does not match.\n",
      "Warning: length of prediction 720 and actuals 730 does not match for station 02GA047. Ignoring excess actuals.\n"
     ]
    },
    {
     "name": "stderr",
     "output_type": "stream",
     "text": [
      "/home/mgauch/runoff-nn/gwf/lib/python3.6/site-packages/pandas/plotting/_converter.py:129: FutureWarning: Using an implicitly registered datetime converter for a matplotlib plotting method. The converter was registered by pandas on import. Future versions of pandas will require you to explicitly register matplotlib converters.\n",
      "\n",
      "To register the converters:\n",
      "\t>>> from pandas.plotting import register_matplotlib_converters\n",
      "\t>>> register_matplotlib_converters()\n",
      "  warnings.warn(msg, FutureWarning)\n"
     ]
    },
    {
     "name": "stdout",
     "output_type": "stream",
     "text": [
      "02GA047 \tNSE: 0.010180937309954174 \tMSE: 78.59408397863525 (clipped to 0)\n",
      "Warning: length of prediction 720 and actuals 730 does not match for station 04213000. Ignoring excess actuals.\n",
      "04213000 \tNSE: -0.07811303901701216 \tMSE: 195.9159727920268 (clipped to 0)\n",
      "Warning: length of prediction 720 and actuals 730 does not match for station 04176500. Ignoring excess actuals.\n",
      "04176500 \tNSE: 0.022720099883178135 \tMSE: 675.8462510013679 (clipped to 0)\n",
      "Warning: length of prediction 720 and actuals 730 does not match for station 02GG003. Ignoring excess actuals.\n",
      "02GG003 \tNSE: 0.11120106318494416 \tMSE: 429.18663781885175 (clipped to 0)\n",
      "Warning: length of prediction 720 and actuals 730 does not match for station 04214500. Ignoring excess actuals.\n",
      "04214500 \tNSE: 0.08382365242162226 \tMSE: 111.8480165826856 (clipped to 0)\n",
      "Warning: length of prediction 720 and actuals 730 does not match for station 02GC026. Ignoring excess actuals.\n",
      "02GC026 \tNSE: 0.09124759651618286 \tMSE: 148.05697319308405 (clipped to 0)\n",
      "Warning: length of prediction 720 and actuals 730 does not match for station 04174500. Ignoring excess actuals.\n",
      "04174500 \tNSE: 0.006706003531232407 \tMSE: 95.1804080729224 (clipped to 0)\n",
      "Warning: length of prediction 720 and actuals 730 does not match for station 02GG013. Ignoring excess actuals.\n",
      "02GG013 \tNSE: 0.010034235869531227 \tMSE: 38.082392090784154 (clipped to 0)\n",
      "Warning: length of prediction 720 and actuals 730 does not match for station 04161820. Ignoring excess actuals.\n",
      "04161820 \tNSE: -0.9838320538191772 \tMSE: 63.27894843483675 (clipped to 0)\n",
      "Warning: length of prediction 720 and actuals 730 does not match for station 04159492. Ignoring excess actuals.\n",
      "04159492 \tNSE: 0.049671628779830224 \tMSE: 441.5063902642216 (clipped to 0)\n",
      "Warning: length of prediction 720 and actuals 730 does not match for station 04200500. Ignoring excess actuals.\n",
      "04200500 \tNSE: 0.00574537585500956 \tMSE: 1007.8564039203993 (clipped to 0)\n",
      "Warning: length of prediction 720 and actuals 730 does not match for station 02GB001. Ignoring excess actuals.\n",
      "02GB001 \tNSE: -0.14444229300420042 \tMSE: 8593.774121396165 (clipped to 0)\n",
      "Warning: length of prediction 720 and actuals 730 does not match for station 04208504. Ignoring excess actuals.\n",
      "04208504 \tNSE: -0.07041752689633052 \tMSE: 1057.1865538533905 (clipped to 0)\n",
      "Warning: length of prediction 720 and actuals 730 does not match for station 04199000. Ignoring excess actuals.\n",
      "04199000 \tNSE: -0.01566188743040353 \tMSE: 1051.6854971711352 (clipped to 0)\n",
      "Warning: length of prediction 720 and actuals 730 does not match for station 02GG002. Ignoring excess actuals.\n",
      "02GG002 \tNSE: 0.09531215875139831 \tMSE: 220.71212967101 (clipped to 0)\n",
      "Warning: length of prediction 720 and actuals 730 does not match for station 04193500. Ignoring excess actuals.\n",
      "04193500 \tNSE: 0.0981065410534453 \tMSE: 64646.62576610151 (clipped to 0)\n",
      "Warning: length of prediction 720 and actuals 730 does not match for station 04207200. Ignoring excess actuals.\n",
      "04207200 \tNSE: -0.12415678524528095 \tMSE: 26.64596372160266 (clipped to 0)\n",
      "Warning: length of prediction 720 and actuals 730 does not match for station 04160600. Ignoring excess actuals.\n",
      "04160600 \tNSE: 0.07141952047295708 \tMSE: 26.975035588846932 (clipped to 0)\n",
      "Warning: length of prediction 720 and actuals 730 does not match for station 04215000. Ignoring excess actuals.\n",
      "04215000 \tNSE: 0.059880161607452465 \tMSE: 91.47098923981842 (clipped to 0)\n",
      "Warning: length of prediction 720 and actuals 730 does not match for station 02GB007. Ignoring excess actuals.\n",
      "02GB007 \tNSE: 0.09104037592577041 \tMSE: 28.759694076175098 (clipped to 0)\n",
      "Warning: length of prediction 720 and actuals 730 does not match for station 02GC002. Ignoring excess actuals.\n",
      "02GC002 \tNSE: 0.03960915715948987 \tMSE: 124.94899699313876 (clipped to 0)\n",
      "Warning: length of prediction 720 and actuals 730 does not match for station 02GA038. Ignoring excess actuals.\n",
      "02GA038 \tNSE: 0.006381211899594619 \tMSE: 162.76578269350344 (clipped to 0)\n",
      "Warning: length of prediction 720 and actuals 730 does not match for station 02GA010. Ignoring excess actuals.\n",
      "02GA010 \tNSE: -0.007252512840542513 \tMSE: 481.9399655120379 (clipped to 0)\n",
      "Warning: length of prediction 720 and actuals 730 does not match for station 02GG009. Ignoring excess actuals.\n",
      "02GG009 \tNSE: 0.04693655561696519 \tMSE: 149.79496968678748 (clipped to 0)\n",
      "Warning: length of prediction 720 and actuals 730 does not match for station 04165500. Ignoring excess actuals.\n",
      "04165500 \tNSE: -0.044612551208921936 \tMSE: 470.2081015718729 (clipped to 0)\n",
      "Warning: length of prediction 720 and actuals 730 does not match for station 04198000. Ignoring excess actuals.\n",
      "04198000 \tNSE: 0.03173499063228391 \tMSE: 7234.447653290831 (clipped to 0)\n",
      "Warning: length of prediction 720 and actuals 730 does not match for station 04213500. Ignoring excess actuals.\n",
      "04213500 \tNSE: 0.07683311132159376 \tMSE: 958.2249923522212 (clipped to 0)\n",
      "Warning: length of prediction 720 and actuals 730 does not match for station 02GA018. Ignoring excess actuals.\n",
      "02GA018 \tNSE: -0.0070546750988895734 \tMSE: 253.386200853341 (clipped to 0)\n",
      "Warning: length of prediction 720 and actuals 730 does not match for station 02GG006. Ignoring excess actuals.\n",
      "02GG006 \tNSE: 0.06366069436834731 \tMSE: 50.61452526461024 (clipped to 0)\n",
      "Warning: length of prediction 720 and actuals 730 does not match for station 02GC007. Ignoring excess actuals.\n",
      "02GC007 \tNSE: 0.12081549635023159 \tMSE: 26.800505224959302 (clipped to 0)\n",
      "Warning: length of prediction 720 and actuals 730 does not match for station 04215500. Ignoring excess actuals.\n",
      "04215500 \tNSE: 0.0664114607524684 \tMSE: 170.5463389331952 (clipped to 0)\n",
      "Warning: length of prediction 720 and actuals 730 does not match for station 04195820. Ignoring excess actuals.\n",
      "04195820 \tNSE: 0.029464820348235277 \tMSE: 1153.468122788473 (clipped to 0)\n",
      "Warning: length of prediction 720 and actuals 730 does not match for station 04209000. Ignoring excess actuals.\n",
      "04209000 \tNSE: -0.051014935057780875 \tMSE: 332.8716400135798 (clipped to 0)\n",
      "Warning: length of prediction 720 and actuals 730 does not match for station 02GE007. Ignoring excess actuals.\n",
      "02GE007 \tNSE: 0.07568537500221362 \tMSE: 33.81708430354835 (clipped to 0)\n",
      "Warning: length of prediction 720 and actuals 730 does not match for station 02GC010. Ignoring excess actuals.\n",
      "02GC010 \tNSE: 0.05664488208037355 \tMSE: 56.810914202406586 (clipped to 0)\n",
      "Warning: length of prediction 720 and actuals 730 does not match for station 04166100. Ignoring excess actuals.\n",
      "04166100 \tNSE: -0.6633223939833057 \tMSE: 12.228131138360554 (clipped to 0)\n",
      "Warning: length of prediction 720 and actuals 730 does not match for station 04177000. Ignoring excess actuals.\n",
      "04177000 \tNSE: -0.20375335829179364 \tMSE: 32.83217755971229 (clipped to 0)\n",
      "Warning: length of prediction 720 and actuals 730 does not match for station 04164000. Ignoring excess actuals.\n",
      "04164000 \tNSE: -0.08137668776133533 \tMSE: 191.3237787626012 (clipped to 0)\n",
      "Warning: length of prediction 720 and actuals 730 does not match for station 04159900. Ignoring excess actuals.\n",
      "04159900 \tNSE: 0.07132361636296491 \tMSE: 40.57082641502162 (clipped to 0)\n",
      "Warning: length of prediction 720 and actuals 730 does not match for station 02GD004. Ignoring excess actuals.\n",
      "02GD004 \tNSE: 0.01685369363068634 \tMSE: 54.7559502470022 (clipped to 0)\n",
      "Warning: length of prediction 720 and actuals 730 does not match for station 04196800. Ignoring excess actuals.\n",
      "04196800 \tNSE: -0.045983291283273386 \tMSE: 316.61101806288684 (clipped to 0)\n",
      "Warning: length of prediction 720 and actuals 730 does not match for station 04199500. Ignoring excess actuals.\n",
      "04199500 \tNSE: -0.07429104523313224 \tMSE: 440.2540157063112 (clipped to 0)\n",
      "Warning: length of prediction 720 and actuals 730 does not match for station 04212100. Ignoring excess actuals.\n",
      "04212100 \tNSE: -0.006610302942847479 \tMSE: 1496.8722780276478 (clipped to 0)\n",
      "Warning: length of prediction 720 and actuals 730 does not match for station 02GC018. Ignoring excess actuals.\n",
      "02GC018 \tNSE: -0.025483418501502042 \tMSE: 70.35348893533248 (clipped to 0)\n",
      "Warning: length of prediction 720 and actuals 730 does not match for station 04166500. Ignoring excess actuals.\n",
      "04166500 \tNSE: -0.0789871500363526 \tMSE: 37.55240487136503 (clipped to 0)\n",
      "Warning: length of prediction 720 and actuals 730 does not match for station 04197100. Ignoring excess actuals.\n",
      "04197100 \tNSE: -0.007338736728083939 \tMSE: 104.53478975249214 (clipped to 0)\n",
      "Median NSE (clipped to 0) 0.0101075865897427 / Min -0.9838320538191772 / Max 0.12081549635023159\n",
      "Median MSE (clipped to 0) 156.28037619014546 / Min 12.228131138360554 / Max 64646.62576610151\n"
     ]
    }
   ],
   "source": [
    "actuals = test_dataset.data_runoff.copy()\n",
    "if len(actuals['date'].unique()) != len(predictions):\n",
    "    print('Warning: length of prediction {} and actuals {} does not match.'.format(len(predictions), len(actuals['date'].unique())))\n",
    "\n",
    "nse_list = []\n",
    "mse_list = []\n",
    "predictions_df = pd.DataFrame(columns=actuals.columns)\n",
    "for station in actuals['station'].unique():\n",
    "    row, col = test_dataset.station_to_row_col[station]\n",
    "    \n",
    "    act = actuals[actuals['station'] == station].set_index('date')['runoff']\n",
    "    if predictions.shape[0] != act.shape[0]:\n",
    "        print('Warning: length of prediction {} and actuals {} does not match for station {}. Ignoring excess actuals.'.format(len(predictions), len(act), station))\n",
    "        act = act.iloc[:predictions.shape[0]]\n",
    "    pred = pd.DataFrame({'runoff': predictions[:,row,col]}, index=act.index)\n",
    "    pred['station'] = station\n",
    "    predictions_df = predictions_df.append(pred.reset_index(), sort=True)\n",
    "    \n",
    "    nse, mse = evaluate.evaluate_daily(station, pred['runoff'], act, writer=writer)\n",
    "    nse_list.append(nse)\n",
    "    mse_list.append(mse)\n",
    "    \n",
    "    print(station, '\\tNSE:', nse, '\\tMSE:', mse, '(clipped to 0)')\n",
    "\n",
    "print('Median NSE (clipped to 0)', np.median(nse_list), '/ Min', np.min(nse_list), '/ Max', np.max(nse_list))\n",
    "print('Median MSE (clipped to 0)', np.median(mse_list), '/ Min', np.min(mse_list), '/ Max', np.max(mse_list))\n",
    "writer.add_scalar('nse_median', np.median(nse_list))"
   ]
  },
  {
   "cell_type": "code",
   "execution_count": 12,
   "metadata": {},
   "outputs": [],
   "source": [
    "writer.close()"
   ]
  },
  {
   "cell_type": "code",
   "execution_count": 13,
   "metadata": {},
   "outputs": [
    {
     "data": {
      "text/plain": [
       "'ConvLSTM_VIC_20190723-134412.pkl'"
      ]
     },
     "execution_count": 13,
     "metadata": {},
     "output_type": "execute_result"
    }
   ],
   "source": [
    "save_df = pd.merge(predictions_df.rename({'runoff': 'prediction'}, axis=1), actuals.rename({'runoff': 'actual'}, axis=1), \n",
    "                   on=['date', 'station'])[['date', 'station', 'prediction', 'actual']]\n",
    "load_data.pickle_results('ConvLSTM_VIC', save_df, time_stamp)"
   ]
  },
  {
   "cell_type": "code",
   "execution_count": 14,
   "metadata": {},
   "outputs": [
    {
     "data": {
      "text/plain": [
       "'20190723-135839'"
      ]
     },
     "execution_count": 14,
     "metadata": {},
     "output_type": "execute_result"
    }
   ],
   "source": [
    "datetime.now().strftime('%Y%m%d-%H%M%S')"
   ]
  },
  {
   "cell_type": "code",
   "execution_count": 15,
   "metadata": {},
   "outputs": [],
   "source": []
  }
 ],
 "metadata": {
  "kernelspec": {
   "display_name": "Python 3",
   "language": "python",
   "name": "python3"
  },
  "language_info": {
   "codemirror_mode": {
    "name": "ipython",
    "version": 3
   },
   "file_extension": ".py",
   "mimetype": "text/x-python",
   "name": "python",
   "nbconvert_exporter": "python",
   "pygments_lexer": "ipython3",
   "version": "3.7.3"
  }
 },
 "nbformat": 4,
 "nbformat_minor": 4
}
