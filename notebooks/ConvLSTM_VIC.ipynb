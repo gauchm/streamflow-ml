{
 "cells": [
  {
   "cell_type": "markdown",
   "metadata": {},
   "source": [
    "ConvLSTM trained on gridded forcings for all stations"
   ]
  },
  {
   "cell_type": "code",
   "execution_count": 1,
   "metadata": {},
   "outputs": [
    {
     "data": {
      "text/plain": [
       "'20190723-191403'"
      ]
     },
     "execution_count": 1,
     "metadata": {},
     "output_type": "execute_result"
    }
   ],
   "source": [
    "%load_ext autoreload\n",
    "%autoreload 2\n",
    "import sys\n",
    "sys.path.append('..')\n",
    "import os\n",
    "import numpy as np\n",
    "import pandas as pd\n",
    "from matplotlib import pyplot as plt \n",
    "from datetime import datetime, timedelta\n",
    "from sklearn import preprocessing\n",
    "import netCDF4 as nc\n",
    "import torch\n",
    "from torch import nn, utils\n",
    "from torch.utils.tensorboard import SummaryWriter\n",
    "from src import load_data, evaluate, conv_lstm, datasets\n",
    "import torch.autograd as autograd\n",
    "import pickle\n",
    "\n",
    "time_stamp = datetime.now().strftime('%Y%m%d-%H%M%S')\n",
    "time_stamp"
   ]
  },
  {
   "cell_type": "code",
   "execution_count": 2,
   "metadata": {},
   "outputs": [],
   "source": [
    "import logging\n",
    "logger = logging.getLogger()\n",
    "fhandler = logging.FileHandler(filename='../log.out', mode='a')\n",
    "chandler = logging.StreamHandler(sys.stdout)\n",
    "formatter = logging.Formatter('%(asctime)s - {} - %(message)s'.format(time_stamp))\n",
    "fhandler.setFormatter(formatter)\n",
    "chandler.setFormatter(formatter)\n",
    "logger.addHandler(fhandler)\n",
    "logger.addHandler(chandler)\n",
    "logger.setLevel(logging.INFO)"
   ]
  },
  {
   "cell_type": "code",
   "execution_count": 3,
   "metadata": {},
   "outputs": [
    {
     "name": "stdout",
     "output_type": "stream",
     "text": [
      "CUDA Available\n",
      "2019-07-23 19:14:04,194 - 20190723-191403 - cuda devices: ['Tesla V100-SXM2-16GB', 'Tesla V100-SXM2-16GB']\n"
     ]
    }
   ],
   "source": [
    "USE_CUDA = False\n",
    "if torch.cuda.is_available():\n",
    "    print('CUDA Available')\n",
    "    USE_CUDA = True\n",
    "device = torch.device('cuda:0' if USE_CUDA else 'cpu')\n",
    "num_devices = torch.cuda.device_count() if USE_CUDA else 0\n",
    "logger.warning('cuda devices: {}'.format(list(torch.cuda.get_device_name(i) for i in range(num_devices))))\n",
    "torch.manual_seed(0)\n",
    "np.random.seed(0)"
   ]
  },
  {
   "cell_type": "code",
   "execution_count": 4,
   "metadata": {},
   "outputs": [],
   "source": [
    "seq_len = 5*24\n",
    "seq_steps = 1\n",
    "\n",
    "train_start = datetime.strptime('2010-01-01', '%Y-%m-%d') + timedelta(hours=seq_len * seq_steps)  # first day for which to make a prediction in train set\n",
    "train_end = '2012-09-30'\n",
    "val_start = '2012-10-01'\n",
    "val_end = '2012-12-31'\n",
    "test_start = '2013-01-01'\n",
    "test_end = '2014-12-31'"
   ]
  },
  {
   "cell_type": "code",
   "execution_count": 5,
   "metadata": {
    "scrolled": true
   },
   "outputs": [
    {
     "name": "stderr",
     "output_type": "stream",
     "text": [
      "../src/load_data.py:43: RuntimeWarning: invalid value encountered in greater\n",
      "  rdrs_data[:,i,:,:] = rdrs_nc[forcing_variables[i]][:]\n",
      "../src/load_data.py:43: RuntimeWarning: invalid value encountered in greater\n",
      "  rdrs_data[:,i,:,:] = rdrs_nc[forcing_variables[i]][:]\n",
      "../src/load_data.py:43: RuntimeWarning: invalid value encountered in greater\n",
      "  rdrs_data[:,i,:,:] = rdrs_nc[forcing_variables[i]][:]\n"
     ]
    }
   ],
   "source": [
    "rdrs_vars = [4,5]\n",
    "train_dataset = datasets.RdrsGridDataset(rdrs_vars, seq_len, seq_steps, train_start, train_end)\n",
    "val_dataset = datasets.RdrsGridDataset(rdrs_vars, seq_len, seq_steps, val_start, val_end, conv_scalers=train_dataset.conv_scalers)\n",
    "test_dataset = datasets.RdrsGridDataset(rdrs_vars, seq_len, seq_steps, test_start, test_end, conv_scalers=train_dataset.conv_scalers)"
   ]
  },
  {
   "cell_type": "code",
   "execution_count": 6,
   "metadata": {
    "scrolled": true
   },
   "outputs": [],
   "source": [
    "class ConvLSTMGrid(nn.Module):\n",
    "    def __init__(self, input_size, input_dim, hidden_dim, kernel_size, num_layers, dropout=0.0):\n",
    "        super(ConvLSTMGrid, self).__init__()\n",
    "        self.conv_lstm = conv_lstm.ConvLSTM((input_size[0], input_size[1]), input_dim, hidden_dim, kernel_size, num_layers, batch_first=True)\n",
    "        self.dropout = nn.Dropout2d(p=dropout)\n",
    "        self.conv_out = nn.Conv2d(hidden_dim[-1], 1, (1,1))\n",
    "        \n",
    "    def forward(self, input_tensor, hidden_state=None):\n",
    "        convlstm_out, hidden = self.conv_lstm(input_tensor, hidden_state=hidden_state)\n",
    "        convlstm_out = self.dropout(convlstm_out[-1][:,-1,:,:,:])  # last output of last layer\n",
    "        return self.conv_out(convlstm_out)[:,0,:,:], hidden"
   ]
  },
  {
   "cell_type": "code",
   "execution_count": 7,
   "metadata": {},
   "outputs": [
    {
     "data": {
      "text/plain": [
       "\"{'time_stamp': '20190723-191403', 'H_conv': [8, 8, 8], 'batch_size': 16, 'num_conv_layers': 3, 'kernel_size': [(3, 3), (3, 3), (3, 3)], 'loss': MSELoss(), 'optimizer': Adam (\\nParameter Group 0\\n    amsgrad: False\\n    betas: (0.9, 0.999)\\n    eps: 1e-08\\n    lr: 0.002\\n    weight_decay: 1e-05\\n), 'lr': 0.002, 'patience': 100, 'min_improvement': 0.05, 'stateful_lstm': False, 'dropout': 0.3, 'num_epochs': 200, 'seq_len': 120, 'seq_steps': 1, 'train_start': datetime.datetime(2010, 1, 6, 0, 0), 'train_end': '2012-09-30', 'val_start': '2012-10-01', 'weight_decay': 1e-05, 'val_end': '2012-12-31', 'test_start': '2013-01-01', 'test_end': '2014-12-31', 'n_conv_vars': 2, 'model': 'DataParallel((module):ConvLSTMGrid((conv_lstm):ConvLSTM((cell_list):ModuleList((0):ConvLSTMCell((conv):Conv2d(10,32,kernel_size=(3,3),stride=(1,1),padding=(1,1)))(1):Identity()(2):ConvLSTMCell((conv):Conv2d(16,32,kernel_size=(3,3),stride=(1,1),padding=(1,1)))(3):Identity()(4):ConvLSTMCell((conv):Conv2d(16,32,kernel_size=(3,3),stride=(1,1),padding=(1,1)))(5):Identity()))(dropout):Dropout2d(p=0.3)(conv_out):Conv2d(8,1,kernel_size=(1,1),stride=(1,1))))', 'train len': 999, 'val len': 92, 'conv_height': 34, 'conv_width': 39, 'test len': 730}\""
      ]
     },
     "execution_count": 7,
     "metadata": {},
     "output_type": "execute_result"
    }
   ],
   "source": [
    "# Train model\n",
    "num_epochs = 200\n",
    "learning_rate = 2e-3\n",
    "patience = 100\n",
    "min_improvement = 0.05\n",
    "best_loss_model = (-1, np.inf, None)\n",
    "\n",
    "# Prepare model\n",
    "stateful_lstm = False\n",
    "num_conv_layers = 3\n",
    "conv_hidden_dims = [8] * num_conv_layers\n",
    "batch_size = 16\n",
    "kernel_size = [(3,3)] * num_conv_layers\n",
    "dropout = 0.3\n",
    "weight_decay = 1e-5\n",
    "\n",
    "model = ConvLSTMGrid((train_dataset.conv_height, train_dataset.conv_width), train_dataset.n_conv_vars, conv_hidden_dims, kernel_size, num_conv_layers, dropout=dropout).to(device)\n",
    "model = torch.nn.DataParallel(model, device_ids=list(range(num_devices)))\n",
    "loss_fn = torch.nn.MSELoss(reduction='mean')\n",
    "optimizer = torch.optim.Adam(model.parameters(), lr=learning_rate, weight_decay=weight_decay)\n",
    "\n",
    "writer = SummaryWriter()\n",
    "param_description = {'time_stamp': time_stamp, 'H_conv': conv_hidden_dims, 'batch_size': batch_size, 'num_conv_layers': num_conv_layers, 'kernel_size': kernel_size, 'loss': loss_fn, \n",
    "                     'optimizer': optimizer, 'lr': learning_rate, 'patience': patience, 'min_improvement': min_improvement, 'stateful_lstm': stateful_lstm, 'dropout': dropout,\n",
    "                     'num_epochs': num_epochs, 'seq_len': seq_len, 'seq_steps': seq_steps, 'train_start': train_start, 'train_end': train_end, 'val_start': val_start, 'weight_decay': weight_decay,\n",
    "                     'val_end': val_end, 'test_start': test_start, 'test_end': test_end, 'n_conv_vars': train_dataset.n_conv_vars, 'model': str(model).replace('\\n','').replace(' ', ''),\n",
    "                     'train len':len(train_dataset), 'val len': len(val_dataset), 'conv_height': train_dataset.conv_height, 'conv_width': train_dataset.conv_width, 'test len': len(test_dataset)}\n",
    "writer.add_text('Parameter Description', str(param_description))\n",
    "str(param_description)"
   ]
  },
  {
   "cell_type": "code",
   "execution_count": 8,
   "metadata": {},
   "outputs": [],
   "source": [
    "if stateful_lstm:\n",
    "    train_sampler = datasets.StatefulBatchSampler(train_dataset, batch_size)\n",
    "    val_sampler = datasets.StatefulBatchSampler(val_dataset, batch_size)\n",
    "    test_sampler = datasets.StatefulBatchSampler(test_dataset, batch_size)\n",
    "    train_dataloader = torch.utils.data.DataLoader(train_dataset, batch_sampler=train_sampler, pin_memory=True)\n",
    "    val_dataloader = torch.utils.data.DataLoader(val_dataset, batch_sampler=val_sampler, pin_memory=True)\n",
    "    test_dataloader = torch.utils.data.DataLoader(test_dataset, batch_sampler=test_sampler, pin_memory=True)\n",
    "else:\n",
    "    train_dataloader = torch.utils.data.DataLoader(train_dataset, batch_size, shuffle=True, pin_memory=True, drop_last=True)\n",
    "    val_dataloader = torch.utils.data.DataLoader(val_dataset, batch_size, shuffle=False, pin_memory=True, drop_last=True)\n",
    "    test_dataloader = torch.utils.data.DataLoader(test_dataset, batch_size, shuffle=False, pin_memory=True, drop_last=True)"
   ]
  },
  {
   "cell_type": "code",
   "execution_count": 9,
   "metadata": {
    "scrolled": true
   },
   "outputs": [
    {
     "name": "stdout",
     "output_type": "stream",
     "text": [
      "Epoch 0 mean train loss:\t3933.294189453125\n",
      "Epoch 0 mean val mse:    \t730.8511352539062\n"
     ]
    },
    {
     "name": "stderr",
     "output_type": "stream",
     "text": [
      "/home/mgauch/runoff-nn/gwf/lib/python3.6/site-packages/torch/serialization.py:256: UserWarning: Couldn't retrieve source code for container of type ConvLSTMGrid. It won't be checked for correctness upon loading.\n",
      "  \"type \" + obj.__name__ + \". It won't be checked \"\n"
     ]
    },
    {
     "name": "stdout",
     "output_type": "stream",
     "text": [
      "Saved model as ../pickle/models/ConvLSTM_VIC_allStations_20190723-191403.pkl\n",
      "Epoch 1 mean train loss:\t3923.084228515625\n",
      "Epoch 1 mean val mse:    \t716.8236083984375\n",
      "Saved model as ../pickle/models/ConvLSTM_VIC_allStations_20190723-191403.pkl\n",
      "Epoch 2 mean train loss:\t3888.291259765625\n",
      "Epoch 2 mean val mse:    \t705.5894775390625\n",
      "Saved model as ../pickle/models/ConvLSTM_VIC_allStations_20190723-191403.pkl\n",
      "Epoch 3 mean train loss:\t3869.6201171875\n",
      "Epoch 3 mean val mse:    \t696.9090576171875\n",
      "Saved model as ../pickle/models/ConvLSTM_VIC_allStations_20190723-191403.pkl\n",
      "Epoch 4 mean train loss:\t3805.545166015625\n",
      "Epoch 4 mean val mse:    \t690.5463256835938\n",
      "Saved model as ../pickle/models/ConvLSTM_VIC_allStations_20190723-191403.pkl\n",
      "Epoch 5 mean train loss:\t3833.67919921875\n",
      "Epoch 5 mean val mse:    \t685.9075927734375\n",
      "Saved model as ../pickle/models/ConvLSTM_VIC_allStations_20190723-191403.pkl\n",
      "Epoch 6 mean train loss:\t3761.384033203125\n",
      "Epoch 6 mean val mse:    \t682.9268798828125\n",
      "Saved model as ../pickle/models/ConvLSTM_VIC_allStations_20190723-191403.pkl\n",
      "Epoch 7 mean train loss:\t3811.694580078125\n",
      "Epoch 7 mean val mse:    \t681.0760498046875\n",
      "Saved model as ../pickle/models/ConvLSTM_VIC_allStations_20190723-191403.pkl\n",
      "Epoch 8 mean train loss:\t3794.600830078125\n",
      "Epoch 8 mean val mse:    \t680.2935791015625\n",
      "Saved model as ../pickle/models/ConvLSTM_VIC_allStations_20190723-191403.pkl\n",
      "Epoch 9 mean train loss:\t3754.658935546875\n",
      "Epoch 9 mean val mse:    \t680.3975830078125\n",
      "Epoch 10 mean train loss:\t3773.115234375\n",
      "Epoch 10 mean val mse:    \t681.2117919921875\n",
      "Epoch 11 mean train loss:\t3707.79541015625\n",
      "Epoch 11 mean val mse:    \t682.5703125\n",
      "Epoch 12 mean train loss:\t3776.990478515625\n",
      "Epoch 12 mean val mse:    \t684.4342651367188\n",
      "Epoch 13 mean train loss:\t3768.013671875\n",
      "Epoch 13 mean val mse:    \t686.4031372070312\n",
      "Epoch 14 mean train loss:\t3760.99365234375\n",
      "Epoch 14 mean val mse:    \t688.6840209960938\n",
      "Epoch 15 mean train loss:\t3636.12060546875\n",
      "Epoch 15 mean val mse:    \t690.9258422851562\n",
      "Epoch 16 mean train loss:\t3752.961669921875\n",
      "Epoch 16 mean val mse:    \t693.465576171875\n",
      "Epoch 17 mean train loss:\t3689.802978515625\n",
      "Epoch 17 mean val mse:    \t696.19189453125\n",
      "Epoch 18 mean train loss:\t3756.636474609375\n",
      "Epoch 18 mean val mse:    \t698.6104736328125\n",
      "Epoch 19 mean train loss:\t3743.119384765625\n",
      "Epoch 19 mean val mse:    \t700.475341796875\n",
      "Epoch 20 mean train loss:\t3742.010498046875\n",
      "Epoch 20 mean val mse:    \t702.750732421875\n",
      "Epoch 21 mean train loss:\t3741.841552734375\n",
      "Epoch 21 mean val mse:    \t704.8856201171875\n",
      "Epoch 22 mean train loss:\t3750.349609375\n",
      "Epoch 22 mean val mse:    \t706.747802734375\n",
      "Epoch 23 mean train loss:\t3752.130126953125\n",
      "Epoch 23 mean val mse:    \t708.7184448242188\n",
      "Epoch 24 mean train loss:\t3736.18701171875\n",
      "Epoch 24 mean val mse:    \t710.5111083984375\n",
      "Epoch 25 mean train loss:\t3734.51806640625\n",
      "Epoch 25 mean val mse:    \t711.7274169921875\n",
      "Epoch 26 mean train loss:\t3745.149658203125\n",
      "Epoch 26 mean val mse:    \t712.8966674804688\n",
      "Epoch 27 mean train loss:\t3752.604736328125\n",
      "Epoch 27 mean val mse:    \t713.6563110351562\n",
      "Epoch 28 mean train loss:\t3741.9384765625\n",
      "Epoch 28 mean val mse:    \t714.7387084960938\n",
      "Epoch 29 mean train loss:\t3725.750244140625\n",
      "Epoch 29 mean val mse:    \t715.9313354492188\n",
      "Epoch 30 mean train loss:\t3607.876953125\n",
      "Epoch 30 mean val mse:    \t716.68359375\n",
      "Epoch 31 mean train loss:\t3744.15625\n",
      "Epoch 31 mean val mse:    \t718.260009765625\n",
      "Epoch 32 mean train loss:\t3736.861083984375\n",
      "Epoch 32 mean val mse:    \t718.108642578125\n",
      "Epoch 33 mean train loss:\t3747.9072265625\n",
      "Epoch 33 mean val mse:    \t718.31884765625\n",
      "Epoch 34 mean train loss:\t3755.774658203125\n",
      "Epoch 34 mean val mse:    \t718.5103759765625\n",
      "Epoch 35 mean train loss:\t3681.685546875\n",
      "Epoch 35 mean val mse:    \t718.3154907226562\n",
      "Epoch 36 mean train loss:\t3743.68701171875\n",
      "Epoch 36 mean val mse:    \t718.8093872070312\n",
      "Epoch 37 mean train loss:\t3612.781982421875\n",
      "Epoch 37 mean val mse:    \t719.35107421875\n",
      "Epoch 38 mean train loss:\t3750.668701171875\n",
      "Epoch 38 mean val mse:    \t719.5203857421875\n",
      "Epoch 39 mean train loss:\t3722.201904296875\n",
      "Epoch 39 mean val mse:    \t720.0812377929688\n",
      "Epoch 40 mean train loss:\t3689.724365234375\n",
      "Epoch 40 mean val mse:    \t720.1067504882812\n",
      "Epoch 41 mean train loss:\t3752.2265625\n",
      "Epoch 41 mean val mse:    \t720.3175048828125\n",
      "Epoch 42 mean train loss:\t3727.850830078125\n",
      "Epoch 42 mean val mse:    \t720.9075927734375\n",
      "Epoch 43 mean train loss:\t3706.44482421875\n",
      "Epoch 43 mean val mse:    \t720.9343872070312\n",
      "Epoch 44 mean train loss:\t3756.03125\n",
      "Epoch 44 mean val mse:    \t721.1749267578125\n",
      "Epoch 45 mean train loss:\t3719.478515625\n",
      "Epoch 45 mean val mse:    \t721.9967041015625\n",
      "Epoch 46 mean train loss:\t3698.251708984375\n",
      "Epoch 46 mean val mse:    \t722.0979614257812\n",
      "Epoch 47 mean train loss:\t3735.67724609375\n",
      "Epoch 47 mean val mse:    \t721.5763549804688\n",
      "Epoch 48 mean train loss:\t3751.77001953125\n",
      "Epoch 48 mean val mse:    \t722.1007690429688\n",
      "Epoch 49 mean train loss:\t3748.38720703125\n",
      "Epoch 49 mean val mse:    \t722.449951171875\n",
      "Epoch 50 mean train loss:\t3709.8916015625\n",
      "Epoch 50 mean val mse:    \t721.7344970703125\n",
      "Epoch 51 mean train loss:\t3741.998046875\n",
      "Epoch 51 mean val mse:    \t722.1577758789062\n",
      "Epoch 52 mean train loss:\t3743.5517578125\n",
      "Epoch 52 mean val mse:    \t721.4177856445312\n",
      "Epoch 53 mean train loss:\t3752.680908203125\n",
      "Epoch 53 mean val mse:    \t721.5901489257812\n",
      "Epoch 54 mean train loss:\t3746.517822265625\n",
      "Epoch 54 mean val mse:    \t720.8978271484375\n",
      "Epoch 55 mean train loss:\t3753.990478515625\n",
      "Epoch 55 mean val mse:    \t691.29052734375\n",
      "Epoch 56 mean train loss:\t3712.537109375\n",
      "Epoch 56 mean val mse:    \t720.73486328125\n",
      "Epoch 57 mean train loss:\t3751.747802734375\n",
      "Epoch 57 mean val mse:    \t712.2530517578125\n",
      "Epoch 58 mean train loss:\t3607.13037109375\n",
      "Epoch 58 mean val mse:    \t683.1458740234375\n",
      "Epoch 59 mean train loss:\t3721.51904296875\n",
      "Epoch 59 mean val mse:    \t687.6403198242188\n",
      "Epoch 60 mean train loss:\t3730.802001953125\n",
      "Epoch 60 mean val mse:    \t681.354736328125\n",
      "Epoch 61 mean train loss:\t3722.9140625\n",
      "Epoch 61 mean val mse:    \t681.4573364257812\n",
      "Epoch 62 mean train loss:\t3666.540283203125\n",
      "Epoch 62 mean val mse:    \t691.0794067382812\n",
      "Epoch 63 mean train loss:\t3710.351806640625\n",
      "Epoch 63 mean val mse:    \t689.2500610351562\n",
      "Epoch 64 mean train loss:\t3680.70947265625\n",
      "Epoch 64 mean val mse:    \t695.3917846679688\n",
      "Epoch 65 mean train loss:\t3719.59521484375\n",
      "Epoch 65 mean val mse:    \t690.1566162109375\n",
      "Epoch 66 mean train loss:\t3667.766357421875\n",
      "Epoch 66 mean val mse:    \t698.53076171875\n",
      "Epoch 67 mean train loss:\t3706.296630859375\n",
      "Epoch 67 mean val mse:    \t694.7630615234375\n",
      "Epoch 68 mean train loss:\t3660.287109375\n",
      "Epoch 68 mean val mse:    \t692.3751220703125\n",
      "Epoch 69 mean train loss:\t3700.728515625\n",
      "Epoch 69 mean val mse:    \t698.5154418945312\n",
      "Epoch 70 mean train loss:\t3717.94189453125\n",
      "Epoch 70 mean val mse:    \t712.7355346679688\n",
      "Epoch 71 mean train loss:\t3709.20361328125\n",
      "Epoch 71 mean val mse:    \t711.9050903320312\n",
      "Epoch 72 mean train loss:\t3707.0927734375\n",
      "Epoch 72 mean val mse:    \t700.2544555664062\n",
      "Epoch 73 mean train loss:\t3710.849365234375\n",
      "Epoch 73 mean val mse:    \t713.9155883789062\n",
      "Epoch 74 mean train loss:\t3707.0048828125\n",
      "Epoch 74 mean val mse:    \t719.92626953125\n",
      "Epoch 75 mean train loss:\t3633.7431640625\n",
      "Epoch 75 mean val mse:    \t715.3876953125\n",
      "Epoch 76 mean train loss:\t3698.174560546875\n",
      "Epoch 76 mean val mse:    \t703.4822387695312\n",
      "Epoch 77 mean train loss:\t3704.3251953125\n",
      "Epoch 77 mean val mse:    \t720.4865112304688\n",
      "Epoch 78 mean train loss:\t3699.999755859375\n",
      "Epoch 78 mean val mse:    \t709.2317504882812\n",
      "Epoch 79 mean train loss:\t3668.6201171875\n",
      "Epoch 79 mean val mse:    \t716.123779296875\n",
      "Epoch 80 mean train loss:\t3701.884521484375\n",
      "Epoch 80 mean val mse:    \t717.3292846679688\n",
      "Epoch 81 mean train loss:\t3701.70654296875\n",
      "Epoch 81 mean val mse:    \t720.5022583007812\n",
      "Epoch 82 mean train loss:\t3697.38720703125\n",
      "Epoch 82 mean val mse:    \t724.8445434570312\n",
      "Epoch 83 mean train loss:\t3698.7158203125\n",
      "Epoch 83 mean val mse:    \t756.1746826171875\n",
      "Epoch 84 mean train loss:\t3585.17626953125\n",
      "Epoch 84 mean val mse:    \t716.4077758789062\n",
      "Epoch 85 mean train loss:\t3695.85888671875\n",
      "Epoch 85 mean val mse:    \t725.0479736328125\n",
      "Epoch 86 mean train loss:\t3692.515380859375\n",
      "Epoch 86 mean val mse:    \t720.8389282226562\n",
      "Epoch 87 mean train loss:\t3698.490478515625\n",
      "Epoch 87 mean val mse:    \t725.8412475585938\n",
      "Epoch 88 mean train loss:\t3694.643310546875\n",
      "Epoch 88 mean val mse:    \t720.7968139648438\n",
      "Epoch 89 mean train loss:\t3685.961669921875\n",
      "Epoch 89 mean val mse:    \t708.9164428710938\n",
      "Epoch 90 mean train loss:\t3670.986572265625\n",
      "Epoch 90 mean val mse:    \t711.2745361328125\n",
      "Epoch 91 mean train loss:\t3688.375\n",
      "Epoch 91 mean val mse:    \t725.1759643554688\n",
      "Epoch 92 mean train loss:\t3709.22998046875\n",
      "Epoch 92 mean val mse:    \t726.5090942382812\n",
      "Epoch 93 mean train loss:\t3661.674072265625\n",
      "Epoch 93 mean val mse:    \t706.0344848632812\n",
      "Epoch 94 mean train loss:\t3662.731689453125\n",
      "Epoch 94 mean val mse:    \t713.5633544921875\n",
      "Epoch 95 mean train loss:\t3673.21728515625\n",
      "Epoch 95 mean val mse:    \t724.7770385742188\n",
      "Epoch 96 mean train loss:\t3678.169677734375\n",
      "Epoch 96 mean val mse:    \t717.6491088867188\n",
      "Epoch 97 mean train loss:\t3678.94482421875\n",
      "Epoch 97 mean val mse:    \t749.0703125\n",
      "Epoch 98 mean train loss:\t3696.72412109375\n",
      "Epoch 98 mean val mse:    \t716.5127563476562\n",
      "Epoch 99 mean train loss:\t3673.363037109375\n",
      "Epoch 99 mean val mse:    \t710.6010131835938\n",
      "Epoch 100 mean train loss:\t3673.848388671875\n",
      "Epoch 100 mean val mse:    \t739.6188354492188\n",
      "Epoch 101 mean train loss:\t3573.895263671875\n",
      "Epoch 101 mean val mse:    \t719.479248046875\n",
      "Epoch 102 mean train loss:\t3662.47705078125\n",
      "Epoch 102 mean val mse:    \t754.2864379882812\n",
      "Epoch 103 mean train loss:\t3674.859130859375\n",
      "Epoch 103 mean val mse:    \t757.3311767578125\n",
      "Epoch 104 mean train loss:\t3662.5185546875\n",
      "Epoch 104 mean val mse:    \t720.8837280273438\n",
      "Epoch 105 mean train loss:\t3548.505615234375\n",
      "Epoch 105 mean val mse:    \t710.0845947265625\n",
      "Epoch 106 mean train loss:\t3670.153076171875\n",
      "Epoch 106 mean val mse:    \t705.0771484375\n",
      "Epoch 107 mean train loss:\t3680.01513671875\n",
      "Epoch 107 mean val mse:    \t722.4208374023438\n",
      "Epoch 108 mean train loss:\t3682.7333984375\n",
      "Epoch 108 mean val mse:    \t768.662841796875\n",
      "Epoch 109 mean train loss:\t3687.108154296875\n",
      "Epoch 109 mean val mse:    \t751.8516845703125\n",
      "Patience exhausted in epoch 109. Best val-loss was 680.2935791015625\n",
      "Using best model from epoch 8 which had loss 680.2935791015625\n",
      "Saved model as ../pickle/models/ConvLSTM_VIC_allStations_20190723-191403.pkl\n"
     ]
    }
   ],
   "source": [
    "for epoch in range(num_epochs):\n",
    "    model.train()\n",
    "\n",
    "    epoch_losses = torch.tensor(0.0)\n",
    "    conv_hidden_states = None\n",
    "    for i, train_batch in enumerate(train_dataloader):\n",
    "        y_train = train_batch['y'].reshape(-1).to(device, non_blocking=True)\n",
    "        mask = train_batch['mask'].reshape(-1).to(device, non_blocking=True)\n",
    "        if mask.sum() == 0:\n",
    "            print('Batch {} has no target values. skipping.'.format(i))\n",
    "            continue\n",
    "        if not stateful_lstm:\n",
    "            conv_hidden_states = None\n",
    "        \n",
    "        y_pred, conv_hidden_states = model(train_batch['x_conv'].to(device), hidden_state=conv_hidden_states)\n",
    "        y_pred = y_pred.reshape(-1) * mask  # ignore grid cells that have no target value\n",
    "        loss = loss_fn(y_pred, y_train)\n",
    "\n",
    "        optimizer.zero_grad()\n",
    "        loss.backward()\n",
    "        optimizer.step()\n",
    "        \n",
    "        epoch_losses += (loss * y_train.shape[0] / mask.sum()).detach()  # only average over losses where we had a target\n",
    "        \n",
    "    epoch_loss = (epoch_losses / len(train_dataloader)).item()\n",
    "    print('Epoch', epoch, 'mean train loss:\\t{}'.format(epoch_loss))\n",
    "    writer.add_scalar('loss', epoch_loss, epoch)\n",
    "    \n",
    "    # eval on validation split\n",
    "    model.eval()\n",
    "    val_losses = torch.tensor(0.0)\n",
    "    for i, val_batch in enumerate(val_dataloader):\n",
    "        y_val = val_batch['y'].reshape(-1).to(device, non_blocking=True)\n",
    "        mask = val_batch['mask'].reshape(-1).to(device, non_blocking=True)\n",
    "        if not stateful_lstm:\n",
    "            conv_hidden_states = None\n",
    "        \n",
    "        batch_pred, conv_hidden_states = model(val_batch['x_conv'], hidden_state=conv_hidden_states)\n",
    "        batch_pred = batch_pred.detach().reshape(-1)\n",
    "        val_losses += (loss_fn(batch_pred * mask, y_val).detach() * y_val.shape[0] / mask.sum())\n",
    "        \n",
    "    val_mse = (val_losses / len(val_dataloader)).item()\n",
    "    print('Epoch {} mean val mse:    \\t{}'.format(epoch, val_mse))\n",
    "    writer.add_scalar('loss_eval', val_mse, epoch)\n",
    "\n",
    "    if val_mse < best_loss_model[1] - min_improvement:\n",
    "        best_loss_model = (epoch, val_mse, model.state_dict())  # new best model\n",
    "        load_data.pickle_model('ConvLSTM_VIC', model, 'allStations', time_stamp)\n",
    "    elif epoch > best_loss_model[0] + patience:\n",
    "        print('Patience exhausted in epoch {}. Best val-loss was {}'.format(epoch, best_loss_model[1]))\n",
    "        break\n",
    "\n",
    "print('Using best model from epoch', str(best_loss_model[0]), 'which had loss', str(best_loss_model[1]))\n",
    "model.load_state_dict(best_loss_model[2])\n",
    "load_data.pickle_model('ConvLSTM_VIC', model, 'allStations', time_stamp)"
   ]
  },
  {
   "cell_type": "code",
   "execution_count": 10,
   "metadata": {
    "scrolled": true
   },
   "outputs": [
    {
     "name": "stdout",
     "output_type": "stream",
     "text": [
      "2019-07-23 20:12:40,502 - 20190723-191403 - predicting\n"
     ]
    }
   ],
   "source": [
    "logger.warning('predicting')\n",
    "model.eval()\n",
    "\n",
    "predictions = []\n",
    "for i, test_batch in enumerate(test_dataloader):\n",
    "    if not stateful_lstm:\n",
    "        conv_hidden_states = None\n",
    "        \n",
    "    pred, conv_hidden_states = model(test_batch['x_conv'], hidden_state=conv_hidden_states)\n",
    "    predictions.append(pred.detach())\n",
    "    \n",
    "predictions = torch.cat(predictions).cpu()\n",
    "\n",
    "if stateful_lstm:\n",
    "    # reorder time series\n",
    "    pred_indices = np.array(list(test_sampler.__iter__())).reshape(-1)\n",
    "    predictions = predictions[pred_indices.argsort()]"
   ]
  },
  {
   "cell_type": "code",
   "execution_count": 11,
   "metadata": {
    "scrolled": true
   },
   "outputs": [
    {
     "name": "stdout",
     "output_type": "stream",
     "text": [
      "Warning: length of prediction 720 and actuals 730 does not match.\n",
      "Warning: length of prediction 720 and actuals 730 does not match for station 02GA047. Ignoring excess actuals.\n"
     ]
    },
    {
     "name": "stderr",
     "output_type": "stream",
     "text": [
      "/home/mgauch/runoff-nn/gwf/lib/python3.6/site-packages/pandas/plotting/_converter.py:129: FutureWarning: Using an implicitly registered datetime converter for a matplotlib plotting method. The converter was registered by pandas on import. Future versions of pandas will require you to explicitly register matplotlib converters.\n",
      "\n",
      "To register the converters:\n",
      "\t>>> from pandas.plotting import register_matplotlib_converters\n",
      "\t>>> register_matplotlib_converters()\n",
      "  warnings.warn(msg, FutureWarning)\n"
     ]
    },
    {
     "name": "stdout",
     "output_type": "stream",
     "text": [
      "02GA047 \tNSE: -0.6299006885530349 \tMSE: 129.41814966144608 (clipped to 0)\n",
      "Warning: length of prediction 720 and actuals 730 does not match for station 04213000. Ignoring excess actuals.\n",
      "04213000 \tNSE: -0.2415041098754589 \tMSE: 225.60759086386653 (clipped to 0)\n",
      "Warning: length of prediction 720 and actuals 730 does not match for station 04176500. Ignoring excess actuals.\n",
      "04176500 \tNSE: 0.0217823239522561 \tMSE: 676.4947779455088 (clipped to 0)\n",
      "Warning: length of prediction 720 and actuals 730 does not match for station 02GG003. Ignoring excess actuals.\n",
      "02GG003 \tNSE: 0.12514311527015765 \tMSE: 422.45424626110486 (clipped to 0)\n",
      "Warning: length of prediction 720 and actuals 730 does not match for station 04214500. Ignoring excess actuals.\n",
      "04214500 \tNSE: -0.8172034216623478 \tMSE: 221.84658988133884 (clipped to 0)\n",
      "Warning: length of prediction 720 and actuals 730 does not match for station 02GC026. Ignoring excess actuals.\n",
      "02GC026 \tNSE: -0.09202990364423957 \tMSE: 177.91715493688986 (clipped to 0)\n",
      "Warning: length of prediction 720 and actuals 730 does not match for station 04174500. Ignoring excess actuals.\n",
      "04174500 \tNSE: -0.3320298098014569 \tMSE: 127.63908904405258 (clipped to 0)\n",
      "Warning: length of prediction 720 and actuals 730 does not match for station 02GG013. Ignoring excess actuals.\n",
      "02GG013 \tNSE: -5.285863334438772 \tMSE: 241.80706121836442 (clipped to 0)\n",
      "Warning: length of prediction 720 and actuals 730 does not match for station 04161820. Ignoring excess actuals.\n",
      "04161820 \tNSE: -3.239676519385733 \tMSE: 135.23436690828436 (clipped to 0)\n",
      "Warning: length of prediction 720 and actuals 730 does not match for station 04159492. Ignoring excess actuals.\n",
      "04159492 \tNSE: -0.08665800503023613 \tMSE: 504.84281831618466 (clipped to 0)\n",
      "Warning: length of prediction 720 and actuals 730 does not match for station 04200500. Ignoring excess actuals.\n",
      "04200500 \tNSE: 0.03926988287438127 \tMSE: 973.873268949512 (clipped to 0)\n",
      "Warning: length of prediction 720 and actuals 730 does not match for station 02GB001. Ignoring excess actuals.\n",
      "02GB001 \tNSE: -0.5911726344210924 \tMSE: 11948.333517513196 (clipped to 0)\n",
      "Warning: length of prediction 720 and actuals 730 does not match for station 04208504. Ignoring excess actuals.\n",
      "04208504 \tNSE: -0.5220517602136288 \tMSE: 1503.2383296565483 (clipped to 0)\n",
      "Warning: length of prediction 720 and actuals 730 does not match for station 04199000. Ignoring excess actuals.\n",
      "04199000 \tNSE: 0.010195200357805856 \tMSE: 1024.9113072931045 (clipped to 0)\n",
      "Warning: length of prediction 720 and actuals 730 does not match for station 02GG002. Ignoring excess actuals.\n",
      "02GG002 \tNSE: -0.06545714091079424 \tMSE: 259.9342048402602 (clipped to 0)\n",
      "Warning: length of prediction 720 and actuals 730 does not match for station 04193500. Ignoring excess actuals.\n",
      "04193500 \tNSE: -0.33437919755087986 \tMSE: 95646.67728591923 (clipped to 0)\n",
      "Warning: length of prediction 720 and actuals 730 does not match for station 04207200. Ignoring excess actuals.\n",
      "04207200 \tNSE: -7.367270745363314 \tMSE: 198.32997999574545 (clipped to 0)\n",
      "Warning: length of prediction 720 and actuals 730 does not match for station 04160600. Ignoring excess actuals.\n",
      "04160600 \tNSE: -7.372218702124378 \tMSE: 243.21090355296215 (clipped to 0)\n",
      "Warning: length of prediction 720 and actuals 730 does not match for station 04215000. Ignoring excess actuals.\n",
      "04215000 \tNSE: -1.420939515709879 \tMSE: 235.55053658944783 (clipped to 0)\n",
      "Warning: length of prediction 720 and actuals 730 does not match for station 02GB007. Ignoring excess actuals.\n",
      "02GB007 \tNSE: -5.3941922701063385 \tMSE: 202.31373174556344 (clipped to 0)\n",
      "Warning: length of prediction 720 and actuals 730 does not match for station 02GC002. Ignoring excess actuals.\n",
      "02GC002 \tNSE: -1.008042759462192 \tMSE: 261.25085488325755 (clipped to 0)\n",
      "Warning: length of prediction 720 and actuals 730 does not match for station 02GA038. Ignoring excess actuals.\n",
      "02GA038 \tNSE: -0.692285087203226 \tMSE: 277.21507489383634 (clipped to 0)\n",
      "Warning: length of prediction 720 and actuals 730 does not match for station 02GA010. Ignoring excess actuals.\n",
      "02GA010 \tNSE: 0.10278821975030461 \tMSE: 429.2887919545807 (clipped to 0)\n",
      "Warning: length of prediction 720 and actuals 730 does not match for station 02GG009. Ignoring excess actuals.\n",
      "02GG009 \tNSE: -0.5899047690789432 \tMSE: 249.8886491688197 (clipped to 0)\n",
      "Warning: length of prediction 720 and actuals 730 does not match for station 04165500. Ignoring excess actuals.\n",
      "04165500 \tNSE: -0.06298137679306204 \tMSE: 478.47640219302446 (clipped to 0)\n",
      "Warning: length of prediction 720 and actuals 730 does not match for station 04198000. Ignoring excess actuals.\n",
      "04198000 \tNSE: -0.07386090240921805 \tMSE: 8023.41343561327 (clipped to 0)\n",
      "Warning: length of prediction 720 and actuals 730 does not match for station 04213500. Ignoring excess actuals.\n",
      "04213500 \tNSE: 0.05672826757508054 \tMSE: 979.0933358570719 (clipped to 0)\n",
      "Warning: length of prediction 720 and actuals 730 does not match for station 02GA018. Ignoring excess actuals.\n",
      "02GA018 \tNSE: -0.17143084771300354 \tMSE: 294.7450812789875 (clipped to 0)\n",
      "Warning: length of prediction 720 and actuals 730 does not match for station 02GG006. Ignoring excess actuals.\n",
      "02GG006 \tNSE: -3.3741872636491044 \tMSE: 236.44998179239062 (clipped to 0)\n",
      "Warning: length of prediction 720 and actuals 730 does not match for station 02GC007. Ignoring excess actuals.\n",
      "02GC007 \tNSE: -2.762577128342865 \tMSE: 114.69602520159464 (clipped to 0)\n",
      "Warning: length of prediction 720 and actuals 730 does not match for station 04215500. Ignoring excess actuals.\n",
      "04215500 \tNSE: -0.4427759153336217 \tMSE: 263.56380773425326 (clipped to 0)\n",
      "Warning: length of prediction 720 and actuals 730 does not match for station 04195820. Ignoring excess actuals.\n",
      "04195820 \tNSE: 0.04170729108579141 \tMSE: 1138.9181095215572 (clipped to 0)\n",
      "Warning: length of prediction 720 and actuals 730 does not match for station 04209000. Ignoring excess actuals.\n",
      "04209000 \tNSE: 0.008626354095280675 \tMSE: 313.9823806218355 (clipped to 0)\n",
      "Warning: length of prediction 720 and actuals 730 does not match for station 02GE007. Ignoring excess actuals.\n",
      "02GE007 \tNSE: -5.749779385500386 \tMSE: 246.94822773183535 (clipped to 0)\n",
      "Warning: length of prediction 720 and actuals 730 does not match for station 02GC010. Ignoring excess actuals.\n",
      "02GC010 \tNSE: -2.3287378736972704 \tMSE: 200.46389546489846 (clipped to 0)\n",
      "Warning: length of prediction 720 and actuals 730 does not match for station 04166100. Ignoring excess actuals.\n",
      "04166100 \tNSE: -32.9748772602873 \tMSE: 249.77073359397505 (clipped to 0)\n",
      "Warning: length of prediction 720 and actuals 730 does not match for station 04177000. Ignoring excess actuals.\n",
      "04177000 \tNSE: -7.268055631622543 \tMSE: 225.50987600668287 (clipped to 0)\n",
      "Warning: length of prediction 720 and actuals 730 does not match for station 04164000. Ignoring excess actuals.\n",
      "04164000 \tNSE: -0.2533768965689176 \tMSE: 221.75510789098163 (clipped to 0)\n",
      "Warning: length of prediction 720 and actuals 730 does not match for station 04159900. Ignoring excess actuals.\n",
      "04159900 \tNSE: -4.734878594155622 \tMSE: 250.53804323471144 (clipped to 0)\n",
      "Warning: length of prediction 720 and actuals 730 does not match for station 02GD004. Ignoring excess actuals.\n",
      "02GD004 \tNSE: -2.78963642937517 \tMSE: 211.06232351865813 (clipped to 0)\n",
      "Warning: length of prediction 720 and actuals 730 does not match for station 04196800. Ignoring excess actuals.\n",
      "04196800 \tNSE: -0.25892493499374636 \tMSE: 381.06679968483127 (clipped to 0)\n",
      "Warning: length of prediction 720 and actuals 730 does not match for station 04199500. Ignoring excess actuals.\n",
      "04199500 \tNSE: -0.1301341269255245 \tMSE: 463.13900676490834 (clipped to 0)\n",
      "Warning: length of prediction 720 and actuals 730 does not match for station 04212100. Ignoring excess actuals.\n",
      "04212100 \tNSE: -0.07633942018696183 \tMSE: 1600.5624372371356 (clipped to 0)\n",
      "Warning: length of prediction 720 and actuals 730 does not match for station 02GC018. Ignoring excess actuals.\n",
      "02GC018 \tNSE: -2.477975851297699 \tMSE: 238.6072082269049 (clipped to 0)\n",
      "Warning: length of prediction 720 and actuals 730 does not match for station 04166500. Ignoring excess actuals.\n",
      "04166500 \tNSE: -5.065393042554634 \tMSE: 211.0962074296235 (clipped to 0)\n",
      "Warning: length of prediction 720 and actuals 730 does not match for station 04197100. Ignoring excess actuals.\n",
      "04197100 \tNSE: -1.4148115742766914 \tMSE: 250.59278572848004 (clipped to 0)\n",
      "Median NSE (clipped to 0) -0.555978264646286 / Min -32.9748772602873 / Max 0.12514311527015765\n",
      "Median MSE (clipped to 0) 250.56541448159572 / Min 114.69602520159464 / Max 95646.67728591923\n"
     ]
    }
   ],
   "source": [
    "actuals = test_dataset.data_runoff.copy()\n",
    "if len(actuals['date'].unique()) != len(predictions):\n",
    "    print('Warning: length of prediction {} and actuals {} does not match.'.format(len(predictions), len(actuals['date'].unique())))\n",
    "\n",
    "nse_list = []\n",
    "mse_list = []\n",
    "predictions_df = pd.DataFrame(columns=actuals.columns)\n",
    "for station in actuals['station'].unique():\n",
    "    row, col = test_dataset.station_to_row_col[station]\n",
    "    \n",
    "    act = actuals[actuals['station'] == station].set_index('date')['runoff']\n",
    "    if predictions.shape[0] != act.shape[0]:\n",
    "        print('Warning: length of prediction {} and actuals {} does not match for station {}. Ignoring excess actuals.'.format(len(predictions), len(act), station))\n",
    "        act = act.iloc[:predictions.shape[0]]\n",
    "    pred = pd.DataFrame({'runoff': predictions[:,row,col]}, index=act.index)\n",
    "    pred['station'] = station\n",
    "    predictions_df = predictions_df.append(pred.reset_index(), sort=True)\n",
    "    \n",
    "    nse, mse = evaluate.evaluate_daily(station, pred['runoff'], act, writer=writer)\n",
    "    nse_list.append(nse)\n",
    "    mse_list.append(mse)\n",
    "    \n",
    "    print(station, '\\tNSE:', nse, '\\tMSE:', mse, '(clipped to 0)')\n",
    "\n",
    "print('Median NSE (clipped to 0)', np.median(nse_list), '/ Min', np.min(nse_list), '/ Max', np.max(nse_list))\n",
    "print('Median MSE (clipped to 0)', np.median(mse_list), '/ Min', np.min(mse_list), '/ Max', np.max(mse_list))\n",
    "writer.add_scalar('nse_median', np.median(nse_list))"
   ]
  },
  {
   "cell_type": "code",
   "execution_count": 12,
   "metadata": {},
   "outputs": [],
   "source": [
    "writer.close()"
   ]
  },
  {
   "cell_type": "code",
   "execution_count": 13,
   "metadata": {},
   "outputs": [
    {
     "data": {
      "text/plain": [
       "'ConvLSTM_VIC_20190723-191403.pkl'"
      ]
     },
     "execution_count": 13,
     "metadata": {},
     "output_type": "execute_result"
    }
   ],
   "source": [
    "save_df = pd.merge(predictions_df.rename({'runoff': 'prediction'}, axis=1), actuals.rename({'runoff': 'actual'}, axis=1), \n",
    "                   on=['date', 'station'])[['date', 'station', 'prediction', 'actual']]\n",
    "load_data.pickle_results('ConvLSTM_VIC', save_df, time_stamp)"
   ]
  },
  {
   "cell_type": "code",
   "execution_count": 14,
   "metadata": {},
   "outputs": [
    {
     "data": {
      "text/plain": [
       "'20190723-201300'"
      ]
     },
     "execution_count": 14,
     "metadata": {},
     "output_type": "execute_result"
    }
   ],
   "source": [
    "datetime.now().strftime('%Y%m%d-%H%M%S')"
   ]
  },
  {
   "cell_type": "code",
   "execution_count": 15,
   "metadata": {},
   "outputs": [],
   "source": []
  }
 ],
 "metadata": {
  "kernelspec": {
   "display_name": "Python 3",
   "language": "python",
   "name": "python3"
  },
  "language_info": {
   "codemirror_mode": {
    "name": "ipython",
    "version": 3
   },
   "file_extension": ".py",
   "mimetype": "text/x-python",
   "name": "python",
   "nbconvert_exporter": "python",
   "pygments_lexer": "ipython3",
   "version": "3.7.3"
  }
 },
 "nbformat": 4,
 "nbformat_minor": 4
}
