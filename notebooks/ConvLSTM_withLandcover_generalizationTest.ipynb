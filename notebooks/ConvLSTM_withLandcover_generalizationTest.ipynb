{
 "cells": [
  {
   "cell_type": "markdown",
   "metadata": {},
   "source": [
    "ConvLSTM trained on gridded forcings and landcover data for all stations.\n",
    "Test generalization by training on a subset of stations"
   ]
  },
  {
   "cell_type": "code",
   "execution_count": 1,
   "metadata": {},
   "outputs": [
    {
     "data": {
      "text/plain": [
       "'20190731-090931'"
      ]
     },
     "execution_count": 1,
     "metadata": {},
     "output_type": "execute_result"
    }
   ],
   "source": [
    "%load_ext autoreload\n",
    "%autoreload 2\n",
    "import sys\n",
    "sys.path.append('..')\n",
    "import os\n",
    "import numpy as np\n",
    "import pandas as pd\n",
    "from matplotlib import pyplot as plt \n",
    "from datetime import datetime, timedelta\n",
    "from sklearn import preprocessing\n",
    "import netCDF4 as nc\n",
    "import torch\n",
    "from torch import nn, utils\n",
    "from torch.utils.tensorboard import SummaryWriter\n",
    "from src import load_data, evaluate, conv_lstm, datasets\n",
    "import torch.autograd as autograd\n",
    "import pickle\n",
    "\n",
    "time_stamp = datetime.now().strftime('%Y%m%d-%H%M%S')\n",
    "time_stamp"
   ]
  },
  {
   "cell_type": "code",
   "execution_count": 2,
   "metadata": {},
   "outputs": [],
   "source": [
    "import logging\n",
    "logger = logging.getLogger()\n",
    "fhandler = logging.FileHandler(filename='../log.out', mode='a')\n",
    "chandler = logging.StreamHandler(sys.stdout)\n",
    "formatter = logging.Formatter('%(asctime)s - {} - %(message)s'.format(time_stamp))\n",
    "fhandler.setFormatter(formatter)\n",
    "chandler.setFormatter(formatter)\n",
    "logger.addHandler(fhandler)\n",
    "logger.addHandler(chandler)\n",
    "logger.setLevel(logging.INFO)"
   ]
  },
  {
   "cell_type": "code",
   "execution_count": 3,
   "metadata": {},
   "outputs": [
    {
     "name": "stdout",
     "output_type": "stream",
     "text": [
      "CUDA Available\n",
      "2019-07-31 09:09:34,358 - 20190731-090931 - cuda devices: ['Tesla V100-SXM2-16GB']\n"
     ]
    }
   ],
   "source": [
    "USE_CUDA = False\n",
    "if torch.cuda.is_available():\n",
    "    print('CUDA Available')\n",
    "    USE_CUDA = True\n",
    "device = torch.device('cuda:0' if USE_CUDA else 'cpu')\n",
    "num_devices = torch.cuda.device_count() if USE_CUDA else 0\n",
    "logger.warning('cuda devices: {}'.format(list(torch.cuda.get_device_name(i) for i in range(num_devices))))\n",
    "torch.manual_seed(0)\n",
    "np.random.seed(0)"
   ]
  },
  {
   "cell_type": "code",
   "execution_count": 4,
   "metadata": {},
   "outputs": [],
   "source": [
    "seq_len = 5*24\n",
    "seq_steps = 2\n",
    "stateful_lstm = False\n",
    "validation_fraction, val_start, val_end = None, None, None\n",
    "\n",
    "if stateful_lstm:\n",
    "    val_start = datetime.strptime('2010-01-01', '%Y-%m-%d') + timedelta(hours=seq_len * seq_steps)  # first day for which to make a prediction in train set\n",
    "    val_end = '2010-09-30'\n",
    "    train_start = '2010-10-01'\n",
    "    train_end = '2012-12-31'\n",
    "else:\n",
    "    validation_fraction = 0.1\n",
    "    train_start = datetime.strptime('2010-01-01', '%Y-%m-%d') + timedelta(hours=seq_len * seq_steps)  # first day for which to make a prediction in train set\n",
    "    train_end = '2012-12-31'\n",
    "test_start = '2013-01-01'\n",
    "test_end = '2014-12-31'"
   ]
  },
  {
   "cell_type": "code",
   "execution_count": 5,
   "metadata": {
    "scrolled": true
   },
   "outputs": [],
   "source": [
    "exclude_downstream_stations = ['02GB001', '02GB007', '02GC026', '02GG009', '02GG003', '04165500', '04164000', '04166500', '04198000', '04208504']"
   ]
  },
  {
   "cell_type": "code",
   "execution_count": 6,
   "metadata": {
    "scrolled": true
   },
   "outputs": [
    {
     "name": "stderr",
     "output_type": "stream",
     "text": [
      "../src/load_data.py:43: RuntimeWarning: invalid value encountered in greater\n",
      "  rdrs_data[:,i,:,:] = rdrs_nc[forcing_variables[i]][:]\n",
      "../src/load_data.py:43: RuntimeWarning: invalid value encountered in greater\n",
      "  rdrs_data[:,i,:,:] = rdrs_nc[forcing_variables[i]][:]\n"
     ]
    }
   ],
   "source": [
    "rdrs_vars = list(range(8))\n",
    "train_dataset = datasets.RdrsGridDataset(rdrs_vars, seq_len, seq_steps, train_start, train_end, exclude_stations=exclude_downstream_stations)\n",
    "if stateful_lstm:\n",
    "    val_dataset = datasets.RdrsGridDataset(rdrs_vars, seq_len, seq_steps, val_start, val_end, conv_scalers=train_dataset.conv_scalers, exclude_stations=exclude_downstream_stations)\n",
    "test_dataset = datasets.RdrsGridDataset(rdrs_vars, seq_len, seq_steps, test_start, test_end, conv_scalers=train_dataset.conv_scalers)"
   ]
  },
  {
   "cell_type": "code",
   "execution_count": 7,
   "metadata": {
    "scrolled": true
   },
   "outputs": [
    {
     "name": "stderr",
     "output_type": "stream",
     "text": [
      "../src/load_data.py:43: RuntimeWarning: invalid value encountered in greater\n",
      "  rdrs_data[:,i,:,:] = rdrs_nc[forcing_variables[i]][:]\n",
      "../src/load_data.py:242: UserWarning: WARNING: valid_range not used since it\n",
      "cannot be safely cast to variable data type\n",
      "  landcover_fullres = np.array(landcover_nc['Band1'][:])[::-1,:]\n"
     ]
    }
   ],
   "source": [
    "landcover_types = None\n",
    "landcover, landcover_legend = load_data.load_landcover_reduced(values_to_use=landcover_types)\n",
    "landcover = torch.from_numpy(landcover).float().to(device)"
   ]
  },
  {
   "cell_type": "code",
   "execution_count": 8,
   "metadata": {},
   "outputs": [],
   "source": [
    "stations = train_dataset.data_runoff['station'].unique()\n",
    "np.random.seed(0)\n",
    "test_stations = np.random.choice(stations, size=int(0.2*(len(stations)-len(exclude_downstream_stations))), replace=False)\n",
    "train_stations = list(s for s in stations if s not in test_stations)\n",
    "\n",
    "train_station_indices = list(train_dataset.station_to_index[s] for s in train_stations)\n",
    "test_station_indices = list(test_dataset.station_to_index[s] for s in test_stations)\n",
    "\n",
    "train_mask = torch.zeros((train_dataset.conv_height, train_dataset.conv_width), dtype=torch.int8)\n",
    "test_mask = torch.zeros((train_dataset.conv_height, train_dataset.conv_width), dtype=torch.int8)\n",
    "for row in range(train_dataset.conv_height):\n",
    "    for col in range(train_dataset.conv_width):\n",
    "        train_mask[row, col] = 1 if (row, col) in train_station_indices else 0\n",
    "        test_mask[row, col] = 1 if (row, col) in test_station_indices else 0\n",
    "train_mask = train_mask.reshape(-1).to(device)\n",
    "test_mask = test_mask.reshape(-1).to(device)"
   ]
  },
  {
   "cell_type": "code",
   "execution_count": 9,
   "metadata": {},
   "outputs": [
    {
     "data": {
      "text/plain": [
       "\"{'time_stamp': '20190731-090931', 'H_convlstm': [8, 8], 'H_conv': [4], 'batch_size': 32, 'num_convlstm_layers': 2, 'num_conv_layers': 2, 'convlstm_kernel_size': [(5, 5), (5, 5)], 'conv_kernel_size': [(3, 3), (3, 3)], 'loss': NSELoss(), 'optimizer': Adam (\\nParameter Group 0\\n    amsgrad: False\\n    betas: (0.9, 0.999)\\n    eps: 1e-08\\n    lr: 0.002\\n    weight_decay: 1e-05\\n), 'lr': 0.002, 'patience': 100, 'min_improvement': 0.01, 'stateful_lstm': False, 'dropout': 0.2, 'landcover_shape': torch.Size([19, 34, 39]), 'conv_activation': <class 'torch.nn.modules.activation.Sigmoid'>, 'num_epochs': 400, 'seq_len': 120, 'seq_steps': 2, 'train_start': datetime.datetime(2010, 1, 11, 0, 0), 'train_end': '2012-12-31', 'weight_decay': 1e-05, 'validation_fraction': 0.1, 'landcover_types': None, 'test_start': '2013-01-01', 'test_end': '2014-12-31', 'n_conv_vars': 8, 'model': 'ConvLSTMGridWithGeophysicalInput((conv_lstm):ConvLSTM((cell_list):ModuleList((0):ConvLSTMCell((conv):Conv2d(16,32,kernel_size=(5,5),stride=(1,1),padding=(2,2)))(1):Identity()(2):ConvLSTMCell((conv):Conv2d(16,32,kernel_size=(5,5),stride=(1,1),padding=(2,2)))(3):Identity()))(dropout):Dropout2d(p=0.2)(conv_out):Sequential((0):BatchNorm2d(27,eps=1e-05,momentum=0.1,affine=True,track_running_stats=True)(1):Conv2d(27,4,kernel_size=(3,3),stride=(1,1),padding=(1,1))(2):Dropout(p=0.2)(3):Sigmoid()(4):BatchNorm2d(4,eps=1e-05,momentum=0.1,affine=True,track_running_stats=True)(5):Conv2d(4,1,kernel_size=(3,3),stride=(1,1),padding=(1,1))))', 'val_start': None, 'val_end': None, 'train_stations': ['02GA047', '04193500', '04209000', '04195820', '04207200', '04215500', '04160600', '02GC007', '04215000', '02GE007', '02GG006', '02GA018', '04213500', '02GA038', '02GG013', '04197100', '02GC010', '04199000', '04213000', '02GA010', '04212100', '04161820', '04199500', '04159492', '04196800', '04200500', '02GD004', '04177000', '02GC018', '04176500', '04214500'], 'test_stations': array(['04166100', '02GC002', '02GG002', '04159900', '04174500'],\\n      dtype=object), 'train len': 1086, 'conv_height': 34, 'conv_width': 39, 'test len': 730}\""
      ]
     },
     "execution_count": 9,
     "metadata": {},
     "output_type": "execute_result"
    }
   ],
   "source": [
    "# Train model\n",
    "num_epochs = 400\n",
    "learning_rate = 2e-3\n",
    "patience = 100\n",
    "min_improvement = 0.01\n",
    "best_loss_model = (-1, np.inf, None)\n",
    "\n",
    "# Prepare model\n",
    "batch_size = 32\n",
    "num_convlstm_layers = 2\n",
    "num_conv_layers = 2\n",
    "convlstm_hidden_dims = [8] * num_convlstm_layers\n",
    "conv_hidden_dims = [4] * (num_conv_layers - 1)\n",
    "convlstm_kernel_size = [(5,5)] * num_convlstm_layers\n",
    "conv_kernel_size = [(3,3)] * num_conv_layers\n",
    "conv_activation = nn.Sigmoid\n",
    "dropout = 0.2\n",
    "weight_decay = 1e-5\n",
    "\n",
    "model = conv_lstm.ConvLSTMGridWithGeophysicalInput((train_dataset.conv_height, train_dataset.conv_width), \n",
    "                                         train_dataset.n_conv_vars, landcover.shape[0], convlstm_hidden_dims, \n",
    "                                         conv_hidden_dims, convlstm_kernel_size, conv_kernel_size, \n",
    "                                         num_convlstm_layers, num_conv_layers, conv_activation, dropout=dropout).to(device)\n",
    "if num_devices > 1:\n",
    "    model = torch.nn.DataParallel(model, device_ids=list(range(num_devices)))\n",
    "loss_fn = evaluate.NSELoss()\n",
    "optimizer = torch.optim.Adam(model.parameters(), lr=learning_rate, weight_decay=weight_decay)\n",
    "\n",
    "writer = SummaryWriter()\n",
    "param_description = {'time_stamp': time_stamp, 'H_convlstm': convlstm_hidden_dims, 'H_conv': conv_hidden_dims, 'batch_size': batch_size, 'num_convlstm_layers': num_convlstm_layers, 'num_conv_layers': num_conv_layers, 'convlstm_kernel_size': convlstm_kernel_size, 'conv_kernel_size': conv_kernel_size, 'loss': loss_fn, \n",
    "                     'optimizer': optimizer, 'lr': learning_rate, 'patience': patience, 'min_improvement': min_improvement, 'stateful_lstm': stateful_lstm, 'dropout': dropout, 'landcover_shape': landcover.shape, 'conv_activation': conv_activation,\n",
    "                     'num_epochs': num_epochs, 'seq_len': seq_len, 'seq_steps': seq_steps, 'train_start': train_start, 'train_end': train_end, 'weight_decay': weight_decay, 'validation_fraction': validation_fraction, 'landcover_types': landcover_types,\n",
    "                     'test_start': test_start, 'test_end': test_end, 'n_conv_vars': train_dataset.n_conv_vars, 'model': str(model).replace('\\n','').replace(' ', ''), 'val_start': val_start, 'val_end': val_end, 'train_stations': train_stations, 'test_stations': test_stations,\n",
    "                     'train len':len(train_dataset), 'conv_height': train_dataset.conv_height, 'conv_width': train_dataset.conv_width, 'test len': len(test_dataset)}\n",
    "writer.add_text('Parameter Description', str(param_description))\n",
    "str(param_description)"
   ]
  },
  {
   "cell_type": "code",
   "execution_count": 10,
   "metadata": {},
   "outputs": [],
   "source": [
    "if stateful_lstm:\n",
    "    train_sampler = datasets.StatefulBatchSampler(train_dataset, batch_size)\n",
    "    val_sampler = datasets.StatefulBatchSampler(val_dataset, batch_size)\n",
    "    test_sampler = datasets.StatefulBatchSampler(test_dataset, batch_size)\n",
    "    train_dataloader = torch.utils.data.DataLoader(train_dataset, batch_sampler=train_sampler, pin_memory=True)\n",
    "    val_dataloader = torch.utils.data.DataLoader(val_dataset, batch_sampler=val_sampler, pin_memory=True)\n",
    "    test_dataloader = torch.utils.data.DataLoader(test_dataset, batch_sampler=test_sampler, pin_memory=True)\n",
    "else:\n",
    "    val_indices = np.random.choice(len(train_dataset), size=int(validation_fraction * len(train_dataset)), replace=False)\n",
    "    train_indices = list(i for i in range(len(train_dataset)) if i not in val_indices)\n",
    "    train_sampler = torch.utils.data.SubsetRandomSampler(train_indices)\n",
    "    val_sampler = torch.utils.data.SubsetRandomSampler(val_indices)\n",
    "    train_dataloader = torch.utils.data.DataLoader(train_dataset, batch_size, sampler=train_sampler, pin_memory=True, drop_last=False)\n",
    "    val_dataloader = torch.utils.data.DataLoader(train_dataset, batch_size, sampler=val_sampler, pin_memory=True, drop_last=False)\n",
    "    test_dataloader = torch.utils.data.DataLoader(test_dataset, batch_size, shuffle=False, pin_memory=True, drop_last=False)"
   ]
  },
  {
   "cell_type": "code",
   "execution_count": 11,
   "metadata": {
    "scrolled": true
   },
   "outputs": [
    {
     "name": "stdout",
     "output_type": "stream",
     "text": [
      "Epoch 0 mean train loss:\t1.3604925870895386\n",
      "Epoch 0 mean val loss:  \t1.4438543319702148\n",
      "Saved model as ../pickle/models/ConvLSTM_withLandcover_generalizationTest_allStations_20190731-090931.pkl\n",
      "Epoch 1 mean train loss:\t1.114411473274231\n",
      "Epoch 1 mean val loss:  \t1.126084327697754\n",
      "Saved model as ../pickle/models/ConvLSTM_withLandcover_generalizationTest_allStations_20190731-090931.pkl\n",
      "Epoch 2 mean train loss:\t1.0660580396652222\n",
      "Epoch 2 mean val loss:  \t1.0338932275772095\n",
      "Saved model as ../pickle/models/ConvLSTM_withLandcover_generalizationTest_allStations_20190731-090931.pkl\n",
      "Epoch 3 mean train loss:\t0.9868018627166748\n",
      "Epoch 3 mean val loss:  \t1.3085224628448486\n",
      "Epoch 4 mean train loss:\t0.925436794757843\n",
      "Epoch 4 mean val loss:  \t1.028881311416626\n",
      "Epoch 5 mean train loss:\t0.9015346765518188\n",
      "Epoch 5 mean val loss:  \t0.974242091178894\n",
      "Saved model as ../pickle/models/ConvLSTM_withLandcover_generalizationTest_allStations_20190731-090931.pkl\n",
      "Epoch 6 mean train loss:\t0.8474134802818298\n",
      "Epoch 6 mean val loss:  \t1.0137019157409668\n",
      "Epoch 7 mean train loss:\t0.81832355260849\n",
      "Epoch 7 mean val loss:  \t1.205141305923462\n",
      "Epoch 8 mean train loss:\t0.8409252762794495\n",
      "Epoch 8 mean val loss:  \t1.1755752563476562\n",
      "Epoch 9 mean train loss:\t0.8503647446632385\n",
      "Epoch 9 mean val loss:  \t1.1738978624343872\n",
      "Epoch 10 mean train loss:\t0.9288126826286316\n",
      "Epoch 10 mean val loss:  \t1.1720867156982422\n",
      "Epoch 11 mean train loss:\t0.9402394890785217\n",
      "Epoch 11 mean val loss:  \t1.0139312744140625\n",
      "Epoch 12 mean train loss:\t0.8497453927993774\n",
      "Epoch 12 mean val loss:  \t1.0434082746505737\n",
      "Epoch 13 mean train loss:\t0.7995783686637878\n",
      "Epoch 13 mean val loss:  \t1.0596888065338135\n",
      "Epoch 14 mean train loss:\t0.7588291764259338\n",
      "Epoch 14 mean val loss:  \t1.0525976419448853\n",
      "Epoch 15 mean train loss:\t0.7532116174697876\n",
      "Epoch 15 mean val loss:  \t1.731907844543457\n",
      "Epoch 16 mean train loss:\t0.764074444770813\n",
      "Epoch 16 mean val loss:  \t1.0389552116394043\n",
      "Epoch 17 mean train loss:\t0.8028103113174438\n",
      "Epoch 17 mean val loss:  \t1.154043436050415\n",
      "Epoch 18 mean train loss:\t0.7214084267616272\n",
      "Epoch 18 mean val loss:  \t1.048558235168457\n",
      "Epoch 19 mean train loss:\t0.8096688389778137\n",
      "Epoch 19 mean val loss:  \t1.320422649383545\n",
      "Epoch 20 mean train loss:\t0.8318848609924316\n",
      "Epoch 20 mean val loss:  \t1.3075215816497803\n",
      "Epoch 21 mean train loss:\t0.7373438477516174\n",
      "Epoch 21 mean val loss:  \t0.9984211921691895\n",
      "Epoch 22 mean train loss:\t0.693402886390686\n",
      "Epoch 22 mean val loss:  \t1.0655280351638794\n",
      "Epoch 23 mean train loss:\t0.6598439812660217\n",
      "Epoch 23 mean val loss:  \t1.2583798170089722\n",
      "Epoch 24 mean train loss:\t0.6514080762863159\n",
      "Epoch 24 mean val loss:  \t1.0352258682250977\n",
      "Epoch 25 mean train loss:\t0.6639362573623657\n",
      "Epoch 25 mean val loss:  \t1.076159954071045\n",
      "Epoch 26 mean train loss:\t0.6408472657203674\n",
      "Epoch 26 mean val loss:  \t0.9602363109588623\n",
      "Saved model as ../pickle/models/ConvLSTM_withLandcover_generalizationTest_allStations_20190731-090931.pkl\n",
      "Epoch 27 mean train loss:\t0.693898618221283\n",
      "Epoch 27 mean val loss:  \t1.286285400390625\n",
      "Epoch 28 mean train loss:\t0.6840431690216064\n",
      "Epoch 28 mean val loss:  \t1.2016024589538574\n",
      "Epoch 29 mean train loss:\t0.6727927923202515\n",
      "Epoch 29 mean val loss:  \t1.2024741172790527\n",
      "Epoch 30 mean train loss:\t0.6193848848342896\n",
      "Epoch 30 mean val loss:  \t1.446329116821289\n",
      "Epoch 31 mean train loss:\t0.6237353086471558\n",
      "Epoch 31 mean val loss:  \t1.1815319061279297\n",
      "Epoch 32 mean train loss:\t0.5950192213058472\n",
      "Epoch 32 mean val loss:  \t1.0141183137893677\n",
      "Epoch 33 mean train loss:\t0.6673562526702881\n",
      "Epoch 33 mean val loss:  \t0.9673854112625122\n",
      "Epoch 34 mean train loss:\t0.5963811278343201\n",
      "Epoch 34 mean val loss:  \t1.123667597770691\n",
      "Epoch 35 mean train loss:\t0.6415225267410278\n",
      "Epoch 35 mean val loss:  \t1.106888771057129\n",
      "Epoch 36 mean train loss:\t0.6252745985984802\n",
      "Epoch 36 mean val loss:  \t2.0168991088867188\n",
      "Epoch 37 mean train loss:\t0.6238659620285034\n",
      "Epoch 37 mean val loss:  \t1.2288390398025513\n",
      "Epoch 38 mean train loss:\t0.5476676821708679\n",
      "Epoch 38 mean val loss:  \t1.497330904006958\n",
      "Epoch 39 mean train loss:\t0.6933796405792236\n",
      "Epoch 39 mean val loss:  \t1.088950514793396\n",
      "Epoch 40 mean train loss:\t0.7242875695228577\n",
      "Epoch 40 mean val loss:  \t1.5731732845306396\n",
      "Epoch 41 mean train loss:\t0.6549211740493774\n",
      "Epoch 41 mean val loss:  \t1.3038067817687988\n",
      "Epoch 42 mean train loss:\t0.6106749176979065\n",
      "Epoch 42 mean val loss:  \t1.1351162195205688\n",
      "Epoch 43 mean train loss:\t0.7372310757637024\n",
      "Epoch 43 mean val loss:  \t1.3428027629852295\n",
      "Epoch 44 mean train loss:\t0.6757765412330627\n",
      "Epoch 44 mean val loss:  \t1.0155211687088013\n",
      "Epoch 45 mean train loss:\t0.5722436308860779\n",
      "Epoch 45 mean val loss:  \t1.987966537475586\n",
      "Epoch 46 mean train loss:\t0.5484350919723511\n",
      "Epoch 46 mean val loss:  \t1.6510676145553589\n",
      "Epoch 47 mean train loss:\t0.6194673776626587\n",
      "Epoch 47 mean val loss:  \t1.2034891843795776\n",
      "Epoch 48 mean train loss:\t0.6768466234207153\n",
      "Epoch 48 mean val loss:  \t1.4306728839874268\n",
      "Epoch 49 mean train loss:\t0.754114031791687\n",
      "Epoch 49 mean val loss:  \t1.0388567447662354\n",
      "Epoch 50 mean train loss:\t0.5876096487045288\n",
      "Epoch 50 mean val loss:  \t1.5299865007400513\n",
      "Epoch 51 mean train loss:\t0.5904147028923035\n",
      "Epoch 51 mean val loss:  \t1.2844735383987427\n",
      "Epoch 52 mean train loss:\t0.5393014550209045\n",
      "Epoch 52 mean val loss:  \t1.2137269973754883\n",
      "Epoch 53 mean train loss:\t0.5343524217605591\n",
      "Epoch 53 mean val loss:  \t1.5250271558761597\n",
      "Epoch 54 mean train loss:\t0.5116305947303772\n",
      "Epoch 54 mean val loss:  \t1.3429063558578491\n",
      "Epoch 55 mean train loss:\t0.6248666048049927\n",
      "Epoch 55 mean val loss:  \t2.9897968769073486\n",
      "Epoch 56 mean train loss:\t0.6205164194107056\n",
      "Epoch 56 mean val loss:  \t1.9339206218719482\n",
      "Epoch 57 mean train loss:\t0.8729637265205383\n",
      "Epoch 57 mean val loss:  \t1.6099514961242676\n",
      "Epoch 58 mean train loss:\t0.7865692973136902\n",
      "Epoch 58 mean val loss:  \t1.0808680057525635\n",
      "Epoch 59 mean train loss:\t0.7834095358848572\n",
      "Epoch 59 mean val loss:  \t1.3078007698059082\n",
      "Epoch 60 mean train loss:\t0.6782724857330322\n",
      "Epoch 60 mean val loss:  \t1.1789218187332153\n",
      "Epoch 61 mean train loss:\t0.5894233584403992\n",
      "Epoch 61 mean val loss:  \t1.4867256879806519\n",
      "Epoch 62 mean train loss:\t0.552902340888977\n",
      "Epoch 62 mean val loss:  \t1.7519018650054932\n",
      "Epoch 63 mean train loss:\t0.5641093254089355\n",
      "Epoch 63 mean val loss:  \t1.6661931276321411\n",
      "Epoch 64 mean train loss:\t0.6215956211090088\n",
      "Epoch 64 mean val loss:  \t1.4920599460601807\n",
      "Epoch 65 mean train loss:\t0.5918002724647522\n",
      "Epoch 65 mean val loss:  \t1.3572494983673096\n",
      "Epoch 66 mean train loss:\t0.5258318781852722\n",
      "Epoch 66 mean val loss:  \t1.20417320728302\n",
      "Epoch 67 mean train loss:\t0.5325019955635071\n",
      "Epoch 67 mean val loss:  \t2.115933418273926\n",
      "Epoch 68 mean train loss:\t0.5376096367835999\n",
      "Epoch 68 mean val loss:  \t1.485612392425537\n",
      "Epoch 69 mean train loss:\t0.5154994130134583\n",
      "Epoch 69 mean val loss:  \t1.3729281425476074\n",
      "Epoch 70 mean train loss:\t0.5107072591781616\n",
      "Epoch 70 mean val loss:  \t1.4721053838729858\n",
      "Epoch 71 mean train loss:\t0.5060297250747681\n",
      "Epoch 71 mean val loss:  \t1.6517983675003052\n",
      "Epoch 72 mean train loss:\t0.4830184280872345\n",
      "Epoch 72 mean val loss:  \t1.3027821779251099\n",
      "Epoch 73 mean train loss:\t0.48047056794166565\n",
      "Epoch 73 mean val loss:  \t1.8423824310302734\n",
      "Epoch 74 mean train loss:\t0.474941223859787\n",
      "Epoch 74 mean val loss:  \t1.569926381111145\n",
      "Epoch 75 mean train loss:\t0.48479753732681274\n",
      "Epoch 75 mean val loss:  \t1.2627143859863281\n",
      "Epoch 76 mean train loss:\t0.4589178264141083\n",
      "Epoch 76 mean val loss:  \t1.1237210035324097\n",
      "Epoch 77 mean train loss:\t0.45900821685791016\n",
      "Epoch 77 mean val loss:  \t1.0856356620788574\n",
      "Epoch 78 mean train loss:\t0.673952579498291\n",
      "Epoch 78 mean val loss:  \t1.1149736642837524\n",
      "Epoch 79 mean train loss:\t0.5621192455291748\n",
      "Epoch 79 mean val loss:  \t2.0594851970672607\n",
      "Epoch 80 mean train loss:\t0.5322861075401306\n",
      "Epoch 80 mean val loss:  \t1.8371235132217407\n",
      "Epoch 81 mean train loss:\t0.4830210506916046\n",
      "Epoch 81 mean val loss:  \t1.4935715198516846\n",
      "Epoch 82 mean train loss:\t0.5259872078895569\n",
      "Epoch 82 mean val loss:  \t1.4579699039459229\n",
      "Epoch 83 mean train loss:\t1.0220434665679932\n",
      "Epoch 83 mean val loss:  \t1.8630447387695312\n",
      "Epoch 84 mean train loss:\t0.9211647510528564\n",
      "Epoch 84 mean val loss:  \t1.0594375133514404\n",
      "Epoch 85 mean train loss:\t0.6821399927139282\n",
      "Epoch 85 mean val loss:  \t2.524895191192627\n",
      "Epoch 86 mean train loss:\t0.6123095750808716\n",
      "Epoch 86 mean val loss:  \t1.3977231979370117\n",
      "Epoch 87 mean train loss:\t0.5559598803520203\n",
      "Epoch 87 mean val loss:  \t1.5059047937393188\n",
      "Epoch 88 mean train loss:\t0.5321303606033325\n",
      "Epoch 88 mean val loss:  \t1.7386345863342285\n",
      "Epoch 89 mean train loss:\t0.512972891330719\n",
      "Epoch 89 mean val loss:  \t1.8555597066879272\n",
      "Epoch 90 mean train loss:\t0.5143658518791199\n",
      "Epoch 90 mean val loss:  \t2.166355609893799\n",
      "Epoch 91 mean train loss:\t0.4871290624141693\n",
      "Epoch 91 mean val loss:  \t1.3965106010437012\n",
      "Epoch 92 mean train loss:\t0.5499269366264343\n",
      "Epoch 92 mean val loss:  \t1.7584271430969238\n",
      "Epoch 93 mean train loss:\t0.4887896776199341\n",
      "Epoch 93 mean val loss:  \t1.9383611679077148\n",
      "Epoch 94 mean train loss:\t0.46908503770828247\n",
      "Epoch 94 mean val loss:  \t1.476054310798645\n",
      "Epoch 95 mean train loss:\t0.46574997901916504\n",
      "Epoch 95 mean val loss:  \t1.1668953895568848\n",
      "Epoch 96 mean train loss:\t0.45373669266700745\n",
      "Epoch 96 mean val loss:  \t1.4003959894180298\n",
      "Epoch 97 mean train loss:\t0.45565661787986755\n",
      "Epoch 97 mean val loss:  \t1.6701488494873047\n",
      "Epoch 98 mean train loss:\t0.4516207277774811\n",
      "Epoch 98 mean val loss:  \t1.9601123332977295\n",
      "Epoch 99 mean train loss:\t0.43214792013168335\n",
      "Epoch 99 mean val loss:  \t1.1120985746383667\n",
      "Epoch 100 mean train loss:\t0.43323859572410583\n",
      "Epoch 100 mean val loss:  \t1.4127496480941772\n",
      "Epoch 101 mean train loss:\t0.4516608417034149\n",
      "Epoch 101 mean val loss:  \t1.3411805629730225\n",
      "Epoch 102 mean train loss:\t0.4253692626953125\n",
      "Epoch 102 mean val loss:  \t1.2539336681365967\n",
      "Epoch 103 mean train loss:\t0.4314800798892975\n",
      "Epoch 103 mean val loss:  \t1.8211241960525513\n",
      "Epoch 104 mean train loss:\t0.4550072252750397\n",
      "Epoch 104 mean val loss:  \t1.4960815906524658\n",
      "Epoch 105 mean train loss:\t0.4801968038082123\n",
      "Epoch 105 mean val loss:  \t1.4241622686386108\n",
      "Epoch 106 mean train loss:\t0.4551450312137604\n",
      "Epoch 106 mean val loss:  \t1.2507089376449585\n",
      "Epoch 107 mean train loss:\t0.4818848669528961\n",
      "Epoch 107 mean val loss:  \t2.934539556503296\n",
      "Epoch 108 mean train loss:\t0.44267722964286804\n",
      "Epoch 108 mean val loss:  \t1.5863761901855469\n",
      "Epoch 109 mean train loss:\t0.5089136362075806\n",
      "Epoch 109 mean val loss:  \t1.350560188293457\n",
      "Epoch 110 mean train loss:\t0.8160158395767212\n",
      "Epoch 110 mean val loss:  \t2.1213324069976807\n",
      "Epoch 111 mean train loss:\t0.7066858410835266\n",
      "Epoch 111 mean val loss:  \t1.1752583980560303\n",
      "Epoch 112 mean train loss:\t0.6164703369140625\n",
      "Epoch 112 mean val loss:  \t1.0824792385101318\n",
      "Epoch 113 mean train loss:\t0.6017987728118896\n",
      "Epoch 113 mean val loss:  \t1.1184027194976807\n",
      "Epoch 114 mean train loss:\t0.5427725315093994\n",
      "Epoch 114 mean val loss:  \t1.4990447759628296\n",
      "Epoch 115 mean train loss:\t0.47583824396133423\n",
      "Epoch 115 mean val loss:  \t1.2933650016784668\n",
      "Epoch 116 mean train loss:\t0.4421118497848511\n",
      "Epoch 116 mean val loss:  \t1.4949090480804443\n",
      "Epoch 117 mean train loss:\t0.4841644763946533\n",
      "Epoch 117 mean val loss:  \t1.2950025796890259\n",
      "Epoch 118 mean train loss:\t0.48837441205978394\n",
      "Epoch 118 mean val loss:  \t1.249403715133667\n",
      "Epoch 119 mean train loss:\t0.5268653631210327\n",
      "Epoch 119 mean val loss:  \t1.1231892108917236\n",
      "Epoch 120 mean train loss:\t0.473358154296875\n",
      "Epoch 120 mean val loss:  \t1.7487690448760986\n",
      "Epoch 121 mean train loss:\t0.4654148519039154\n",
      "Epoch 121 mean val loss:  \t1.2028861045837402\n",
      "Epoch 122 mean train loss:\t0.45843636989593506\n",
      "Epoch 122 mean val loss:  \t1.369126319885254\n",
      "Epoch 123 mean train loss:\t0.44571492075920105\n",
      "Epoch 123 mean val loss:  \t1.1891475915908813\n",
      "Epoch 124 mean train loss:\t0.41757941246032715\n",
      "Epoch 124 mean val loss:  \t1.788942575454712\n",
      "Epoch 125 mean train loss:\t0.482668936252594\n",
      "Epoch 125 mean val loss:  \t2.2228100299835205\n",
      "Epoch 126 mean train loss:\t0.4617978632450104\n",
      "Epoch 126 mean val loss:  \t2.4386913776397705\n",
      "Epoch 127 mean train loss:\t0.4537646472454071\n",
      "Epoch 127 mean val loss:  \t1.4104163646697998\n",
      "Patience exhausted in epoch 127. Best val-loss was 0.9602363109588623\n",
      "Using best model from epoch 26 which had loss 0.9602363109588623\n",
      "Saved model as ../pickle/models/ConvLSTM_withLandcover_generalizationTest_allStations_20190731-090931.pkl\n"
     ]
    }
   ],
   "source": [
    "torch.manual_seed(0)\n",
    "np.random.seed(0)\n",
    "for epoch in range(num_epochs):\n",
    "    model.train()\n",
    "\n",
    "    epoch_losses = torch.tensor(0.0)\n",
    "    conv_hidden_states = None\n",
    "    for i, train_batch in enumerate(train_dataloader):\n",
    "        y_train = train_batch['y'].reshape((train_batch['y'].shape[0],-1)).to(device, non_blocking=True)\n",
    "        mask = train_batch['mask'].sum(dim=0, dtype=torch.int8).reshape(-1).to(device, non_blocking=True) != 0\n",
    "        mask = (mask.to(torch.int8) + train_mask) > 1\n",
    "        landcover_batch = landcover.repeat(y_train.shape[0],1,1,1).to(device, non_blocking=True)\n",
    "        \n",
    "        if mask.sum() == 0:\n",
    "            print('Batch {} has no target values. skipping.'.format(i))\n",
    "            continue\n",
    "        if not stateful_lstm:\n",
    "            conv_hidden_states = None\n",
    "        \n",
    "        y_pred, conv_hidden_states = model(train_batch['x_conv'].to(device), landcover_batch, hidden_state=conv_hidden_states)\n",
    "        y_pred = y_pred.reshape((train_batch['y'].shape[0], -1))\n",
    "        loss = loss_fn(y_pred[:,mask], y_train[:,mask])\n",
    "\n",
    "        optimizer.zero_grad()\n",
    "        loss.backward()\n",
    "        optimizer.step()\n",
    "        \n",
    "        epoch_losses += loss.detach()\n",
    "\n",
    "    epoch_loss = (epoch_losses / len(train_dataloader)).item()\n",
    "    print('Epoch', epoch, 'mean train loss:\\t{}'.format(epoch_loss))\n",
    "    writer.add_scalar('loss_nse', epoch_loss, epoch)\n",
    "    \n",
    "    # eval on validation split\n",
    "    model.eval()\n",
    "    val_losses = torch.tensor(0.0)\n",
    "    conv_hidden_states = None\n",
    "    for i, val_batch in enumerate(val_dataloader):\n",
    "        y_val = val_batch['y'].reshape((val_batch['y'].shape[0],-1)).to(device, non_blocking=True)\n",
    "        mask = val_batch['mask'].sum(dim=0, dtype=torch.int8).reshape(-1).to(device, non_blocking=True) != 0\n",
    "        mask = (mask.to(torch.int8) + train_mask) > 0\n",
    "        landcover_batch = landcover.repeat(y_val.shape[0],1,1,1).to(device, non_blocking=True)\n",
    "        \n",
    "        if not stateful_lstm:\n",
    "            conv_hidden_states = None\n",
    "        \n",
    "        batch_pred, conv_hidden_states = model(val_batch['x_conv'].to(device), landcover_batch, hidden_state=conv_hidden_states)\n",
    "        batch_pred = batch_pred.detach().reshape((val_batch['y'].shape[0], -1))\n",
    "        val_losses += loss_fn(batch_pred[:,mask], y_val[:,mask]).detach()\n",
    "\n",
    "    val_nse = (val_losses / len(val_dataloader)).item()\n",
    "    print('Epoch {} mean val loss:  \\t{}'.format(epoch, val_nse))\n",
    "    writer.add_scalar('loss_nse_val', val_nse, epoch)\n",
    "    if val_nse < best_loss_model[1] - min_improvement:\n",
    "        best_loss_model = (epoch, val_nse, model.state_dict())  # new best model\n",
    "        load_data.pickle_model('ConvLSTM_withLandcover_generalizationTest', model, 'allStations', time_stamp)\n",
    "    elif epoch > best_loss_model[0] + patience:\n",
    "        print('Patience exhausted in epoch {}. Best val-loss was {}'.format(epoch, best_loss_model[1]))\n",
    "        break\n",
    "\n",
    "print('Using best model from epoch', str(best_loss_model[0]), 'which had loss', str(best_loss_model[1]))\n",
    "model.load_state_dict(best_loss_model[2])\n",
    "load_data.pickle_model('ConvLSTM_withLandcover_generalizationTest', model, 'allStations', time_stamp)"
   ]
  },
  {
   "cell_type": "code",
   "execution_count": 12,
   "metadata": {
    "scrolled": true
   },
   "outputs": [
    {
     "name": "stdout",
     "output_type": "stream",
     "text": [
      "2019-07-31 09:47:43,925 - 20190731-090931 - predicting\n"
     ]
    }
   ],
   "source": [
    "logger.warning('predicting')\n",
    "model.eval()\n",
    "\n",
    "predictions = []\n",
    "conv_hidden_states = None\n",
    "for i, test_batch in enumerate(test_dataloader):\n",
    "    if not stateful_lstm:\n",
    "        conv_hidden_states = None\n",
    "        \n",
    "    landcover_batch = landcover.repeat(test_batch['y'].shape[0],1,1,1).to(device)\n",
    "    pred, conv_hidden_states = model(test_batch['x_conv'].to(device), landcover_batch, hidden_state=conv_hidden_states)\n",
    "    predictions.append(pred.detach())\n",
    "\n",
    "predictions = torch.cat(predictions).cpu()\n",
    "\n",
    "if stateful_lstm:\n",
    "    # reorder time series\n",
    "    pred_indices = np.array(list(test_sampler.__iter__())).reshape(-1)\n",
    "    predictions = predictions[pred_indices.argsort()]"
   ]
  },
  {
   "cell_type": "code",
   "execution_count": 13,
   "metadata": {
    "scrolled": true
   },
   "outputs": [
    {
     "name": "stderr",
     "output_type": "stream",
     "text": [
      "/home/mgauch/runoff-nn/gwf/lib/python3.6/site-packages/pandas/plotting/_converter.py:129: FutureWarning: Using an implicitly registered datetime converter for a matplotlib plotting method. The converter was registered by pandas on import. Future versions of pandas will require you to explicitly register matplotlib converters.\n",
      "\n",
      "To register the converters:\n",
      "\t>>> from pandas.plotting import register_matplotlib_converters\n",
      "\t>>> register_matplotlib_converters()\n",
      "  warnings.warn(msg, FutureWarning)\n"
     ]
    },
    {
     "name": "stdout",
     "output_type": "stream",
     "text": [
      "02GA047 \tNSE: 0.1976791304657639 \tMSE: 62.89395275175758 (clipped to 0)\n",
      "04213000 \tNSE: 0.46052357237695485 \tMSE: 96.81942251220606 (clipped to 0)\n",
      "04176500 \tNSE: 0.12472873610471735 \tMSE: 597.875232699212 (clipped to 0)\n",
      "02GG003 \tNSE: -0.15029489900116677 \tMSE: 549.148105558864 (clipped to 0)\n",
      "04214500 \tNSE: 0.5356438386321658 \tMSE: 55.97213904732766 (clipped to 0)\n",
      "02GC026 \tNSE: 0.020240842515400814 \tMSE: 157.57736290989448 (clipped to 0)\n",
      "04174500 \tNSE: -0.6275852707873582 \tMSE: 153.9276344630104 (clipped to 0)\n",
      "02GG013 \tNSE: 0.3424742552520842 \tMSE: 25.105897928059523 (clipped to 0)\n",
      "04161820 \tNSE: 0.11208803914554621 \tMSE: 28.03852750623124 (clipped to 0)\n",
      "04159492 \tNSE: 0.2949623649196017 \tMSE: 327.34460467206225 (clipped to 0)\n",
      "04200500 \tNSE: 0.35919819871745495 \tMSE: 641.2535382980438 (clipped to 0)\n",
      "02GB001 \tNSE: -0.6826856524563336 \tMSE: 12636.759248426077 (clipped to 0)\n",
      "04208504 \tNSE: -0.7337279122202645 \tMSE: 1693.0349882903577 (clipped to 0)\n",
      "04199000 \tNSE: 0.3212552523238339 \tMSE: 694.0866186859517 (clipped to 0)\n",
      "02GG002 \tNSE: 0.12056113106210031 \tMSE: 212.10555208073092 (clipped to 0)\n",
      "04193500 \tNSE: -0.3827011190774443 \tMSE: 97896.27524415983 (clipped to 0)\n",
      "04207200 \tNSE: 0.366836538650825 \tMSE: 14.820008413518266 (clipped to 0)\n",
      "04160600 \tNSE: 0.591172867729346 \tMSE: 11.827743196474355 (clipped to 0)\n",
      "04215000 \tNSE: 0.3675232072953688 \tMSE: 60.7511749825326 (clipped to 0)\n",
      "02GB007 \tNSE: -0.17543735955721962 \tMSE: 36.75829418567625 (clipped to 0)\n",
      "02GC002 \tNSE: 0.35103574118556524 \tMSE: 83.39387661789404 (clipped to 0)\n",
      "02GA038 \tNSE: 0.18041043391594602 \tMSE: 134.85400251854054 (clipped to 0)\n",
      "02GA010 \tNSE: 0.2209817095052098 \tMSE: 371.4153145256117 (clipped to 0)\n",
      "02GG009 \tNSE: 0.2293163457345857 \tMSE: 119.88248335073888 (clipped to 0)\n",
      "04165500 \tNSE: -0.4285596944672885 \tMSE: 639.5074870855608 (clipped to 0)\n",
      "04198000 \tNSE: -0.0951062697720293 \tMSE: 8090.162619372006 (clipped to 0)\n",
      "04213500 \tNSE: 0.3903383377376055 \tMSE: 624.5476756069571 (clipped to 0)\n",
      "02GA018 \tNSE: 0.24497852797454867 \tMSE: 189.6260440465225 (clipped to 0)\n",
      "02GG006 \tNSE: 0.41789208202878436 \tMSE: 31.20520436227004 (clipped to 0)\n",
      "02GC007 \tNSE: 0.2934429025027875 \tMSE: 21.28244972412964 (clipped to 0)\n",
      "04215500 \tNSE: 0.4480584943182466 \tMSE: 99.67230798251917 (clipped to 0)\n",
      "04195820 \tNSE: 0.15367562487021225 \tMSE: 993.4107573262643 (clipped to 0)\n",
      "04209000 \tNSE: 0.41471418021996864 \tMSE: 182.99313263312382 (clipped to 0)\n",
      "02GE007 \tNSE: 0.2686624663593301 \tMSE: 26.456178047798517 (clipped to 0)\n",
      "02GC010 \tNSE: 0.41612811578305164 \tMSE: 34.711136689511505 (clipped to 0)\n",
      "04166100 \tNSE: -5.941583464199096 \tMSE: 50.904767371871294 (clipped to 0)\n",
      "04177000 \tNSE: 0.15500343327252453 \tMSE: 22.77251366422465 (clipped to 0)\n",
      "04164000 \tNSE: -0.09095572620986792 \tMSE: 191.165289218517 (clipped to 0)\n",
      "04159900 \tNSE: 0.368196355068674 \tMSE: 27.449950621869537 (clipped to 0)\n",
      "02GD004 \tNSE: 0.34893222433571836 \tMSE: 35.849792728221516 (clipped to 0)\n",
      "04196800 \tNSE: 0.4133343184344881 \tMSE: 175.55881757041257 (clipped to 0)\n",
      "04199500 \tNSE: 0.4138419375896665 \tMSE: 237.18775912612625 (clipped to 0)\n",
      "04212100 \tNSE: 0.2512616520797196 \tMSE: 1099.3912626567535 (clipped to 0)\n",
      "02GC018 \tNSE: 0.42940505470470747 \tMSE: 38.64457072478944 (clipped to 0)\n",
      "04166500 \tNSE: -0.21791066332434106 \tMSE: 42.09622023268044 (clipped to 0)\n",
      "04197100 \tNSE: 0.6123984477833386 \tMSE: 39.754124418708486 (clipped to 0)\n"
     ]
    }
   ],
   "source": [
    "actuals = test_dataset.data_runoff.copy()\n",
    "if len(actuals['date'].unique()) != len(predictions):\n",
    "    print('Warning: length of prediction {} and actuals {} does not match.'.format(len(predictions), len(actuals['date'].unique())))\n",
    "\n",
    "nse_dict = {}\n",
    "mse_dict = {}\n",
    "predictions_df = pd.DataFrame(columns=actuals.columns)\n",
    "predictions_df['is_test_station'] = False\n",
    "for station in actuals['station'].unique():\n",
    "    row, col = test_dataset.station_to_index[station]\n",
    "    \n",
    "    act = actuals[actuals['station'] == station].set_index('date')['runoff']\n",
    "    if predictions.shape[0] != act.shape[0]:\n",
    "        print('Warning: length of prediction {} and actuals {} does not match for station {}. Ignoring excess actuals.'.format(len(predictions), len(act), station))\n",
    "        act = act.iloc[:predictions.shape[0]]\n",
    "    pred = pd.DataFrame({'runoff': predictions[:,row,col]}, index=act.index)\n",
    "    pred['station'] = station\n",
    "    pred['is_test_station'] = station in test_stations\n",
    "    predictions_df = predictions_df.append(pred.reset_index(), sort=True)\n",
    "    \n",
    "    nse, mse = evaluate.evaluate_daily(station, pred['runoff'], act, writer=writer)\n",
    "    nse_dict[station] = nse\n",
    "    mse_dict[station] = mse\n",
    "    \n",
    "    print(station, '\\tNSE:', nse, '\\tMSE:', mse, '(clipped to 0)')"
   ]
  },
  {
   "cell_type": "code",
   "execution_count": 14,
   "metadata": {
    "scrolled": true
   },
   "outputs": [
    {
     "name": "stdout",
     "output_type": "stream",
     "text": [
      "Train Median NSE (clipped to 0) 0.34893222433571836 / Min -0.3827011190774443 / Max 0.6123984477833386\n",
      "Train Median MSE (clipped to 0) 96.81942251220606 / Min 11.827743196474355 / Max 97896.27524415983\n",
      "Test Median NSE (clipped to 0) 0.12056113106210031 / Min -5.941583464199096 / Max 0.368196355068674\n",
      "Test Median MSE (clipped to 0) 83.39387661789404 / Min 27.449950621869537 / Max 212.10555208073092\n",
      "Test Median NSE (clipped to 0) -0.1628661292791932 / Min -0.7337279122202645 / Max 0.2293163457345857\n",
      "Test Median MSE (clipped to 0) 370.15669738869053 / Min 36.75829418567625 / Max 12636.759248426077\n"
     ]
    }
   ],
   "source": [
    "nse_train = list(nse_dict[s] for s in train_stations)\n",
    "mse_train = list(mse_dict[s] for s in train_stations)\n",
    "print('Train Median NSE (clipped to 0)', np.median(nse_train), '/ Min', np.min(nse_train), '/ Max', np.max(nse_train))\n",
    "print('Train Median MSE (clipped to 0)', np.median(mse_train), '/ Min', np.min(mse_train), '/ Max', np.max(mse_train))\n",
    "\n",
    "nse_test = list(nse_dict[s] for s in test_stations)\n",
    "mse_test = list(mse_dict[s] for s in test_stations)\n",
    "print('Test Median NSE (clipped to 0)', np.median(nse_test), '/ Min', np.min(nse_test), '/ Max', np.max(nse_test))\n",
    "print('Test Median MSE (clipped to 0)', np.median(mse_test), '/ Min', np.min(mse_test), '/ Max', np.max(mse_test))\n",
    "\n",
    "nse_test = list(nse_dict[s] for s in exclude_downstream_stations)\n",
    "mse_test = list(mse_dict[s] for s in exclude_downstream_stations)\n",
    "print('Test Median NSE (clipped to 0)', np.median(nse_test), '/ Min', np.min(nse_test), '/ Max', np.max(nse_test))\n",
    "print('Test Median MSE (clipped to 0)', np.median(mse_test), '/ Min', np.min(mse_test), '/ Max', np.max(mse_test))\n",
    "\n",
    "writer.add_scalar('nse_median', np.median(nse_test))"
   ]
  },
  {
   "cell_type": "code",
   "execution_count": 15,
   "metadata": {
    "scrolled": true
   },
   "outputs": [
    {
     "name": "stdout",
     "output_type": "stream",
     "text": [
      "[('02GA047', 0.1976791304657639), ('04213000', 0.46052357237695485), ('04176500', 0.12472873610471735), ('02GG003', -0.15029489900116677), ('04214500', 0.5356438386321658), ('02GC026', 0.020240842515400814), ('04174500', -0.6275852707873582), ('02GG013', 0.3424742552520842), ('04161820', 0.11208803914554621), ('04159492', 0.2949623649196017), ('04200500', 0.35919819871745495), ('02GB001', -0.6826856524563336), ('04208504', -0.7337279122202645), ('04199000', 0.3212552523238339), ('02GG002', 0.12056113106210031), ('04193500', -0.3827011190774443), ('04207200', 0.366836538650825), ('04160600', 0.591172867729346), ('04215000', 0.3675232072953688), ('02GB007', -0.17543735955721962), ('02GC002', 0.35103574118556524), ('02GA038', 0.18041043391594602), ('02GA010', 0.2209817095052098), ('02GG009', 0.2293163457345857), ('04165500', -0.4285596944672885), ('04198000', -0.0951062697720293), ('04213500', 0.3903383377376055), ('02GA018', 0.24497852797454867), ('02GG006', 0.41789208202878436), ('02GC007', 0.2934429025027875), ('04215500', 0.4480584943182466), ('04195820', 0.15367562487021225), ('04209000', 0.41471418021996864), ('02GE007', 0.2686624663593301), ('02GC010', 0.41612811578305164), ('04166100', -5.941583464199096), ('04177000', 0.15500343327252453), ('04164000', -0.09095572620986792), ('04159900', 0.368196355068674), ('02GD004', 0.34893222433571836), ('04196800', 0.4133343184344881), ('04199500', 0.4138419375896665), ('04212100', 0.2512616520797196), ('02GC018', 0.42940505470470747), ('04166500', -0.21791066332434106), ('04197100', 0.6123984477833386)]\n"
     ]
    }
   ],
   "source": [
    "print(list((s, nse_dict[s]) for s in nse_dict.keys()))"
   ]
  },
  {
   "cell_type": "code",
   "execution_count": 16,
   "metadata": {},
   "outputs": [],
   "source": [
    "writer.close()"
   ]
  },
  {
   "cell_type": "code",
   "execution_count": 17,
   "metadata": {},
   "outputs": [
    {
     "data": {
      "text/plain": [
       "'ConvLSTM_withLandcover_generalizationTest_20190731-090931.pkl'"
      ]
     },
     "execution_count": 17,
     "metadata": {},
     "output_type": "execute_result"
    }
   ],
   "source": [
    "save_df = pd.merge(predictions_df.rename({'runoff': 'prediction'}, axis=1), actuals.rename({'runoff': 'actual'}, axis=1), \n",
    "                   on=['date', 'station'])[['date', 'station', 'prediction', 'actual', 'is_test_station']]\n",
    "load_data.pickle_results('ConvLSTM_withLandcover_generalizationTest', save_df, time_stamp)"
   ]
  },
  {
   "cell_type": "code",
   "execution_count": 18,
   "metadata": {},
   "outputs": [
    {
     "data": {
      "text/plain": [
       "'20190731-094756'"
      ]
     },
     "execution_count": 18,
     "metadata": {},
     "output_type": "execute_result"
    }
   ],
   "source": [
    "datetime.now().strftime('%Y%m%d-%H%M%S')"
   ]
  },
  {
   "cell_type": "code",
   "execution_count": 19,
   "metadata": {},
   "outputs": [],
   "source": []
  }
 ],
 "metadata": {
  "kernelspec": {
   "display_name": "Python 3",
   "language": "python",
   "name": "python3"
  },
  "language_info": {
   "codemirror_mode": {
    "name": "ipython",
    "version": 3
   },
   "file_extension": ".py",
   "mimetype": "text/x-python",
   "name": "python",
   "nbconvert_exporter": "python",
   "pygments_lexer": "ipython3",
   "version": "3.7.3"
  }
 },
 "nbformat": 4,
 "nbformat_minor": 4
}
