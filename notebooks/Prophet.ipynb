{
 "cells": [
  {
   "cell_type": "code",
   "execution_count": 1,
   "metadata": {},
   "outputs": [
    {
     "name": "stderr",
     "output_type": "stream",
     "text": [
      "Loading required package: zoo\n",
      "\n",
      "Attaching package: 'zoo'\n",
      "\n",
      "The following objects are masked from 'package:base':\n",
      "\n",
      "    as.Date, as.Date.numeric\n",
      "\n",
      "\n",
      "Attaching package: 'dplyr'\n",
      "\n",
      "The following objects are masked from 'package:xts':\n",
      "\n",
      "    first, last\n",
      "\n",
      "The following objects are masked from 'package:stats':\n",
      "\n",
      "    filter, lag\n",
      "\n",
      "The following objects are masked from 'package:base':\n",
      "\n",
      "    intersect, setdiff, setequal, union\n",
      "\n",
      "\n",
      "Attaching package: 'lubridate'\n",
      "\n",
      "The following object is masked from 'package:base':\n",
      "\n",
      "    date\n",
      "\n",
      "Loading required package: Rcpp\n",
      "Loading required package: rlang\n"
     ]
    }
   ],
   "source": [
    "library(ggplot2)\n",
    "library(xts)\n",
    "library(dplyr)\n",
    "library(tidyr)\n",
    "library(tseries)\n",
    "library(forecast)\n",
    "library(lubridate)\n",
    "library(prophet)"
   ]
  },
  {
   "cell_type": "code",
   "execution_count": 2,
   "metadata": {},
   "outputs": [],
   "source": [
    "data_runoff <- list.files(path='ObservedDischarge_LBRM_2011-2014', full.names=TRUE) %>% \n",
    "    lapply(function(f) {\n",
    "        data <- read.fwf(f, c(8, 11), skip=2, col.names=c('date', 'runoff'))\n",
    "        data$date <- ymd(strptime(gsub(' ', '0', data$date), '%d%m%Y'))\n",
    "        data$lake <- rep(substr(f, 19,21), nrow(data))\n",
    "        data$subbasin <- rep(strtoi(substr(f, 22,23)), nrow(data))\n",
    "        data\n",
    "    }) %>%\n",
    "    Reduce(function(...) merge(..., all=TRUE), .)\n",
    "           \n",
    "data_forcing <- list.files(path='RDRS_daily_LBRM', full.names=TRUE) %>% \n",
    "    lapply(function(f) {\n",
    "        data <- read.csv(f, sep=',', skip=3, col.names=c('date', 'tmin', 'tmax', 'prec'))\n",
    "        data$date <- ymd(strptime(data$date, '%Y-%m-%d'))\n",
    "        data$lake <- rep(substr(f, 26,28), nrow(data))\n",
    "        data$subbasin <- rep(strtoi(substr(f, 29,30)), nrow(data))\n",
    "        data\n",
    "    }) %>%\n",
    "    Reduce(function(...) merge(..., all=TRUE), .)\n",
    "           \n",
    "data <- full_join(data_forcing, data_runoff, by=c('date', 'lake', 'subbasin'))"
   ]
  },
  {
   "cell_type": "code",
   "execution_count": 3,
   "metadata": {},
   "outputs": [],
   "source": [
    "eri02 <- data_runoff %>% filter(lake == 'eri' & subbasin == 2) %>% select(date, runoff)"
   ]
  },
  {
   "cell_type": "code",
   "execution_count": 18,
   "metadata": {},
   "outputs": [
    {
     "name": "stderr",
     "output_type": "stream",
     "text": [
      "Disabling daily seasonality. Run prophet with daily.seasonality=TRUE to override this.\n"
     ]
    }
   ],
   "source": [
    "saved <- options(repr.plot.width=10, repr.plot.height=10)\n",
    "data_with_runoff <- data %>% filter(lake == 'eri' & subbasin == 2) %>% filter(date >= ymd('2011-01-01') & date <= ymd('2013-12-31'))\n",
    "cut_date <- ymd('2013-01-01')\n",
    "#par(mfrow=c(3,1))\n",
    "#for (i in 1:3) {\n",
    "train <- data_with_runoff %>% filter(date < cut_date) %>% select(date, runoff, prec, tmin, tmax)\n",
    "train_y <- train %>% select(runoff)\n",
    "#train_xreg <- data_with_runoff %>% filter(date < cut_date) %>% select(tmin, tmax, prec)\n",
    "test_y <- data_with_runoff %>% filter(date >= cut_date & date < cut_date + years(1)) %>% select(runoff)\n",
    "test_xreg <- data_with_runoff %>% filter(date >= cut_date & date < cut_date + years(1)) %>% select(tmin, tmax, prec)\n",
    "\n",
    "fit <- prophet(yearly.seasonality=TRUE, weekly.seasonality=FALSE)\n",
    "fit <- add_regressor(fit, 'prec')\n",
    "fit <- add_regressor(fit, 'tmin')\n",
    "fit <- add_regressor(fit, 'tmax')\n",
    "m <- fit.prophet(fit, data.frame(ds=train$date, y=train$runoff, prec=train$prec, tmin=train$tmin, tmax=train$tmax))\n",
    "future <- make_future_dataframe(m, periods=length(test_y[,1]))"
   ]
  },
  {
   "cell_type": "code",
   "execution_count": 19,
   "metadata": {},
   "outputs": [],
   "source": [
    "temp <- data_with_runoff %>% filter(date <= ymd('2013-12-31')) %>% select(prec,tmin,tmax)\n",
    "future$prec <- temp[,1]\n",
    "future$tmin <- temp[,2]\n",
    "future$tmax <- temp[,3]"
   ]
  },
  {
   "cell_type": "code",
   "execution_count": 20,
   "metadata": {},
   "outputs": [],
   "source": [
    "fcast <- predict(m, future)"
   ]
  },
  {
   "cell_type": "code",
   "execution_count": 28,
   "metadata": {},
   "outputs": [],
   "source": [
    "fcast_cap <- sapply(fcast[['yhat']], function(y) max(y,0))"
   ]
  },
  {
   "cell_type": "code",
   "execution_count": 29,
   "metadata": {},
   "outputs": [
    {
     "name": "stderr",
     "output_type": "stream",
     "text": [
      "Warning message in fcast_cap - test_y[, 1]:\n",
      "\"longer object length is not a multiple of shorter object length\""
     ]
    },
    {
     "name": "stdout",
     "output_type": "stream",
     "text": [
      "[1] \"MSE: 0.158352061814487\"\n"
     ]
    }
   ],
   "source": [
    "mse <- sum((fcast_cap - test_y[,1]) ^ 2) / length(fcast)\n",
    "print(paste('MSE:', mse))\n",
    "\n",
    "idx_start <- ymd('2011-01-01')"
   ]
  },
  {
   "cell_type": "code",
   "execution_count": 31,
   "metadata": {},
   "outputs": [
    {
     "data": {
      "image/png": "[encoded data removed]",
      "text/plain": [
       "plot without title"
      ]
     },
     "metadata": {},
     "output_type": "display_data"
    }
   ],
   "source": [
    "saved <- options(repr.plot.width=10, repr.plot.height=4)\n",
    "plot_data <- c(train$runoff,rep(NA, 365))\n",
    "plot(x=idx_start+days(index(plot_data)), y=plot_data, type='l', xlab='Date', ylab='runoff')\n",
    "lines(x=idx_start+days(length(train[,1])+index(test_y)), y=test_y[,1], col=2)\n",
    "lines(x=idx_start+days(index(plot_data)), y=fcast_cap, col=3)\n",
    "legend(\"topright\", legend=c(\"Train\", \"Test\", \"Forecast\"), col=1:3, ncol=3, lty=1, bty='n')"
   ]
  },
  {
   "cell_type": "code",
   "execution_count": 32,
   "metadata": {},
   "outputs": [
    {
     "data": {
      "image/png": "[encoded data removed]",
      "text/plain": [
       "plot without title"
      ]
     },
     "metadata": {},
     "output_type": "display_data"
    }
   ],
   "source": [
    "saved <- options(repr.plot.width=10, repr.plot.height=8)\n",
    "prophet_plot_components(m, fcast)"
   ]
  },
  {
   "cell_type": "code",
   "execution_count": null,
   "metadata": {},
   "outputs": [],
   "source": []
  }
 ],
 "metadata": {
  "kernelspec": {
   "display_name": "R",
   "language": "R",
   "name": "ir"
  },
  "language_info": {
   "codemirror_mode": "r",
   "file_extension": ".r",
   "mimetype": "text/x-r-source",
   "name": "R",
   "pygments_lexer": "r",
   "version": "3.5.3"
  }
 },
 "nbformat": 4,
 "nbformat_minor": 2
}
