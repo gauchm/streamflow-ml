{
 "cells": [
  {
   "cell_type": "markdown",
   "metadata": {},
   "source": [
    "ConvLSTM trained on gridded forcings for all stations"
   ]
  },
  {
   "cell_type": "code",
   "execution_count": 1,
   "metadata": {},
   "outputs": [
    {
     "name": "stderr",
     "output_type": "stream",
     "text": [
      "WARNING:root:This caffe2 python run does not have GPU support. Will run in CPU only mode.\n"
     ]
    },
    {
     "data": {
      "text/plain": [
       "'20190718-123412'"
      ]
     },
     "execution_count": 1,
     "metadata": {},
     "output_type": "execute_result"
    }
   ],
   "source": [
    "%load_ext autoreload\n",
    "%autoreload 2\n",
    "import sys\n",
    "sys.path.append('..')\n",
    "import os\n",
    "import numpy as np\n",
    "import pandas as pd\n",
    "from matplotlib import pyplot as plt \n",
    "from datetime import datetime, timedelta\n",
    "from sklearn import preprocessing\n",
    "import netCDF4 as nc\n",
    "import torch\n",
    "from torch import nn\n",
    "from torch.utils.tensorboard import SummaryWriter\n",
    "from src import load_data, evaluate, conv_lstm\n",
    "import torch.autograd as autograd\n",
    "import pickle\n",
    "\n",
    "time_stamp = datetime.now().strftime('%Y%m%d-%H%M%S')\n",
    "time_stamp"
   ]
  },
  {
   "cell_type": "code",
   "execution_count": 2,
   "metadata": {},
   "outputs": [],
   "source": [
    "USE_CUDA = False\n",
    "if torch.cuda.is_available():\n",
    "    print('CUDA Available')\n",
    "    USE_CUDA = True\n",
    "device = torch.device('cuda' if USE_CUDA else 'cpu')\n",
    "torch.manual_seed(0)\n",
    "np.random.seed(0)"
   ]
  },
  {
   "cell_type": "code",
   "execution_count": 3,
   "metadata": {},
   "outputs": [
    {
     "name": "stderr",
     "output_type": "stream",
     "text": [
      "../src/load_data.py:20: ParserWarning: Falling back to the 'python' engine because the 'c' engine does not support skipfooter; you can avoid this warning by specifying engine='python'.\n",
      "  data = pd.read_csv(os.path.join(dir, f), skiprows=2, skipfooter=1, index_col=False, header=None, names=['runoff'], na_values='-1.2345')\n",
      "/home/mgauch/miniconda3/envs/gwf/lib/python3.7/site-packages/pandas/core/frame.py:6692: FutureWarning: Sorting because non-concatenation axis is not aligned. A future version\n",
      "of pandas will change to not sort by default.\n",
      "\n",
      "To accept the future behavior, pass 'sort=False'.\n",
      "\n",
      "To retain the current behavior and silence the warning, pass 'sort=True'.\n",
      "\n",
      "  sort=sort)\n"
     ]
    }
   ],
   "source": [
    "rdrs_data, rdrs_var_names, rdrs_time_index = load_data.load_rdrs_forcings(as_grid=True)\n",
    "data_runoff = load_data.load_discharge_gr4j_vic()"
   ]
  },
  {
   "cell_type": "code",
   "execution_count": 4,
   "metadata": {
    "scrolled": true
   },
   "outputs": [],
   "source": [
    "gauge_info = pd.read_csv('../data/gauge_info.csv')[['ID', 'Lat', 'Lon']]\n",
    "data_runoff = pd.merge(data_runoff, gauge_info, left_on='station', right_on='ID').drop('ID', axis=1)"
   ]
  },
  {
   "cell_type": "code",
   "execution_count": 168,
   "metadata": {
    "scrolled": true
   },
   "outputs": [],
   "source": [
    "rdrs_data = rdrs_data[:,[4,5],:,:]\n",
    "rdrs_var_names = rdrs_var_names[4:6]"
   ]
  },
  {
   "cell_type": "code",
   "execution_count": 6,
   "metadata": {},
   "outputs": [],
   "source": [
    "n_vars, n_rows, n_cols = rdrs_data.shape[1], rdrs_data.shape[2], rdrs_data.shape[3]\n",
    "n_vars, n_rows, n_cols"
   ]
  },
  {
   "cell_type": "code",
   "execution_count": 109,
   "metadata": {},
   "outputs": [
    {
     "data": {
      "text/plain": [
       "(49113, 1091, 82693)"
      ]
     },
     "execution_count": 109,
     "metadata": {},
     "output_type": "execute_result"
    }
   ],
   "source": [
    "predictions = {}\n",
    "actuals = {}\n",
    "seq_len = 3 * 24\n",
    "validation_fraction = 0.2\n",
    "\n",
    "torch.manual_seed(0)\n",
    "np.random.seed(0)\n",
    "\n",
    "train_start = datetime.strptime('2010-01-01', '%Y-%m-%d') + timedelta(hours=seq_len)  # first day for which to make a prediction in train set\n",
    "train_end = '2012-12-31'\n",
    "test_start = '2013-01-01'\n",
    "test_end = '2014-12-31'\n",
    "\n",
    "data_runoff = data_runoff[~pd.isna(data_runoff['runoff'])]\n",
    "data_runoff = data_runoff[(data_runoff['date'] >= train_start) & (data_runoff['date'] <= test_end)].sort_values(by='date').reset_index(drop='True')\n",
    "\n",
    "num_train_samples = data_runoff[(data_runoff['date'] >= train_start) & (data_runoff['date'] <= train_end)].shape[0]\n",
    "num_train_dates = len(data_runoff[(data_runoff['date'] >= train_start) & (data_runoff['date'] <= train_end)]['date'].unique())\n",
    "num_total_samples = data_runoff.shape[0]\n",
    "num_train_samples, num_train_dates, num_total_samples"
   ]
  },
  {
   "cell_type": "code",
   "execution_count": 110,
   "metadata": {},
   "outputs": [],
   "source": [
    "# input: (seq_len, samples, variables, height, width)\n",
    "# But: x_conv is the same for all stations for the same date, so we only generate #dates samples and feed them multiple times (as many times as we have stations for that date)\n",
    "x_conv = np.zeros((seq_len, len(data_runoff['date'].unique()), n_vars, n_rows, n_cols))\n",
    "i = 0\n",
    "samples_per_date = []\n",
    "for date in data_runoff['date'].unique():\n",
    "    # For each day that is to be predicted, cut out a sequence that ends with that day's 23:00 and is seq_len long\n",
    "    end_of_day_index = rdrs_time_index[rdrs_time_index == date].index.values[0] + 23\n",
    "    x_conv[:,i,:,:,:] = rdrs_data[end_of_day_index - seq_len : end_of_day_index]\n",
    "    samples_per_date.append((data_runoff['date'] == date).sum())\n",
    "    i += 1\n",
    "\n",
    "# Scale training data\n",
    "conv_scalers = []  # save scalers to apply them to test data later\n",
    "x_conv_train = x_conv[:,:num_train_dates,:,:,:].copy()\n",
    "for i in range(x_conv.shape[2]):\n",
    "    conv_scalers.append(preprocessing.StandardScaler())\n",
    "    x_conv_train[:,:,i,:,:] = np.nan_to_num(conv_scalers[i].fit_transform(x_conv_train[:,:,i,:,:].reshape((-1, 1))).reshape(x_conv_train[:,:,i,:,:].shape))\n",
    "\n",
    "x_fc = data_runoff[['Lat', 'Lon']].to_numpy()    \n",
    "fc_scalers = []  # save scalers to apply them to test data later\n",
    "x_fc_train = x_fc[:num_train_samples,:].copy()\n",
    "for i in range(x_fc.shape[1]):\n",
    "    fc_scalers.append(preprocessing.StandardScaler())\n",
    "    x_fc_train[:,i] = np.nan_to_num(fc_scalers[i].fit_transform(x_fc_train[:,i].reshape((-1,1))).reshape(x_fc_train[:,i].shape))\n",
    "\n",
    "y_train = data_runoff[(data_runoff['date'] >= train_start) & (data_runoff['date'] <= train_end)]['runoff'].to_numpy()"
   ]
  },
  {
   "cell_type": "code",
   "execution_count": 124,
   "metadata": {},
   "outputs": [],
   "source": [
    "# Get validation split\n",
    "# Each x_conv belongs to multiple x_fc's and y's. Therefore, we select the x_conv_val's first and then pick the x_fc's and y's that belong to them.\n",
    "num_validation_dates = int(x_conv_train.shape[1] * validation_fraction)\n",
    "validation_indices = np.random.choice(x_conv_train.shape[1], size=num_validation_dates, replace=False)\n",
    "train_indices = [i for i in range(x_conv_train.shape[1]) if i not in validation_indices]\n",
    "x_conv_val = x_conv_train[:,validation_indices,:,:,:]\n",
    "x_conv_train = x_conv_train[:,train_indices,:,:,:]\n",
    "samples_per_date_train = np.array(samples_per_date)[train_indices]\n",
    "samples_per_date_val = np.array(samples_per_date)[validation_indices]\n",
    "samples_per_date_test = np.array(samples_per_date)[num_train_dates:]\n",
    "\n",
    "x_fc_val = np.empty((0, x_fc_train.shape[1]))\n",
    "y_val = np.empty(0)\n",
    "for i in validation_indices:\n",
    "    start_idx = sum(samples_per_date[:i])\n",
    "    end_idx = start_idx + samples_per_date[i]\n",
    "    x_fc_val = np.concatenate([x_fc_val, x_fc_train[start_idx:end_idx,:]], axis=0)\n",
    "    y_val = np.concatenate([y_val, y_train[start_idx:end_idx]])\n",
    "\n",
    "x_fc_train_tmp = np.empty((0, x_fc_train.shape[1]))\n",
    "y_train_tmp = np.empty(0)\n",
    "for i in train_indices:\n",
    "    start_idx = sum(samples_per_date[:i])\n",
    "    end_idx = start_idx + samples_per_date[i]\n",
    "    x_fc_train_tmp = np.concatenate([x_fc_train_tmp, x_fc_train[start_idx:end_idx,:]], axis=0)\n",
    "    y_train_tmp = np.concatenate([y_train_tmp, y_train[start_idx:end_idx]])\n",
    "\n",
    "x_fc_train = x_fc_train_tmp\n",
    "y_train = y_train_tmp\n",
    "print('Shapes: x_conv_train {}, x_fc_train {}, y_train {}, x_conv_val {}, x_fc_val {}, y_val {}'.format(x_conv_train.shape, x_fc_train.shape, y_train.shape, \n",
    "                                                                                                        x_conv_val.shape, x_fc_val.shape, y_val.shape))"
   ]
  },
  {
   "cell_type": "code",
   "execution_count": 142,
   "metadata": {},
   "outputs": [],
   "source": [
    "x_conv_train = torch.from_numpy(x_conv_train).float().to(device)\n",
    "x_conv_val = torch.from_numpy(x_conv_val).float().to(device)\n",
    "x_fc_train = torch.from_numpy(x_fc_train).float().to(device)\n",
    "x_fc_val = torch.from_numpy(x_fc_val).float().to(device)\n",
    "y_train = torch.from_numpy(y_train).float().to(device)\n",
    "y_val = torch.from_numpy(y_val).float().to(device)"
   ]
  },
  {
   "cell_type": "code",
   "execution_count": 239,
   "metadata": {},
   "outputs": [],
   "source": [
    "# Train model\n",
    "num_epochs = 100\n",
    "learning_rate = 3e-3\n",
    "patience = 50\n",
    "min_improvement = 0.05\n",
    "best_loss_model = (-1, np.inf, None)\n",
    "\n",
    "# Prepare model\n",
    "H = 4\n",
    "H_fc = 4\n",
    "batch_size = 10\n",
    "lstm_layers = 2\n",
    "fc_layers = 1\n",
    "kernel_size = (5,5)\n",
    "dropout = 0.2\n",
    "pooling = [False, True]\n",
    "model = conv_lstm.ConvLSTMRegression(x_conv_train.shape[3:], 2, batch_size, x_conv_train.shape[2], H, \n",
    "                                     kernel_size, lstm_layers, dropout, fc_layers, H_fc, pooling).to(device)\n",
    "loss_fn = torch.nn.MSELoss(reduction='mean')\n",
    "optimizer = torch.optim.Adam(model.parameters(), lr=learning_rate)\n",
    "\n",
    "writer = SummaryWriter()\n",
    "param_description = {'H': H, 'H_fc': H_fc, 'batch_size': batch_size, 'lstm_layers': lstm_layers, 'fc_layers': fc_layers, 'kernel_size': kernel_size, 'loss': loss_fn, \n",
    "                     'optimizer': optimizer, 'lr': learning_rate, 'patience': patience, 'min_improvement': min_improvement, 'pooling': pooling,\n",
    "                     'num_epochs': num_epochs, 'seq_len': seq_len, 'validation_fraction': validation_fraction, 'dropout': dropout,\n",
    "                     'train_start': train_start, 'train_end': train_end, 'test_start': test_start, 'test_end': test_end}\n",
    "writer.add_text('Parameter Description', str(param_description))"
   ]
  },
  {
   "cell_type": "code",
   "execution_count": 240,
   "metadata": {
    "scrolled": true
   },
   "outputs": [],
   "source": [
    "def expand_x_conv(x_conv, conv_idx, samples_done, samples_per_date, batch_size):\n",
    "    \"\"\" \n",
    "    x_conv only contains one entry per distinct date. x_fc and y contain one entry per training sample.\n",
    "    This method will repeat entries of x_conv as needed to get to the dimensions of x_fc and y.\n",
    "    \"\"\"\n",
    "    x_conv_in = x_conv[:,[conv_idx],:,:,:].repeat(1, samples_per_date[conv_idx], 1, 1, 1)[:,samples_done:,:,:,:]\n",
    "    samples_done += batch_size\n",
    "    if x_conv_in.shape[1] < batch_size:\n",
    "        conv_idx += 1\n",
    "        if conv_idx >= len(samples_per_date):\n",
    "            # fill with dummies\n",
    "            num_dummies = batch_size - (x_conv_in.shape[1] % batch_size)\n",
    "            print('Filling with {} dummies'.format(num_dummies))\n",
    "            x_conv_in = torch.cat([x_conv_in, np.zeros(x_conv_in.shape[0], num_dummies, x_conv_in.shape[2], x_conv_in.shape[3], x_conv_in.shape[4])], dim=1)\n",
    "        else:\n",
    "            samples_done = batch_size - x_conv_in.shape[1]\n",
    "            additional_conv_in = x_conv[:,[conv_idx],:,:,:].repeat(1, samples_per_date[conv_idx], 1, 1, 1)\n",
    "            x_conv_in = torch.cat([x_conv_in, additional_conv_in], dim=1)\n",
    "\n",
    "    return x_conv_in, conv_idx, samples_done"
   ]
  },
  {
   "cell_type": "code",
   "execution_count": 241,
   "metadata": {
    "scrolled": true
   },
   "outputs": [
    {
     "ename": "KeyboardInterrupt",
     "evalue": "",
     "output_type": "error",
     "traceback": [
      "\u001b[0;31m------------------------------------------------------\u001b[0m",
      "\u001b[0;31mKeyboardInterrupt\u001b[0m    Traceback (most recent call last)",
      "\u001b[0;32m<ipython-input-241-a524a318e813>\u001b[0m in \u001b[0;36m<module>\u001b[0;34m\u001b[0m\n\u001b[1;32m     23\u001b[0m     \u001b[0;32mfor\u001b[0m \u001b[0mi\u001b[0m \u001b[0;32min\u001b[0m \u001b[0mrange\u001b[0m\u001b[0;34m(\u001b[0m\u001b[0my_train\u001b[0m\u001b[0;34m.\u001b[0m\u001b[0mshape\u001b[0m\u001b[0;34m[\u001b[0m\u001b[0;36m0\u001b[0m\u001b[0;34m]\u001b[0m \u001b[0;34m//\u001b[0m \u001b[0mbatch_size\u001b[0m\u001b[0;34m)\u001b[0m\u001b[0;34m:\u001b[0m\u001b[0;34m\u001b[0m\u001b[0;34m\u001b[0m\u001b[0m\n\u001b[1;32m     24\u001b[0m         \u001b[0mx_conv_in\u001b[0m\u001b[0;34m,\u001b[0m \u001b[0mconv_idx\u001b[0m\u001b[0;34m,\u001b[0m \u001b[0msamples_done\u001b[0m \u001b[0;34m=\u001b[0m \u001b[0mexpand_x_conv\u001b[0m\u001b[0;34m(\u001b[0m\u001b[0mx_conv_train\u001b[0m\u001b[0;34m,\u001b[0m \u001b[0mconv_idx\u001b[0m\u001b[0;34m,\u001b[0m \u001b[0msamples_done\u001b[0m\u001b[0;34m,\u001b[0m \u001b[0msamples_per_date_train\u001b[0m\u001b[0;34m,\u001b[0m \u001b[0mbatch_size\u001b[0m\u001b[0;34m)\u001b[0m\u001b[0;34m\u001b[0m\u001b[0;34m\u001b[0m\u001b[0m\n\u001b[0;32m---> 25\u001b[0;31m         \u001b[0my_pred\u001b[0m \u001b[0;34m=\u001b[0m \u001b[0mmodel\u001b[0m\u001b[0;34m(\u001b[0m\u001b[0mx_conv_in\u001b[0m\u001b[0;34m[\u001b[0m\u001b[0;34m:\u001b[0m\u001b[0;34m,\u001b[0m\u001b[0;34m:\u001b[0m\u001b[0mbatch_size\u001b[0m\u001b[0;34m,\u001b[0m\u001b[0;34m:\u001b[0m\u001b[0;34m,\u001b[0m\u001b[0;34m:\u001b[0m\u001b[0;34m,\u001b[0m\u001b[0;34m:\u001b[0m\u001b[0;34m]\u001b[0m\u001b[0;34m,\u001b[0m \u001b[0mx_fc_train\u001b[0m\u001b[0;34m[\u001b[0m\u001b[0mi\u001b[0m\u001b[0;34m*\u001b[0m\u001b[0mbatch_size\u001b[0m \u001b[0;34m:\u001b[0m \u001b[0;34m(\u001b[0m\u001b[0mi\u001b[0m\u001b[0;34m+\u001b[0m\u001b[0;36m1\u001b[0m\u001b[0;34m)\u001b[0m\u001b[0;34m*\u001b[0m\u001b[0mbatch_size\u001b[0m\u001b[0;34m,\u001b[0m\u001b[0;34m:\u001b[0m\u001b[0;34m]\u001b[0m\u001b[0;34m)\u001b[0m\u001b[0;34m\u001b[0m\u001b[0;34m\u001b[0m\u001b[0m\n\u001b[0m\u001b[1;32m     26\u001b[0m         \u001b[0mloss\u001b[0m \u001b[0;34m=\u001b[0m \u001b[0mloss_fn\u001b[0m\u001b[0;34m(\u001b[0m\u001b[0my_pred\u001b[0m\u001b[0;34m,\u001b[0m \u001b[0my_train\u001b[0m\u001b[0;34m[\u001b[0m\u001b[0mi\u001b[0m\u001b[0;34m*\u001b[0m\u001b[0mbatch_size\u001b[0m \u001b[0;34m:\u001b[0m \u001b[0;34m(\u001b[0m\u001b[0mi\u001b[0m\u001b[0;34m+\u001b[0m\u001b[0;36m1\u001b[0m\u001b[0;34m)\u001b[0m\u001b[0;34m*\u001b[0m\u001b[0mbatch_size\u001b[0m\u001b[0;34m]\u001b[0m\u001b[0;34m.\u001b[0m\u001b[0mreshape\u001b[0m\u001b[0;34m(\u001b[0m\u001b[0;34m(\u001b[0m\u001b[0mbatch_size\u001b[0m\u001b[0;34m,\u001b[0m \u001b[0;36m1\u001b[0m\u001b[0;34m)\u001b[0m\u001b[0;34m)\u001b[0m\u001b[0;34m)\u001b[0m\u001b[0;34m.\u001b[0m\u001b[0mto\u001b[0m\u001b[0;34m(\u001b[0m\u001b[0mdevice\u001b[0m\u001b[0;34m)\u001b[0m\u001b[0;34m\u001b[0m\u001b[0;34m\u001b[0m\u001b[0m\n\u001b[1;32m     27\u001b[0m         \u001b[0mepoch_losses\u001b[0m\u001b[0;34m.\u001b[0m\u001b[0mappend\u001b[0m\u001b[0;34m(\u001b[0m\u001b[0mloss\u001b[0m\u001b[0;34m.\u001b[0m\u001b[0mitem\u001b[0m\u001b[0;34m(\u001b[0m\u001b[0;34m)\u001b[0m\u001b[0;34m)\u001b[0m\u001b[0;34m\u001b[0m\u001b[0;34m\u001b[0m\u001b[0m\n",
      "\u001b[0;32m~/miniconda3/envs/gwf/lib/python3.7/site-packages/torch/nn/modules/module.py\u001b[0m in \u001b[0;36m__call__\u001b[0;34m(self, *input, **kwargs)\u001b[0m\n\u001b[1;32m    491\u001b[0m             \u001b[0mresult\u001b[0m \u001b[0;34m=\u001b[0m \u001b[0mself\u001b[0m\u001b[0;34m.\u001b[0m\u001b[0m_slow_forward\u001b[0m\u001b[0;34m(\u001b[0m\u001b[0;34m*\u001b[0m\u001b[0minput\u001b[0m\u001b[0;34m,\u001b[0m \u001b[0;34m**\u001b[0m\u001b[0mkwargs\u001b[0m\u001b[0;34m)\u001b[0m\u001b[0;34m\u001b[0m\u001b[0;34m\u001b[0m\u001b[0m\n\u001b[1;32m    492\u001b[0m         \u001b[0;32melse\u001b[0m\u001b[0;34m:\u001b[0m\u001b[0;34m\u001b[0m\u001b[0;34m\u001b[0m\u001b[0m\n\u001b[0;32m--> 493\u001b[0;31m             \u001b[0mresult\u001b[0m \u001b[0;34m=\u001b[0m \u001b[0mself\u001b[0m\u001b[0;34m.\u001b[0m\u001b[0mforward\u001b[0m\u001b[0;34m(\u001b[0m\u001b[0;34m*\u001b[0m\u001b[0minput\u001b[0m\u001b[0;34m,\u001b[0m \u001b[0;34m**\u001b[0m\u001b[0mkwargs\u001b[0m\u001b[0;34m)\u001b[0m\u001b[0;34m\u001b[0m\u001b[0;34m\u001b[0m\u001b[0m\n\u001b[0m\u001b[1;32m    494\u001b[0m         \u001b[0;32mfor\u001b[0m \u001b[0mhook\u001b[0m \u001b[0;32min\u001b[0m \u001b[0mself\u001b[0m\u001b[0;34m.\u001b[0m\u001b[0m_forward_hooks\u001b[0m\u001b[0;34m.\u001b[0m\u001b[0mvalues\u001b[0m\u001b[0;34m(\u001b[0m\u001b[0;34m)\u001b[0m\u001b[0;34m:\u001b[0m\u001b[0;34m\u001b[0m\u001b[0;34m\u001b[0m\u001b[0m\n\u001b[1;32m    495\u001b[0m             \u001b[0mhook_result\u001b[0m \u001b[0;34m=\u001b[0m \u001b[0mhook\u001b[0m\u001b[0;34m(\u001b[0m\u001b[0mself\u001b[0m\u001b[0;34m,\u001b[0m \u001b[0minput\u001b[0m\u001b[0;34m,\u001b[0m \u001b[0mresult\u001b[0m\u001b[0;34m)\u001b[0m\u001b[0;34m\u001b[0m\u001b[0;34m\u001b[0m\u001b[0m\n",
      "\u001b[0;32m~/runoff-nn/src/conv_lstm.py\u001b[0m in \u001b[0;36mforward\u001b[0;34m(self, conv_input, fc_input)\u001b[0m\n\u001b[1;32m    205\u001b[0m \u001b[0;34m\u001b[0m\u001b[0m\n\u001b[1;32m    206\u001b[0m     \u001b[0;32mdef\u001b[0m \u001b[0mforward\u001b[0m\u001b[0;34m(\u001b[0m\u001b[0mself\u001b[0m\u001b[0;34m,\u001b[0m \u001b[0mconv_input\u001b[0m\u001b[0;34m,\u001b[0m \u001b[0mfc_input\u001b[0m\u001b[0;34m)\u001b[0m\u001b[0;34m:\u001b[0m\u001b[0;34m\u001b[0m\u001b[0;34m\u001b[0m\u001b[0m\n\u001b[0;32m--> 207\u001b[0;31m         \u001b[0mlstm_out\u001b[0m\u001b[0;34m,\u001b[0m \u001b[0mhidden\u001b[0m \u001b[0;34m=\u001b[0m \u001b[0mself\u001b[0m\u001b[0;34m.\u001b[0m\u001b[0mconv_lstm\u001b[0m\u001b[0;34m(\u001b[0m\u001b[0mconv_input\u001b[0m\u001b[0;34m)\u001b[0m\u001b[0;34m\u001b[0m\u001b[0;34m\u001b[0m\u001b[0m\n\u001b[0m\u001b[1;32m    208\u001b[0m         \u001b[0mfc_in_conv\u001b[0m \u001b[0;34m=\u001b[0m \u001b[0mself\u001b[0m\u001b[0;34m.\u001b[0m\u001b[0mdropout\u001b[0m\u001b[0;34m(\u001b[0m\u001b[0mlstm_out\u001b[0m\u001b[0;34m[\u001b[0m\u001b[0;34m-\u001b[0m\u001b[0;36m1\u001b[0m\u001b[0;34m]\u001b[0m\u001b[0;34m[\u001b[0m\u001b[0;34m:\u001b[0m\u001b[0;34m,\u001b[0m\u001b[0;34m-\u001b[0m\u001b[0;36m1\u001b[0m\u001b[0;34m,\u001b[0m\u001b[0;34m:\u001b[0m\u001b[0;34m,\u001b[0m\u001b[0;34m:\u001b[0m\u001b[0;34m,\u001b[0m\u001b[0;34m:\u001b[0m\u001b[0;34m]\u001b[0m\u001b[0;34m)\u001b[0m\u001b[0;34m.\u001b[0m\u001b[0mreshape\u001b[0m\u001b[0;34m(\u001b[0m\u001b[0;34m(\u001b[0m\u001b[0mself\u001b[0m\u001b[0;34m.\u001b[0m\u001b[0mbatch_size\u001b[0m\u001b[0;34m,\u001b[0m \u001b[0;34m-\u001b[0m\u001b[0;36m1\u001b[0m\u001b[0;34m)\u001b[0m\u001b[0;34m)\u001b[0m\u001b[0;34m\u001b[0m\u001b[0;34m\u001b[0m\u001b[0m\n\u001b[1;32m    209\u001b[0m         \u001b[0mfc_in\u001b[0m \u001b[0;34m=\u001b[0m \u001b[0mtorch\u001b[0m\u001b[0;34m.\u001b[0m\u001b[0mcat\u001b[0m\u001b[0;34m(\u001b[0m\u001b[0;34m[\u001b[0m\u001b[0mfc_in_conv\u001b[0m\u001b[0;34m,\u001b[0m \u001b[0mfc_input\u001b[0m\u001b[0;34m]\u001b[0m\u001b[0;34m,\u001b[0m \u001b[0mdim\u001b[0m\u001b[0;34m=\u001b[0m\u001b[0;36m1\u001b[0m\u001b[0;34m)\u001b[0m\u001b[0;34m\u001b[0m\u001b[0;34m\u001b[0m\u001b[0m\n",
      "\u001b[0;32m~/miniconda3/envs/gwf/lib/python3.7/site-packages/torch/nn/modules/module.py\u001b[0m in \u001b[0;36m__call__\u001b[0;34m(self, *input, **kwargs)\u001b[0m\n\u001b[1;32m    491\u001b[0m             \u001b[0mresult\u001b[0m \u001b[0;34m=\u001b[0m \u001b[0mself\u001b[0m\u001b[0;34m.\u001b[0m\u001b[0m_slow_forward\u001b[0m\u001b[0;34m(\u001b[0m\u001b[0;34m*\u001b[0m\u001b[0minput\u001b[0m\u001b[0;34m,\u001b[0m \u001b[0;34m**\u001b[0m\u001b[0mkwargs\u001b[0m\u001b[0;34m)\u001b[0m\u001b[0;34m\u001b[0m\u001b[0;34m\u001b[0m\u001b[0m\n\u001b[1;32m    492\u001b[0m         \u001b[0;32melse\u001b[0m\u001b[0;34m:\u001b[0m\u001b[0;34m\u001b[0m\u001b[0;34m\u001b[0m\u001b[0m\n\u001b[0;32m--> 493\u001b[0;31m             \u001b[0mresult\u001b[0m \u001b[0;34m=\u001b[0m \u001b[0mself\u001b[0m\u001b[0;34m.\u001b[0m\u001b[0mforward\u001b[0m\u001b[0;34m(\u001b[0m\u001b[0;34m*\u001b[0m\u001b[0minput\u001b[0m\u001b[0;34m,\u001b[0m \u001b[0;34m**\u001b[0m\u001b[0mkwargs\u001b[0m\u001b[0;34m)\u001b[0m\u001b[0;34m\u001b[0m\u001b[0;34m\u001b[0m\u001b[0m\n\u001b[0m\u001b[1;32m    494\u001b[0m         \u001b[0;32mfor\u001b[0m \u001b[0mhook\u001b[0m \u001b[0;32min\u001b[0m \u001b[0mself\u001b[0m\u001b[0;34m.\u001b[0m\u001b[0m_forward_hooks\u001b[0m\u001b[0;34m.\u001b[0m\u001b[0mvalues\u001b[0m\u001b[0;34m(\u001b[0m\u001b[0;34m)\u001b[0m\u001b[0;34m:\u001b[0m\u001b[0;34m\u001b[0m\u001b[0;34m\u001b[0m\u001b[0m\n\u001b[1;32m    495\u001b[0m             \u001b[0mhook_result\u001b[0m \u001b[0;34m=\u001b[0m \u001b[0mhook\u001b[0m\u001b[0;34m(\u001b[0m\u001b[0mself\u001b[0m\u001b[0;34m,\u001b[0m \u001b[0minput\u001b[0m\u001b[0;34m,\u001b[0m \u001b[0mresult\u001b[0m\u001b[0;34m)\u001b[0m\u001b[0;34m\u001b[0m\u001b[0;34m\u001b[0m\u001b[0m\n",
      "\u001b[0;32m~/runoff-nn/src/conv_lstm.py\u001b[0m in \u001b[0;36mforward\u001b[0;34m(self, input_tensor, hidden_state)\u001b[0m\n\u001b[1;32m    150\u001b[0m \u001b[0;34m\u001b[0m\u001b[0m\n\u001b[1;32m    151\u001b[0m                 h, c = self.cell_list[2 * layer_idx](input_tensor=cur_layer_input[:, t, :, :, :],\n\u001b[0;32m--> 152\u001b[0;31m                                                      cur_state=[h, c])\n\u001b[0m\u001b[1;32m    153\u001b[0m                 \u001b[0moutput_inner\u001b[0m\u001b[0;34m.\u001b[0m\u001b[0mappend\u001b[0m\u001b[0;34m(\u001b[0m\u001b[0mself\u001b[0m\u001b[0;34m.\u001b[0m\u001b[0mcell_list\u001b[0m\u001b[0;34m[\u001b[0m\u001b[0;36m2\u001b[0m\u001b[0;34m*\u001b[0m\u001b[0mlayer_idx\u001b[0m\u001b[0;34m+\u001b[0m\u001b[0;36m1\u001b[0m\u001b[0;34m]\u001b[0m\u001b[0;34m(\u001b[0m\u001b[0mh\u001b[0m\u001b[0;34m)\u001b[0m\u001b[0;34m)\u001b[0m\u001b[0;34m\u001b[0m\u001b[0;34m\u001b[0m\u001b[0m\n\u001b[1;32m    154\u001b[0m \u001b[0;34m\u001b[0m\u001b[0m\n",
      "\u001b[0;32m~/miniconda3/envs/gwf/lib/python3.7/site-packages/torch/nn/modules/module.py\u001b[0m in \u001b[0;36m__call__\u001b[0;34m(self, *input, **kwargs)\u001b[0m\n\u001b[1;32m    491\u001b[0m             \u001b[0mresult\u001b[0m \u001b[0;34m=\u001b[0m \u001b[0mself\u001b[0m\u001b[0;34m.\u001b[0m\u001b[0m_slow_forward\u001b[0m\u001b[0;34m(\u001b[0m\u001b[0;34m*\u001b[0m\u001b[0minput\u001b[0m\u001b[0;34m,\u001b[0m \u001b[0;34m**\u001b[0m\u001b[0mkwargs\u001b[0m\u001b[0;34m)\u001b[0m\u001b[0;34m\u001b[0m\u001b[0;34m\u001b[0m\u001b[0m\n\u001b[1;32m    492\u001b[0m         \u001b[0;32melse\u001b[0m\u001b[0;34m:\u001b[0m\u001b[0;34m\u001b[0m\u001b[0;34m\u001b[0m\u001b[0m\n\u001b[0;32m--> 493\u001b[0;31m             \u001b[0mresult\u001b[0m \u001b[0;34m=\u001b[0m \u001b[0mself\u001b[0m\u001b[0;34m.\u001b[0m\u001b[0mforward\u001b[0m\u001b[0;34m(\u001b[0m\u001b[0;34m*\u001b[0m\u001b[0minput\u001b[0m\u001b[0;34m,\u001b[0m \u001b[0;34m**\u001b[0m\u001b[0mkwargs\u001b[0m\u001b[0;34m)\u001b[0m\u001b[0;34m\u001b[0m\u001b[0;34m\u001b[0m\u001b[0m\n\u001b[0m\u001b[1;32m    494\u001b[0m         \u001b[0;32mfor\u001b[0m \u001b[0mhook\u001b[0m \u001b[0;32min\u001b[0m \u001b[0mself\u001b[0m\u001b[0;34m.\u001b[0m\u001b[0m_forward_hooks\u001b[0m\u001b[0;34m.\u001b[0m\u001b[0mvalues\u001b[0m\u001b[0;34m(\u001b[0m\u001b[0;34m)\u001b[0m\u001b[0;34m:\u001b[0m\u001b[0;34m\u001b[0m\u001b[0;34m\u001b[0m\u001b[0m\n\u001b[1;32m    495\u001b[0m             \u001b[0mhook_result\u001b[0m \u001b[0;34m=\u001b[0m \u001b[0mhook\u001b[0m\u001b[0;34m(\u001b[0m\u001b[0mself\u001b[0m\u001b[0;34m,\u001b[0m \u001b[0minput\u001b[0m\u001b[0;34m,\u001b[0m \u001b[0mresult\u001b[0m\u001b[0;34m)\u001b[0m\u001b[0;34m\u001b[0m\u001b[0;34m\u001b[0m\u001b[0m\n",
      "\u001b[0;32m~/runoff-nn/src/conv_lstm.py\u001b[0m in \u001b[0;36mforward\u001b[0;34m(self, input_tensor, cur_state)\u001b[0m\n\u001b[1;32m     54\u001b[0m         \u001b[0mcombined\u001b[0m \u001b[0;34m=\u001b[0m \u001b[0mtorch\u001b[0m\u001b[0;34m.\u001b[0m\u001b[0mcat\u001b[0m\u001b[0;34m(\u001b[0m\u001b[0;34m[\u001b[0m\u001b[0minput_tensor\u001b[0m\u001b[0;34m,\u001b[0m \u001b[0mh_cur\u001b[0m\u001b[0;34m]\u001b[0m\u001b[0;34m,\u001b[0m \u001b[0mdim\u001b[0m\u001b[0;34m=\u001b[0m\u001b[0;36m1\u001b[0m\u001b[0;34m)\u001b[0m  \u001b[0;31m# concatenate along channel axis\u001b[0m\u001b[0;34m\u001b[0m\u001b[0;34m\u001b[0m\u001b[0m\n\u001b[1;32m     55\u001b[0m \u001b[0;34m\u001b[0m\u001b[0m\n\u001b[0;32m---> 56\u001b[0;31m         \u001b[0mcombined_conv\u001b[0m \u001b[0;34m=\u001b[0m \u001b[0mself\u001b[0m\u001b[0;34m.\u001b[0m\u001b[0mconv\u001b[0m\u001b[0;34m(\u001b[0m\u001b[0mcombined\u001b[0m\u001b[0;34m)\u001b[0m\u001b[0;34m\u001b[0m\u001b[0;34m\u001b[0m\u001b[0m\n\u001b[0m\u001b[1;32m     57\u001b[0m         \u001b[0mcc_i\u001b[0m\u001b[0;34m,\u001b[0m \u001b[0mcc_f\u001b[0m\u001b[0;34m,\u001b[0m \u001b[0mcc_o\u001b[0m\u001b[0;34m,\u001b[0m \u001b[0mcc_g\u001b[0m \u001b[0;34m=\u001b[0m \u001b[0mtorch\u001b[0m\u001b[0;34m.\u001b[0m\u001b[0msplit\u001b[0m\u001b[0;34m(\u001b[0m\u001b[0mcombined_conv\u001b[0m\u001b[0;34m,\u001b[0m \u001b[0mself\u001b[0m\u001b[0;34m.\u001b[0m\u001b[0mhidden_dim\u001b[0m\u001b[0;34m,\u001b[0m \u001b[0mdim\u001b[0m\u001b[0;34m=\u001b[0m\u001b[0;36m1\u001b[0m\u001b[0;34m)\u001b[0m\u001b[0;34m\u001b[0m\u001b[0;34m\u001b[0m\u001b[0m\n\u001b[1;32m     58\u001b[0m         \u001b[0mi\u001b[0m \u001b[0;34m=\u001b[0m \u001b[0mtorch\u001b[0m\u001b[0;34m.\u001b[0m\u001b[0msigmoid\u001b[0m\u001b[0;34m(\u001b[0m\u001b[0mcc_i\u001b[0m\u001b[0;34m)\u001b[0m\u001b[0;34m\u001b[0m\u001b[0;34m\u001b[0m\u001b[0m\n",
      "\u001b[0;32m~/miniconda3/envs/gwf/lib/python3.7/site-packages/torch/nn/modules/module.py\u001b[0m in \u001b[0;36m__call__\u001b[0;34m(self, *input, **kwargs)\u001b[0m\n\u001b[1;32m    491\u001b[0m             \u001b[0mresult\u001b[0m \u001b[0;34m=\u001b[0m \u001b[0mself\u001b[0m\u001b[0;34m.\u001b[0m\u001b[0m_slow_forward\u001b[0m\u001b[0;34m(\u001b[0m\u001b[0;34m*\u001b[0m\u001b[0minput\u001b[0m\u001b[0;34m,\u001b[0m \u001b[0;34m**\u001b[0m\u001b[0mkwargs\u001b[0m\u001b[0;34m)\u001b[0m\u001b[0;34m\u001b[0m\u001b[0;34m\u001b[0m\u001b[0m\n\u001b[1;32m    492\u001b[0m         \u001b[0;32melse\u001b[0m\u001b[0;34m:\u001b[0m\u001b[0;34m\u001b[0m\u001b[0;34m\u001b[0m\u001b[0m\n\u001b[0;32m--> 493\u001b[0;31m             \u001b[0mresult\u001b[0m \u001b[0;34m=\u001b[0m \u001b[0mself\u001b[0m\u001b[0;34m.\u001b[0m\u001b[0mforward\u001b[0m\u001b[0;34m(\u001b[0m\u001b[0;34m*\u001b[0m\u001b[0minput\u001b[0m\u001b[0;34m,\u001b[0m \u001b[0;34m**\u001b[0m\u001b[0mkwargs\u001b[0m\u001b[0;34m)\u001b[0m\u001b[0;34m\u001b[0m\u001b[0;34m\u001b[0m\u001b[0m\n\u001b[0m\u001b[1;32m    494\u001b[0m         \u001b[0;32mfor\u001b[0m \u001b[0mhook\u001b[0m \u001b[0;32min\u001b[0m \u001b[0mself\u001b[0m\u001b[0;34m.\u001b[0m\u001b[0m_forward_hooks\u001b[0m\u001b[0;34m.\u001b[0m\u001b[0mvalues\u001b[0m\u001b[0;34m(\u001b[0m\u001b[0;34m)\u001b[0m\u001b[0;34m:\u001b[0m\u001b[0;34m\u001b[0m\u001b[0;34m\u001b[0m\u001b[0m\n\u001b[1;32m    495\u001b[0m             \u001b[0mhook_result\u001b[0m \u001b[0;34m=\u001b[0m \u001b[0mhook\u001b[0m\u001b[0;34m(\u001b[0m\u001b[0mself\u001b[0m\u001b[0;34m,\u001b[0m \u001b[0minput\u001b[0m\u001b[0;34m,\u001b[0m \u001b[0mresult\u001b[0m\u001b[0;34m)\u001b[0m\u001b[0;34m\u001b[0m\u001b[0;34m\u001b[0m\u001b[0m\n",
      "\u001b[0;32m~/miniconda3/envs/gwf/lib/python3.7/site-packages/torch/nn/modules/conv.py\u001b[0m in \u001b[0;36mforward\u001b[0;34m(self, input)\u001b[0m\n\u001b[1;32m    336\u001b[0m                             _pair(0), self.dilation, self.groups)\n\u001b[1;32m    337\u001b[0m         return F.conv2d(input, self.weight, self.bias, self.stride,\n\u001b[0;32m--> 338\u001b[0;31m                         self.padding, self.dilation, self.groups)\n\u001b[0m\u001b[1;32m    339\u001b[0m \u001b[0;34m\u001b[0m\u001b[0m\n\u001b[1;32m    340\u001b[0m \u001b[0;34m\u001b[0m\u001b[0m\n",
      "\u001b[0;31mKeyboardInterrupt\u001b[0m: "
     ]
    }
   ],
   "source": [
    "for epoch in range(num_epochs):\n",
    "    epoch_losses = []\n",
    "\n",
    "    # Shuffle train dates\n",
    "    shuffle_indices = np.random.choice(x_conv_train.shape[1], size=x_conv_train.shape[1], replace=False)\n",
    "    x_conv_train = x_conv_train[:,shuffle_indices,:,:,:]\n",
    "    x_fc_train_tmp = torch.empty((0, x_fc_train.shape[1]), device=device)\n",
    "    y_train_tmp = torch.empty(0, device=device)\n",
    "    for i in shuffle_indices:\n",
    "        start_idx = sum(samples_per_date_train[:i])\n",
    "        end_idx = start_idx + samples_per_date_train[i]\n",
    "        x_fc_train_tmp = torch.cat([x_fc_train_tmp, x_fc_train[start_idx:end_idx,:]], dim=0)\n",
    "        y_train_tmp = torch.cat([y_train_tmp, y_train[start_idx:end_idx]])\n",
    "    \n",
    "    samples_per_date_train = samples_per_date_train[shuffle_indices]\n",
    "    x_fc_train = x_fc_train_tmp\n",
    "    y_train = y_train_tmp\n",
    "    del x_fc_train_tmp, y_train_tmp\n",
    "\n",
    "    model.train()\n",
    "    conv_idx = 0\n",
    "    samples_done = 0\n",
    "    for i in range(y_train.shape[0] // batch_size):\n",
    "        x_conv_in, conv_idx, samples_done = expand_x_conv(x_conv_train, conv_idx, samples_done, samples_per_date_train, batch_size)\n",
    "        y_pred = model(x_conv_in[:,:batch_size,:,:,:], x_fc_train[i*batch_size : (i+1)*batch_size,:])\n",
    "        loss = loss_fn(y_pred, y_train[i*batch_size : (i+1)*batch_size].reshape((batch_size, 1))).to(device)\n",
    "        epoch_losses.append(loss.item())\n",
    "\n",
    "        optimizer.zero_grad()\n",
    "        loss.backward()\n",
    "        optimizer.step()\n",
    "    epoch_loss = np.array(epoch_losses).mean()\n",
    "    print('Epoch', epoch, 'mean train loss:\\t{}'.format(epoch_loss))\n",
    "    writer.add_scalar('loss', epoch_loss, epoch)\n",
    "\n",
    "    # eval on validation split\n",
    "    model.eval()\n",
    "    val_pred = pd.Series()\n",
    "    conv_idx = 0\n",
    "    samples_done = 0\n",
    "    for i in range(y_val.shape[0] // batch_size):\n",
    "        x_conv_in, conv_idx, samples_done = expand_x_conv(x_conv_val, conv_idx, samples_done, samples_per_date_val, batch_size)\n",
    "        batch_pred = model(x_conv_in[:,:batch_size,:,:,:], x_fc_val[i*batch_size : (i+1)*batch_size,:]).detach().cpu().numpy()\n",
    "        val_pred = val_pred.append(pd.DataFrame(batch_pred))\n",
    "    model.train()\n",
    "    val_nse, val_mse = evaluate.evaluate_daily('All Stations', pd.DataFrame(val_pred.values.flatten()), pd.Series(y_val.cpu().numpy().flatten())[:val_pred.shape[0]*val_pred.shape[1]])\n",
    "    print('Epoch {} mean val mse:    \\t{},\\tnse: {}'.format(epoch, val_mse, val_nse))\n",
    "    writer.add_scalar('loss_eval', val_mse, epoch)\n",
    "\n",
    "    if val_mse < best_loss_model[1] - min_improvement:\n",
    "        best_loss_model = (epoch, val_mse, model.state_dict())  # new best model\n",
    "    elif epoch > best_loss_model[0] + patience:\n",
    "        print('Patience exhausted in epoch {}. Best val-loss was {}'.format(epoch, best_loss_model[1]))\n",
    "        break\n",
    "\n",
    "print('Using best model from epoch', str(best_loss_model[0]), 'which had loss', str(best_loss_model[1]))\n",
    "model.load_state_dict(best_loss_model[2])\n",
    "load_data.pickle_model('ConvLSTM+LinearLayer_VIC', model, 'allStations', time_stamp)\n",
    "\n",
    "del x_conv_in, x_conv_train, x_fc_train, x_conv_val, x_fc_val, y_pred"
   ]
  },
  {
   "cell_type": "code",
   "execution_count": null,
   "metadata": {},
   "outputs": [],
   "source": [
    "model.eval()\n",
    "\n",
    "# scale test data\n",
    "x_conv_test = x_conv[:,num_train_dates:,:,:,:].copy()\n",
    "for i in range(x_conv.shape[2]):\n",
    "    x_conv_test[:,:,i,:,:] = np.nan_to_num(conv_scalers[i].transform(x_conv_test[:,:,i,:,:].reshape((-1, 1))).reshape(x_conv_test[:,:,i,:,:].shape))\n",
    "x_fc_test = x_fc[num_train_samples:,:].copy()\n",
    "for i in range(x_fc.shape[1]):\n",
    "    x_fc_test[:,i] = np.nan_to_num(fc_scalers[i].transform(x_fc_test[:,i].reshape((-1,1))).reshape(x_fc_test[:,i].shape))\n",
    "    \n",
    "print('x_conv_test shape: {}, x_fc_test shape: {}'.format(x_conv_test.shape, x_fc_test.shape))\n",
    "# if batch size doesn't align with number of samples, add dummies to the last batch\n",
    "num_dummies = batch_size - (x_fc_test.shape[0] % batch_size)\n",
    "if num_dummies != batch_size:\n",
    "    x_fc_test = np.concatenate([x_fc_test, np.zeros((num_dummies, x_fc_test.shape[1]))], axis=0)\n",
    "    print('Appended {} dummy entries to x_test. New shape: x_fc_test {}'.format(num_dummies, x_fc_test.shape))\n",
    "\n",
    "# Predict\n",
    "x_conv_test = torch.from_numpy(x_conv_test).float().to(device)\n",
    "x_fc_test = torch.from_numpy(x_fc_test).float().to(device)\n",
    "predict = data_runoff[(data_runoff['date'] >= test_start) & (data_runoff['date'] <= test_end)].copy()\n",
    "predict['runoff'] = np.nan\n",
    "pred_array = np.array([])\n",
    "print('Predicting')\n",
    "\n",
    "conv_idx = 0\n",
    "samples_done = 0\n",
    "for i in range(x_fc_test.shape[0] // batch_size):\n",
    "    x_conv_in, conv_idx, samples_done = expand_x_conv(x_conv_test, conv_idx, samples_done, samples_per_date_test, batch_size)\n",
    "    pred_array = np.concatenate([pred_array, model(x_conv_in[:,:batch_size,:,:,:], x_fc_test[i*batch_size : (i+1)*batch_size,:]).detach().cpu().numpy().reshape(batch_size)])\n",
    "predict['runoff'] = pred_array[:predict.shape[0]]  # ignore dummies"
   ]
  },
  {
   "cell_type": "code",
   "execution_count": null,
   "metadata": {
    "scrolled": true
   },
   "outputs": [],
   "source": [
    "actuals = data_runoff[(data_runoff['date'] >= test_start) & (data_runoff['date'] <= test_end)].copy()\n",
    "\n",
    "nse_list = []\n",
    "mse_list = []\n",
    "for station in predict['station'].unique():\n",
    "    nse, mse = evaluate.evaluate_daily(station, predict[predict['station'] == station]['runoff'], actuals[actuals['station'] == station]['runoff'], writer=writer)\n",
    "    nse_list.append(nse)\n",
    "    mse_list.append(mse)\n",
    "    \n",
    "    print(station, '\\tNSE:', nse, '\\tMSE:', mse, '(clipped to 0)')\n",
    "\n",
    "print('Median NSE (clipped to 0)', np.median(nse_list), '/ Min', np.min(nse_list), '/ Max', np.max(nse_list))\n",
    "print('Median MSE (clipped to 0)', np.median(mse_list), '/ Min', np.min(mse_list), '/ Max', np.max(mse_list))"
   ]
  },
  {
   "cell_type": "code",
   "execution_count": 14,
   "metadata": {},
   "outputs": [],
   "source": [
    "writer.close()"
   ]
  },
  {
   "cell_type": "code",
   "execution_count": 156,
   "metadata": {},
   "outputs": [
    {
     "data": {
      "text/plain": [
       "'ConvLSTM+LinearLayer_VIC_20190718-123412.pkl'"
      ]
     },
     "execution_count": 156,
     "metadata": {},
     "output_type": "execute_result"
    }
   ],
   "source": [
    "save_df = pd.merge(predict.rename({'runoff': 'prediction'}, axis=1), actuals.rename({'runoff': 'actual'}, axis=1), on=['date', 'station'])[['date', 'station', 'prediction', 'actual']]\n",
    "\n",
    "load_data.pickle_results('ConvLSTM+LinearLayer_VIC', save_df, time_stamp)"
   ]
  },
  {
   "cell_type": "code",
   "execution_count": 157,
   "metadata": {},
   "outputs": [
    {
     "data": {
      "text/plain": [
       "'20190718-143116'"
      ]
     },
     "execution_count": 157,
     "metadata": {},
     "output_type": "execute_result"
    }
   ],
   "source": [
    "datetime.now().strftime('%Y%m%d-%H%M%S')"
   ]
  },
  {
   "cell_type": "code",
   "execution_count": null,
   "metadata": {},
   "outputs": [],
   "source": []
  }
 ],
 "metadata": {
  "kernelspec": {
   "display_name": "Python 3",
   "language": "python",
   "name": "python3"
  },
  "language_info": {
   "codemirror_mode": {
    "name": "ipython",
    "version": 3
   },
   "file_extension": ".py",
   "mimetype": "text/x-python",
   "name": "python",
   "nbconvert_exporter": "python",
   "pygments_lexer": "ipython3",
   "version": "3.7.3"
  }
 },
 "nbformat": 4,
 "nbformat_minor": 4
}
